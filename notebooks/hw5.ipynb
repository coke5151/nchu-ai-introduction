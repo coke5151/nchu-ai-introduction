{
 "cells": [
  {
   "cell_type": "markdown",
   "metadata": {
    "id": "ki8yyTEJD1dp"
   },
   "source": [
    "# Summary"
   ]
  },
  {
   "cell_type": "markdown",
   "metadata": {},
   "source": [
    "本次 HW5 作業的要求是在不使用 PyTorch 及 TensorFlow 等深度學習框架的前提下，使用 Numpy/Cupy 從零開始建構一個循環神經網路 (Recurrent Neural Network, RNN)，並用其來分類 MNIST 資料集。作業的核心挑戰在於手動實作隨時間反向傳播 (BPTT) 演算法，並將通常用於序列資料的 RNN 模型，創新地應用於處理圖片（像素列的序列）。\n",
    "\n",
    "我在實作過程中遇到了梯度消失 (Vanishing Gradients) 導致模型訓練停滯的問題，透過改用 Xavier 權重初始化方法成功解決，這也加深了我對神經網路訓練穩定性的理解。\n",
    "\n",
    "最終，在 MNIST 資料集上，模型達到了 97.72% 的高準確率。我同時也完成了各項性能計算（精確率、召回率）、繪製混淆矩陣與學習曲線，並加入了提早停止 (Early Stopping) 機制來防止過擬合。\n",
    "\n",
    "作為加分挑戰，我也將此 RNN 模型應用於更複雜的 CIFAR-10 彩色圖片資料集。在這個更具挑戰性的任務上，模型取得了 52.79% 的準確率，並同樣完成了相關的性能評估。\n",
    "\n",
    "其餘詳細的性能分析、與 CNN 模型的比較，以及本次作業的心得，在檔案最後 Conclusion 的部分有詳盡的闡述。"
   ]
  },
  {
   "cell_type": "markdown",
   "metadata": {
    "id": "vg5iDUEpt7we"
   },
   "source": [
    "# Step 0: 環境設定"
   ]
  },
  {
   "cell_type": "code",
   "execution_count": 1,
   "metadata": {
    "id": "IiTn_wmyUYw_"
   },
   "outputs": [],
   "source": [
    "import numpy as np\n",
    "import time\n",
    "import copy\n",
    "import matplotlib.pyplot as plt\n",
    "import seaborn as sns"
   ]
  },
  {
   "cell_type": "markdown",
   "metadata": {
    "id": "6ClZmZYQt9zV"
   },
   "source": [
    "# Step 1: 下載並預處理資料"
   ]
  },
  {
   "cell_type": "markdown",
   "metadata": {
    "id": "cUT_Lq3CvY-6"
   },
   "source": [
    "## Step 1-1: 下載 MNIST\n",
    "\n",
    "（延用 HW3 和 HW4 的程式）"
   ]
  },
  {
   "cell_type": "code",
   "execution_count": 2,
   "metadata": {
    "id": "XZ-zCeoRt5jF"
   },
   "outputs": [],
   "source": [
    "# 延用 HW3 和 HW4 中下載 mnist 的程式\n",
    "def get_mnist():\n",
    "    \"\"\"\n",
    "    The code to download the mnist data original came from\n",
    "    https://cntk.ai/pythondocs/CNTK_103A_MNIST_DataLoader.html\n",
    "    \"\"\"\n",
    "\n",
    "    import gzip\n",
    "    import numpy as np\n",
    "    import os\n",
    "    import struct\n",
    "\n",
    "    from urllib.request import urlretrieve\n",
    "\n",
    "    def load_data(src, num_samples):\n",
    "        print(\"Downloading \" + src)\n",
    "        gzfname, h = urlretrieve(src, \"./delete.me\")\n",
    "        print(\"Done.\")\n",
    "        try:\n",
    "            with gzip.open(gzfname) as gz:\n",
    "                n = struct.unpack(\"I\", gz.read(4))\n",
    "                # Read magic number.\n",
    "                if n[0] != 0x3080000:\n",
    "                    raise Exception(\"Invalid file: unexpected magic number.\")\n",
    "                # Read number of entries.\n",
    "                n = struct.unpack(\">I\", gz.read(4))[0]\n",
    "                if n != num_samples:\n",
    "                    raise Exception(f\"Invalid file: expected {num_samples} entries.\")\n",
    "                crow = struct.unpack(\">I\", gz.read(4))[0]\n",
    "                ccol = struct.unpack(\">I\", gz.read(4))[0]\n",
    "                if crow != 28 or ccol != 28:\n",
    "                    raise Exception(\"Invalid file: expected 28 rows/cols per image.\")\n",
    "                # Read data.\n",
    "                res = np.frombuffer(gz.read(num_samples * crow * ccol), dtype=np.uint8)\n",
    "        finally:\n",
    "            os.remove(gzfname)\n",
    "        # 這次我們不在這裡做 normalize，留到 CuPy 陣列處理\n",
    "        return res.reshape((num_samples, crow, ccol))\n",
    "\n",
    "    def load_labels(src, num_samples):\n",
    "        print(\"Downloading \" + src)\n",
    "        gzfname, h = urlretrieve(src, \"./delete.me\")\n",
    "        print(\"Done.\")\n",
    "        try:\n",
    "            with gzip.open(gzfname) as gz:\n",
    "                n = struct.unpack(\"I\", gz.read(4))\n",
    "                # Read magic number.\n",
    "                if n[0] != 0x1080000:\n",
    "                    raise Exception(\"Invalid file: unexpected magic number.\")\n",
    "                # Read number of entries.\n",
    "                n = struct.unpack(\">I\", gz.read(4))\n",
    "                if n[0] != num_samples:\n",
    "                    raise Exception(f\"Invalid file: expected {num_samples} rows.\")\n",
    "                # Read labels.\n",
    "                res = np.frombuffer(gz.read(num_samples), dtype=np.uint8)\n",
    "        finally:\n",
    "            os.remove(gzfname)\n",
    "        return res.reshape(num_samples)\n",
    "\n",
    "    def try_download(data_source, label_source, num_samples):\n",
    "        data = load_data(data_source, num_samples)\n",
    "        labels = load_labels(label_source, num_samples)\n",
    "        return data, labels\n",
    "\n",
    "    server = \"https://raw.githubusercontent.com/fgnt/mnist/master\"\n",
    "\n",
    "    # URLs for the train image and label data\n",
    "    url_train_image = f\"{server}/train-images-idx3-ubyte.gz\"\n",
    "    url_train_labels = f\"{server}/train-labels-idx1-ubyte.gz\"\n",
    "    num_train_samples = 60000\n",
    "\n",
    "    print(\"Downloading train data\")\n",
    "    train_features, train_labels = try_download(url_train_image, url_train_labels, num_train_samples)\n",
    "\n",
    "    # URLs for the test image and label data\n",
    "    url_test_image = f\"{server}/t10k-images-idx3-ubyte.gz\"\n",
    "    url_test_labels = f\"{server}/t10k-labels-idx1-ubyte.gz\"\n",
    "    num_test_samples = 10000\n",
    "\n",
    "    print(\"Downloading test data\")\n",
    "    test_features, test_labels = try_download(url_test_image, url_test_labels, num_test_samples)\n",
    "\n",
    "    return train_features, train_labels, test_features, test_labels"
   ]
  },
  {
   "cell_type": "code",
   "execution_count": 3,
   "metadata": {
    "colab": {
     "base_uri": "https://localhost:8080/"
    },
    "id": "WZJjt9Ssulji",
    "outputId": "3dd6880d-e0a9-4d6c-c8d2-664c6de2ac6a"
   },
   "outputs": [
    {
     "name": "stdout",
     "output_type": "stream",
     "text": [
      "Downloading train data\n",
      "Downloading https://raw.githubusercontent.com/fgnt/mnist/master/train-images-idx3-ubyte.gz\n",
      "Done.\n",
      "Downloading https://raw.githubusercontent.com/fgnt/mnist/master/train-labels-idx1-ubyte.gz\n",
      "Done.\n",
      "Downloading test data\n",
      "Downloading https://raw.githubusercontent.com/fgnt/mnist/master/t10k-images-idx3-ubyte.gz\n",
      "Done.\n",
      "Downloading https://raw.githubusercontent.com/fgnt/mnist/master/t10k-labels-idx1-ubyte.gz\n",
      "Done.\n"
     ]
    }
   ],
   "source": [
    "train_features_np, train_labels_np, test_features_np, test_labels_np = get_mnist()"
   ]
  },
  {
   "cell_type": "markdown",
   "metadata": {
    "id": "Su-P-dGXvx2E"
   },
   "source": [
    "## Step 1-2: Reshape and Normalize"
   ]
  },
  {
   "cell_type": "code",
   "execution_count": 4,
   "metadata": {
    "id": "SUfHv3mFunhH"
   },
   "outputs": [],
   "source": [
    "# 這次我們不需要像 CNN 那樣增加一個 channel 維度\n",
    "# shape 本身 (num_samples, 28, 28) 就已經符合 RNN (num_samples, timesteps, features) 的要求\n",
    "\n",
    "# 引入 Cupy\n",
    "import cupy as cp\n",
    "\n",
    "# 使用 cp.asarray() 將所有資料從 CPU memory 移至 GPU memory\n",
    "train_x_cp = cp.asarray(train_features_np)\n",
    "train_y_cp_orig = cp.asarray(train_labels_np)\n",
    "test_x_cp = cp.asarray(test_features_np)\n",
    "test_y_cp_orig = cp.asarray(test_labels_np)\n",
    "\n",
    "# --- 資料正規化 (在 Cupy 陣列上進行) ---\n",
    "# 將像素值從 0-255 正規化到 0-1 之間\n",
    "train_x = train_x_cp / 255.0\n",
    "test_x = test_x_cp / 255.0"
   ]
  },
  {
   "cell_type": "markdown",
   "metadata": {
    "id": "4v0Pst-RwMSf"
   },
   "source": [
    "## Step 1-3: 對 Label 進行 One-Hot Encode\n",
    "\n",
    "這一步和上次作業完全相同，我們要將數字標籤 (如 5) 轉換成向量 `[0, 0, 0, 0, 0, 1, 0, 0, 0, 0]`，方便後續用 Cross-Entropy 計算損失。"
   ]
  },
  {
   "cell_type": "code",
   "execution_count": 5,
   "metadata": {
    "id": "jjeOVZUVvTDZ"
   },
   "outputs": [],
   "source": [
    "# --- 對 Label 進行 One-Hot Encode ---\n",
    "def one_hot_encode(labels, num_classes):\n",
    "    one_hot = cp.zeros((labels.size, num_classes))\n",
    "    one_hot[cp.arange(labels.size), labels] = 1\n",
    "    return one_hot"
   ]
  },
  {
   "cell_type": "code",
   "execution_count": 6,
   "metadata": {
    "colab": {
     "base_uri": "https://localhost:8080/"
    },
    "id": "VwI5KhE8zrvc",
    "outputId": "185a54df-74a2-4151-ada6-884b1ce928a3"
   },
   "outputs": [
    {
     "name": "stdout",
     "output_type": "stream",
     "text": [
      "--- Shapes and Types of CuPy arrays for RNN ---\n",
      "train_x.shape: (60000, 28, 28)\n",
      "train_y.shape: (60000, 10)\n",
      "type of train_x: <class 'cupy.ndarray'>\n",
      "type of train_y: <class 'cupy.ndarray'>\n"
     ]
    }
   ],
   "source": [
    "# 我們的類別是數字 0-9，所以有 10 個類別\n",
    "num_classes = 10\n",
    "train_y = one_hot_encode(train_y_cp_orig, num_classes)\n",
    "test_y = one_hot_encode(test_y_cp_orig, num_classes)\n",
    "\n",
    "\n",
    "# --- 驗證一下 shape 和 type ---\n",
    "print(\"--- Shapes and Types of CuPy arrays for RNN ---\")\n",
    "print(\"train_x.shape:\", train_x.shape)\n",
    "print(\"train_y.shape:\", train_y.shape)\n",
    "print(\"type of train_x:\", type(train_x))\n",
    "print(\"type of train_y:\", type(train_y))"
   ]
  },
  {
   "cell_type": "markdown",
   "metadata": {
    "id": "MRiNBok20KJH"
   },
   "source": [
    "# Step 2: 實作 RNN"
   ]
  },
  {
   "cell_type": "markdown",
   "metadata": {
    "id": "oSKSKKvx1rQV"
   },
   "source": [
    "## Step 2-1: 初始化權重"
   ]
  },
  {
   "cell_type": "markdown",
   "metadata": {
    "id": "meQVvAo90dgu"
   },
   "source": [
    "初始化 RNN 的權重與偏置\n",
    "\n",
    "參數:\n",
    "\n",
    "- `n_x` -- 輸入層的特徵維度 (在 MNIST 中是 28)\n",
    "- `n_a` -- 隱藏層的神經元數量 (一個超參數，我們先設為 128)\n",
    "- `n_y` -- 輸出層的類別數量 (在 MNIST 中是 10)\n",
    "\n",
    "Return:\n",
    "\n",
    "- `parameters` -- 一個包含所有權重與 bias 的 Python dict"
   ]
  },
  {
   "cell_type": "code",
   "execution_count": 7,
   "metadata": {
    "id": "7GXV-9WQzuAL"
   },
   "outputs": [],
   "source": [
    "def initialize_parameters_rnn(n_x, n_a, n_y):\n",
    "    cp.random.seed(42)\n",
    "\n",
    "    # 使用 np.random.randn 創建常態分佈的隨機權重，並乘以 0.01 讓初始權重較小\n",
    "    W_ax = cp.random.randn(n_a, n_x) * cp.sqrt(1/n_x)\n",
    "    W_aa = cp.random.randn(n_a, n_a) * cp.sqrt(1/n_a)\n",
    "    W_ya = cp.random.randn(n_y, n_a) * cp.sqrt(1/n_a)\n",
    "\n",
    "    # 初始化偏置為 0\n",
    "    b_a = cp.zeros((n_a, 1))\n",
    "    b_y = cp.zeros((n_y, 1))\n",
    "\n",
    "    parameters = {\n",
    "        \"W_ax\": W_ax,\n",
    "        \"W_aa\": W_aa,\n",
    "        \"W_ya\": W_ya,\n",
    "        \"b_a\": b_a,\n",
    "        \"b_y\": b_y\n",
    "    }\n",
    "\n",
    "    return parameters"
   ]
  },
  {
   "cell_type": "code",
   "execution_count": 8,
   "metadata": {
    "colab": {
     "base_uri": "https://localhost:8080/"
    },
    "id": "zdJsRrAB0ixg",
    "outputId": "4275a852-b04b-4220-b2e0-44dc56367b67"
   },
   "outputs": [
    {
     "name": "stdout",
     "output_type": "stream",
     "text": [
      "--- Parameter Shapes ---\n",
      "W_ax Shape: (128, 28)\n",
      "W_aa Shape: (128, 128)\n",
      "W_ya Shape: (10, 128)\n",
      "b_a Shape:  (128, 1)\n",
      "b_y Shape:  (10, 1)\n"
     ]
    }
   ],
   "source": [
    "# 設定 RNN 的維度\n",
    "n_x = 28    # 每個時間步的輸入特徵數 (一張圖片的一列有 28 個像素)\n",
    "n_a = 128    # 隱藏層的神經元數 (可以調整的超參數)\n",
    "n_y = 10    # 輸出層的類別數\n",
    "\n",
    "# 初始化參數並檢查維度\n",
    "parameters = initialize_parameters_rnn(n_x, n_a, n_y)\n",
    "\n",
    "print(\"--- Parameter Shapes ---\")\n",
    "print(\"W_ax Shape: \" + str(parameters[\"W_ax\"].shape))\n",
    "print(\"W_aa Shape: \" + str(parameters[\"W_aa\"].shape))\n",
    "print(\"W_ya Shape: \" + str(parameters[\"W_ya\"].shape))\n",
    "print(\"b_a Shape:  \" + str(parameters[\"b_a\"].shape))\n",
    "print(\"b_y Shape:  \" + str(parameters[\"b_y\"].shape))"
   ]
  },
  {
   "cell_type": "markdown",
   "metadata": {
    "id": "HTHs8nbY1tr5"
   },
   "source": [
    "## Step 2-2: 實作前向傳播"
   ]
  },
  {
   "cell_type": "markdown",
   "metadata": {
    "id": "F0RKROyk13kP"
   },
   "source": [
    "實作單一時間步的 RNN Cell 前向傳播\n",
    "\n",
    "參數:\n",
    "\n",
    "- `xt` -- 在時間點 t 的輸入資料, shape (m, n_x)，m 是批次大小\n",
    "- `a_prev` -- 在時間點 t-1 的隱藏狀態, shape (m, n_a)\n",
    "- `parameters` -- 包含權重的字典\n",
    "\n",
    "Return:\n",
    "\n",
    "- `a_next` -- 下一個隱藏狀態, shape (m, n_a)\n",
    "- `cache` -- 用於反向傳播的快取，包含 (a_next, a_prev, xt, parameters)"
   ]
  },
  {
   "cell_type": "code",
   "execution_count": 9,
   "metadata": {
    "id": "ONmO82Yw0oAL"
   },
   "outputs": [],
   "source": [
    "def rnn_cell_forward(xt, a_prev, parameters):\n",
    "    # 從字典中取出權重\n",
    "    W_aa = parameters['W_aa']\n",
    "    W_ax = parameters['W_ax']\n",
    "    b_a = parameters['b_a']\n",
    "\n",
    "    # 計算下一個隱藏狀態\n",
    "    # 這裡的矩陣乘法 @ 和 bias的加法，Numpy 會透過廣播 (Broadcasting) 機制自動處理 batch\n",
    "    # (m, n_a) = (m, n_a) @ (n_a, n_a).T + (m, n_x) @ (n_x, n_a).T + (1, n_a)\n",
    "    a_next = cp.tanh(cp.dot(a_prev, W_aa.T) + cp.dot(xt, W_ax.T) + b_a.T)\n",
    "\n",
    "    # 儲存反向傳播所需的數值\n",
    "    cache = (a_next, a_prev, xt, parameters)\n",
    "\n",
    "    return a_next, cache"
   ]
  },
  {
   "cell_type": "markdown",
   "metadata": {
    "id": "J_kOtIip2MyU"
   },
   "source": [
    "### Step 2-2-2: 完整序列前向傳播"
   ]
  },
  {
   "cell_type": "markdown",
   "metadata": {
    "id": "-H2tzSmH2WBp"
   },
   "source": [
    "計算 Softmax\n",
    "\n",
    "參數:\n",
    "\n",
    "- `z` -- 輸出層的線性輸出, shape (m, n_y)\n",
    "\n",
    "Return:\n",
    "\n",
    "- `y_pred` -- Softmax 激活後的機率, shape (m, n_y)"
   ]
  },
  {
   "cell_type": "code",
   "execution_count": 10,
   "metadata": {
    "id": "vphXgV1z2KdL"
   },
   "outputs": [],
   "source": [
    "def softmax(z):\n",
    "    # 為了數值穩定性，先減去 z 中的最大值\n",
    "    e_z = cp.exp(z - cp.max(z, axis=1, keepdims=True))\n",
    "    return e_z / cp.sum(e_z, axis=1, keepdims=True)"
   ]
  },
  {
   "cell_type": "markdown",
   "metadata": {
    "id": "g7br4VOn2fCz"
   },
   "source": [
    "實作完整 RNN 的前向傳播\n",
    "\n",
    "參數:\n",
    "\n",
    "- `x` -- 輸入的資料序列, shape (m, T_x, n_x) -> (批次大小, 時間步長, 特徵維度)\n",
    "- `a0` -- 初始的隱藏狀態, shape (m, n_a)\n",
    "- `parameters` -- 包含權重的字典\n",
    "\n",
    "Return:\n",
    "\n",
    "- `y_pred` -- 最終的預測機率, shape (m, n_y)\n",
    "- `caches` -- 包含所有時間步快取的列表，用於反向傳播"
   ]
  },
  {
   "cell_type": "code",
   "execution_count": 11,
   "metadata": {
    "id": "V67uM5mr2bft"
   },
   "outputs": [],
   "source": [
    "def rnn_forward(x, a0, parameters):\n",
    "    # 初始化一個列表來儲存所有 RNN Cell 的快取\n",
    "    caches = []\n",
    "\n",
    "    # 從 x 的維度取得樣本數 m 和 timestep T_x\n",
    "    m, T_x, n_x = x.shape\n",
    "\n",
    "    # 從權重的維度取得 n_y 和 n_a\n",
    "    n_y, n_a = parameters['W_ya'].shape\n",
    "\n",
    "    # 初始化一個陣列來儲存所有 timestep 的隱藏狀態\n",
    "    a = cp.zeros((m, T_x, n_a))\n",
    "\n",
    "    # 將 a_next 初始化為 a0\n",
    "    a_next = a0\n",
    "\n",
    "    # 遍歷所有 timestep\n",
    "    for t in range(T_x):\n",
    "        # 取得當前 step 的輸入 xt, shape (m, n_x)\n",
    "        xt = x[:, t, :]\n",
    "\n",
    "        # 使用 RNN Cell 計算下一個隱藏狀態\n",
    "        a_next, cache = rnn_cell_forward(xt, a_next, parameters)\n",
    "\n",
    "        # 儲存這個 step 的隱藏狀態和快取\n",
    "        a[:, t, :] = a_next\n",
    "        caches.append(cache)\n",
    "\n",
    "    # 迴圈結束後，a_next 就是最後一個 step 的隱藏狀態 a<T_x>\n",
    "\n",
    "    # 進行最終的預測\n",
    "    W_ya = parameters['W_ya']\n",
    "    b_y = parameters['b_y']\n",
    "    z = cp.dot(a_next, W_ya.T) + b_y.T\n",
    "    y_pred = softmax(z)\n",
    "\n",
    "    return y_pred, a, caches"
   ]
  },
  {
   "cell_type": "markdown",
   "metadata": {
    "id": "fwDmzDf227i-"
   },
   "source": [
    "## Step 2-3: 實作損失函數"
   ]
  },
  {
   "cell_type": "markdown",
   "metadata": {
    "id": "XjN_TlBK3CbV"
   },
   "source": [
    "計算交叉熵損失\n",
    "\n",
    "參數:\n",
    "\n",
    "- `y_pred` -- 模型的預測機率輸出, shape (m, n_y)\n",
    "- `y_true` -- 真實的 One-Hot 標籤, shape (m, n_y)\n",
    "\n",
    "Return:\n",
    "\n",
    "- `loss` -- 交叉熵損失值 (一個純量)"
   ]
  },
  {
   "cell_type": "code",
   "execution_count": 12,
   "metadata": {
    "id": "8J5hIm0I2x9i"
   },
   "outputs": [],
   "source": [
    "def compute_loss_rnn(y_pred, y_true):\n",
    "\n",
    "    # 取得批次大小 m\n",
    "    m = y_true.shape[0]\n",
    "\n",
    "    # 計算損失\n",
    "    # 加上一個極小值 1e-9 是為了避免 log(0) 造成數值問題\n",
    "    loss = -cp.sum(y_true * cp.log(y_pred + 1e-9)) / m\n",
    "\n",
    "    return loss"
   ]
  },
  {
   "cell_type": "markdown",
   "metadata": {
    "id": "ys7AKf3O3L22"
   },
   "source": [
    "## Step 2-4: 實作反向傳播 (Backward Propagation Through Time, BPTT)"
   ]
  },
  {
   "cell_type": "markdown",
   "metadata": {
    "id": "rvVWfkLc3T28"
   },
   "source": [
    "### Step 2-4-1: RNN Cell Backward"
   ]
  },
  {
   "cell_type": "markdown",
   "metadata": {
    "id": "Nzlh5n163Zi0"
   },
   "source": [
    "這個 `rnn_cell_backward` 的任務是，給定自下個時間點的梯度 `da_next`，計算出：\n",
    "\n",
    "1. 應該傳遞給 **上一個時間點** 的梯度 `da_prev`\n",
    "2. 在 **這個時間點** 對權重 `W_aa`, `W_ax`, `b_a` 的梯度\n",
    "\n",
    "實作單一時間步的 RNN Cell 反向傳播\n",
    "\n",
    "參數:\n",
    "\n",
    "- `da_next` -- 來自下一個時間步或輸出層的梯度, shape (m, n_a)\n",
    "- `cache` -- 來自前向傳播的快取 (a_next, a_prev, xt, parameters)\n",
    "\n",
    "Return:\n",
    "\n",
    "- `gradients` -- 包含此時間步梯度的字典 (dW_ax, dW_aa, db_a, da_prev)"
   ]
  },
  {
   "cell_type": "code",
   "execution_count": 13,
   "metadata": {
    "id": "DskbvSOn3J2V"
   },
   "outputs": [],
   "source": [
    "def rnn_cell_backward(da_next, cache):\n",
    "\n",
    "    # 從快取中取出所需的值\n",
    "    (a_next, a_prev, xt, parameters) = cache\n",
    "\n",
    "    # 從參數中取得權重\n",
    "    W_aa = parameters['W_aa']\n",
    "    W_ax = parameters['W_ax']\n",
    "\n",
    "    # 1. 計算 tanh 激活函數的梯度\n",
    "    # dz = da_next * (1 - tanh(z)^2)\n",
    "    dz = da_next * (1 - cp.power(a_next, 2))\n",
    "\n",
    "    # 2. 計算對權重與偏置的梯度\n",
    "    # dW_ax = dz.T @ xt  (n_a, n_x) = (n_a, m) @ (m, n_x)\n",
    "    dW_ax = cp.dot(dz.T, xt)\n",
    "    # dW_aa = dz.T @ a_prev (n_a, n_a) = (n_a, m) @ (m, n_a)\n",
    "    dW_aa = cp.dot(dz.T, a_prev)\n",
    "    # db_a 會對所有樣本的梯度求和\n",
    "    db_a = cp.sum(dz, axis=0, keepdims=True).T # shape (n_a, 1)\n",
    "\n",
    "    # 3. 計算傳遞給前一個隱藏狀態的梯度 da_prev\n",
    "    # da_prev = dz @ W_aa (m, n_a) = (m, n_a) @ (n_a, n_a)\n",
    "    da_prev = cp.dot(dz, W_aa)\n",
    "\n",
    "    gradients = {\n",
    "        \"dW_ax\": dW_ax,\n",
    "        \"dW_aa\": dW_aa,\n",
    "        \"db_a\": db_a,\n",
    "        \"da_prev\": da_prev\n",
    "    }\n",
    "\n",
    "    return gradients"
   ]
  },
  {
   "cell_type": "markdown",
   "metadata": {
    "id": "FkVHRIg24Mkq"
   },
   "source": [
    "### Step 2-4-2: 完整版的 BPTT"
   ]
  },
  {
   "cell_type": "markdown",
   "metadata": {
    "id": "b36QB4Ex4Xw9"
   },
   "source": [
    "如同 CNN/FNN，Softmax 搭配 Cross entropy 的梯度有一個簡潔的結果：\n",
    "\n",
    "$$\n",
    "dZ_{out} = \\hat{Y} - Y\n",
    "$$"
   ]
  },
  {
   "cell_type": "markdown",
   "metadata": {
    "id": "n_WNvurv4nf1"
   },
   "source": [
    "實作完整 RNN 的反向傳播 (BPTT)\n",
    "\n",
    "參數:\n",
    "\n",
    "- `y_pred` -- 模型的預測機率, shape (m, n_y)\n",
    "- `y_true` -- 正解的 One-Hot 標籤, shape (m, n_y)\n",
    "- `a` -- 所有時間步的隱藏狀態, shape (m, T_x, n_a)\n",
    "- `caches` -- 包含所有 RNN Cell 快取的列表\n",
    "\n",
    "Return:\n",
    "\n",
    "- `gradients` -- 包含所有權重與 bias 梯度的字典"
   ]
  },
  {
   "cell_type": "code",
   "execution_count": 14,
   "metadata": {
    "id": "NEogtNKL4CLO"
   },
   "outputs": [],
   "source": [
    "def rnn_backward(y_pred, y_true, a, caches):\n",
    "\n",
    "    # 取得批次大小 m 和時間步長 T_x\n",
    "    m, T_x, n_a = a.shape\n",
    "    n_y = y_pred.shape[1]\n",
    "\n",
    "    # 從快取中取出參數 (任一時間步的快取中都有完整的 parameters)\n",
    "    parameters = caches[0][3]\n",
    "    W_ya = parameters['W_ya']\n",
    "    W_aa = parameters['W_aa']\n",
    "    W_ax = parameters['W_ax']\n",
    "\n",
    "    # 1. 輸出層的反向傳播\n",
    "    # 起始梯度 dZ_out\n",
    "    dZ_out = y_pred - y_true\n",
    "\n",
    "    # 對 W_ya, b_y 的梯度\n",
    "    # a_T 是最後一個時間步的隱藏狀態 a<T_x-1>\n",
    "    a_T = a[:, T_x - 1, :]\n",
    "    dW_ya = (1/m) * cp.dot(dZ_out.T, a_T)\n",
    "    db_y = (1/m) * cp.sum(dZ_out, axis=0, keepdims=True).T\n",
    "\n",
    "    # 傳遞給 RNN 層的初始梯度 da_next (即 da<T_x-1>)\n",
    "    da_next = cp.dot(dZ_out, W_ya)\n",
    "\n",
    "    # 2. RNN 層的反向傳播 (BPTT 迴圈)\n",
    "    # 初始化要累加的梯度\n",
    "    dW_ax = cp.zeros_like(W_ax)\n",
    "    dW_aa = cp.zeros_like(W_aa)\n",
    "    db_a = cp.zeros_like(parameters['b_a'])\n",
    "\n",
    "    # 從最後一個時間步向前遍歷\n",
    "    for t in reversed(range(T_x)):\n",
    "        # 使用 rnn_cell_backward 計算當前時間步的梯度\n",
    "        # 注意 caches[t] 剛好對應 time step t 的快取\n",
    "        cell_gradients = rnn_cell_backward(da_next, caches[t])\n",
    "\n",
    "        # 累加梯度\n",
    "        dW_ax += cell_gradients['dW_ax']\n",
    "        dW_aa += cell_gradients['dW_aa']\n",
    "        db_a += cell_gradients['db_a']\n",
    "\n",
    "        # 將梯度傳遞給前一個時間步\n",
    "        da_next = cell_gradients['da_prev']\n",
    "\n",
    "    # 對累加後的梯度取平均\n",
    "    dW_ax /= m\n",
    "    dW_aa /= m\n",
    "    db_a /= m\n",
    "\n",
    "    gradients = {\n",
    "        \"dW_ya\": dW_ya, \"db_y\": db_y,\n",
    "        \"dW_ax\": dW_ax, \"dW_aa\": dW_aa, \"db_a\": db_a\n",
    "    }\n",
    "\n",
    "    return gradients"
   ]
  },
  {
   "cell_type": "markdown",
   "metadata": {
    "id": "rsOoMOUr5iX4"
   },
   "source": [
    "### Step 2-5: 實作權重更新"
   ]
  },
  {
   "cell_type": "markdown",
   "metadata": {
    "id": "SNZvyRsU5tN_"
   },
   "source": [
    "使用梯度下降法更新模型的參數\n",
    "\n",
    "參數:\n",
    "\n",
    "- `parameters` -- 包含當前權重的字典\n",
    "- `grads` -- 包含梯度的字典\n",
    "- `learning_rate` -- 學習率 (alpha)\n",
    "\n",
    "Return:\n",
    "\n",
    "- `parameters` -- 更新後的參數字典"
   ]
  },
  {
   "cell_type": "code",
   "execution_count": 15,
   "metadata": {
    "id": "WmzyXPmo5gph"
   },
   "outputs": [],
   "source": [
    "def update_parameters_rnn(parameters, grads, learning_rate):\n",
    "\n",
    "    # 根據梯度下降規則更新每一個參數\n",
    "    parameters['W_ax'] -= learning_rate * grads['dW_ax']\n",
    "    parameters['W_aa'] -= learning_rate * grads['dW_aa']\n",
    "    parameters['W_ya'] -= learning_rate * grads['dW_ya']\n",
    "    parameters['b_a'] -= learning_rate * grads['db_a']\n",
    "    parameters['b_y'] -= learning_rate * grads['db_y']\n",
    "\n",
    "    return parameters"
   ]
  },
  {
   "cell_type": "markdown",
   "metadata": {
    "id": "yArAmqgl53xJ"
   },
   "source": [
    "# Step 3: 整合並訓練 RNN 模型"
   ]
  },
  {
   "cell_type": "markdown",
   "metadata": {
    "id": "hVpVN0Wf6AuY"
   },
   "source": [
    "## Step 3-1: 建立 RNN 模型"
   ]
  },
  {
   "cell_type": "code",
   "execution_count": 16,
   "metadata": {
    "id": "qDWf_rOY52CX"
   },
   "outputs": [],
   "source": [
    "# --- 預測與準確率計算的輔助函式 ---\n",
    "\n",
    "def predict_rnn(x, parameters):\n",
    "    \"\"\"\n",
    "    使用訓練好的參數進行預測\n",
    "\n",
    "    參數:\n",
    "      - x -- 輸入的資料序列, shape (m, T_x, n_x)\n",
    "      - parameters -- 包含權重的字典\n",
    "\n",
    "    Return:\n",
    "      - predictions -- 模型的預測結果 (0-9 的數字), shape (m,)\n",
    "    \"\"\"\n",
    "    m, _, n_a = x.shape\n",
    "    n_a = parameters['W_aa'].shape[0] # 從權重取得 n_a\n",
    "\n",
    "    # 初始化 a0\n",
    "    a0 = cp.zeros((m, n_a))\n",
    "\n",
    "    # 進行前向傳播\n",
    "    y_pred, _, _ = rnn_forward(x, a0, parameters)\n",
    "\n",
    "    # 找出每個樣本中，機率最高的那個類別的索引\n",
    "    predictions = cp.argmax(y_pred, axis=1)\n",
    "\n",
    "    return predictions\n",
    "\n",
    "def calculate_accuracy_rnn(predictions, labels):\n",
    "    \"\"\"\n",
    "    計算預測的準確率\n",
    "\n",
    "    參數:\n",
    "      - predictions -- 模型的預測結果, shape (m,)\n",
    "      - labels -- 正解的標籤 (非 one-hot), shape (m,)\n",
    "\n",
    "    Return:\n",
    "      - accuracy -- 準確率 (一個 0 到 1 之間的純量)\n",
    "    \"\"\"\n",
    "    # 比較預測結果和正解標籤，並計算平均值\n",
    "    return cp.mean(predictions == labels)"
   ]
  },
  {
   "cell_type": "markdown",
   "metadata": {
    "id": "GPHBtRL96WN7"
   },
   "source": [
    "完整的 RNN 訓練模型\n",
    "\n",
    "參數:\n",
    "\n",
    "- `X_train`, `Y_train`, `Y_train_orig` -- 訓練資料、one-hot 標籤、原始標籤\n",
    "- `X_test`, `Y_test_orig` -- 測試資料、原始標籤\n",
    "- `n_a` -- 隱藏層的神經元數量\n",
    "- `learning_rate` -- 學習率\n",
    "- `num_epochs` -- 訓練的世代數\n",
    "- `batch_size` -- Mini-batch 的大小\n",
    "- `use_early_stopping` -- 是否使用 early stopping 機制\n",
    "- `early_stopping_patience` -- early stopping 的 patience\n",
    "\n",
    "Return:\n",
    "\n",
    "- `trained_parameters` -- 訓練完成後的模型參數\n",
    "- `history` -- 包含每個 epoch 的 cost 和 accuracy 的字典"
   ]
  },
  {
   "cell_type": "code",
   "execution_count": 17,
   "metadata": {
    "id": "k2oaX9ov6TOE"
   },
   "outputs": [],
   "source": [
    "import copy\n",
    "\n",
    "def rnn_model(X_train, Y_train, Y_train_orig, X_test, Y_test_orig,\n",
    "              n_a=128, learning_rate=0.01, num_epochs=50, batch_size=64,\n",
    "              use_early_stopping=True, early_stopping_patience=10):\n",
    "    m, T_x, n_x = X_train.shape\n",
    "    n_y = Y_train.shape[1]\n",
    "    parameters = initialize_parameters_rnn(n_x, n_a, n_y)\n",
    "    costs, accuracies = [], []\n",
    "\n",
    "    # === 早停機制初始化 ===\n",
    "    if use_early_stopping:\n",
    "        patience = early_stopping_patience\n",
    "        epochs_no_improve = 0\n",
    "        best_accuracy = 0.0\n",
    "        # 用來儲存表現最好時的權重，需要 deepcopy\n",
    "        best_parameters = {}\n",
    "\n",
    "    # 2. 訓練迴圈\n",
    "    for i in range(num_epochs):\n",
    "        epoch_start_time = time.time()\n",
    "        epoch_cost = 0.0\n",
    "\n",
    "        # 在每個 epoch 開始前，將資料隨機打亂\n",
    "        permutation = cp.random.permutation(m)\n",
    "        shuffled_X = X_train[permutation, :, :]\n",
    "        shuffled_Y = Y_train[permutation, :]\n",
    "\n",
    "        num_minibatches = m // batch_size\n",
    "\n",
    "        for j in range(num_minibatches):\n",
    "            start, end = j * batch_size, (j + 1) * batch_size\n",
    "            minibatch_X, minibatch_Y = shuffled_X[start:end, :, :], shuffled_Y[start:end, :]\n",
    "            a0 = cp.zeros((minibatch_X.shape[0], n_a))\n",
    "\n",
    "            y_pred, a, caches = rnn_forward(minibatch_X, a0, parameters)\n",
    "            cost = compute_loss_rnn(y_pred, minibatch_Y)\n",
    "            epoch_cost += cost\n",
    "            grads = rnn_backward(y_pred, minibatch_Y, a, caches)\n",
    "            parameters = update_parameters_rnn(parameters, grads, learning_rate)\n",
    "\n",
    "        avg_epoch_cost = epoch_cost / num_minibatches\n",
    "        costs.append(avg_epoch_cost)\n",
    "\n",
    "        # 在每個 epoch 結束後，用測試集評估準確率\n",
    "        predictions_test = predict_rnn(X_test, parameters)\n",
    "        current_accuracy = calculate_accuracy_rnn(predictions_test, Y_test_orig)\n",
    "        accuracies.append(current_accuracy)\n",
    "\n",
    "        epoch_end_time = time.time()\n",
    "\n",
    "        # 將 Cupy 純量轉為 Python 純量以便格式化輸出\n",
    "        cost_to_print = float(cp.asnumpy(avg_epoch_cost))\n",
    "        acc_to_print = float(cp.asnumpy(current_accuracy))\n",
    "\n",
    "        print(f\"Epoch {i + 1}/{num_epochs} - Cost: {cost_to_print:.6f} - Accuracy: {acc_to_print:.4f} - Time: {epoch_end_time - epoch_start_time:.2f}s\")\n",
    "\n",
    "        # === 早停機制判斷 ===\n",
    "        if use_early_stopping:\n",
    "            if acc_to_print > best_accuracy:\n",
    "                best_accuracy = acc_to_print\n",
    "                epochs_no_improve = 0\n",
    "                # 使用 copy.deepcopy() 來完整複製一份當前最好的權重\n",
    "                best_parameters = copy.deepcopy(parameters)\n",
    "                print(f\"  -> Accuracy improved to {best_accuracy:.4f}! Saving model.\")\n",
    "            else:\n",
    "                epochs_no_improve += 1\n",
    "                print(f\"  -> Accuracy did not improve for {epochs_no_improve} epoch(s).\")\n",
    "\n",
    "            # 如果連續數個 epoch 都沒有改善，就觸發提早停止\n",
    "            if epochs_no_improve >= patience:\n",
    "                print(f\"\\nEarly stopping triggered after {patience} epochs with no improvement.\")\n",
    "                # 訓練結束，回傳歷史最佳的權重\n",
    "                parameters = best_parameters\n",
    "                break\n",
    "\n",
    "    history = {\"costs\": costs, \"accuracies\": accuracies}\n",
    "\n",
    "    # 如果沒有觸發早停，也要確保回傳的是最佳權重\n",
    "    if use_early_stopping and best_parameters:\n",
    "        return best_parameters, history\n",
    "    else:\n",
    "        return parameters, history"
   ]
  },
  {
   "cell_type": "markdown",
   "metadata": {
    "id": "dP3rdr92608s"
   },
   "source": [
    "## Step 3-2: 訓練模型"
   ]
  },
  {
   "cell_type": "code",
   "execution_count": 18,
   "metadata": {
    "colab": {
     "base_uri": "https://localhost:8080/"
    },
    "id": "6BjsSZ7_6ykJ",
    "outputId": "1614cc26-ed53-4f09-e879-1485c8c75bc8"
   },
   "outputs": [
    {
     "name": "stdout",
     "output_type": "stream",
     "text": [
      "Epoch 1/100 - Cost: 0.903838 - Accuracy: 0.8476 - Time: 10.07s\n",
      "  -> Accuracy improved to 0.8476! Saving model.\n",
      "Epoch 2/100 - Cost: 0.397854 - Accuracy: 0.9006 - Time: 8.85s\n",
      "  -> Accuracy improved to 0.9006! Saving model.\n",
      "Epoch 3/100 - Cost: 0.277420 - Accuracy: 0.9321 - Time: 8.93s\n",
      "  -> Accuracy improved to 0.9321! Saving model.\n",
      "Epoch 4/100 - Cost: 0.226045 - Accuracy: 0.9511 - Time: 8.35s\n",
      "  -> Accuracy improved to 0.9511! Saving model.\n",
      "Epoch 5/100 - Cost: 0.182266 - Accuracy: 0.9564 - Time: 9.18s\n",
      "  -> Accuracy improved to 0.9564! Saving model.\n",
      "Epoch 6/100 - Cost: 0.159877 - Accuracy: 0.9601 - Time: 9.39s\n",
      "  -> Accuracy improved to 0.9601! Saving model.\n",
      "Epoch 7/100 - Cost: 0.146482 - Accuracy: 0.9614 - Time: 9.31s\n",
      "  -> Accuracy improved to 0.9614! Saving model.\n",
      "Epoch 8/100 - Cost: 0.131788 - Accuracy: 0.9625 - Time: 8.30s\n",
      "  -> Accuracy improved to 0.9625! Saving model.\n",
      "Epoch 9/100 - Cost: 0.118428 - Accuracy: 0.9677 - Time: 9.07s\n",
      "  -> Accuracy improved to 0.9677! Saving model.\n",
      "Epoch 10/100 - Cost: 0.111134 - Accuracy: 0.9692 - Time: 8.97s\n",
      "  -> Accuracy improved to 0.9692! Saving model.\n",
      "Epoch 11/100 - Cost: 0.104449 - Accuracy: 0.9654 - Time: 9.09s\n",
      "  -> Accuracy did not improve for 1 epoch(s).\n",
      "Epoch 12/100 - Cost: 0.099775 - Accuracy: 0.9669 - Time: 8.49s\n",
      "  -> Accuracy did not improve for 2 epoch(s).\n",
      "Epoch 13/100 - Cost: 0.092257 - Accuracy: 0.9684 - Time: 9.08s\n",
      "  -> Accuracy did not improve for 3 epoch(s).\n",
      "Epoch 14/100 - Cost: 0.088284 - Accuracy: 0.9692 - Time: 9.27s\n",
      "  -> Accuracy did not improve for 4 epoch(s).\n",
      "Epoch 15/100 - Cost: 0.084104 - Accuracy: 0.9692 - Time: 9.16s\n",
      "  -> Accuracy did not improve for 5 epoch(s).\n",
      "Epoch 16/100 - Cost: 0.080948 - Accuracy: 0.9715 - Time: 8.52s\n",
      "  -> Accuracy improved to 0.9715! Saving model.\n",
      "Epoch 17/100 - Cost: 0.075732 - Accuracy: 0.9725 - Time: 9.07s\n",
      "  -> Accuracy improved to 0.9725! Saving model.\n",
      "Epoch 18/100 - Cost: 0.071996 - Accuracy: 0.9701 - Time: 8.95s\n",
      "  -> Accuracy did not improve for 1 epoch(s).\n",
      "Epoch 19/100 - Cost: 0.069253 - Accuracy: 0.9701 - Time: 9.39s\n",
      "  -> Accuracy did not improve for 2 epoch(s).\n",
      "Epoch 20/100 - Cost: 0.067065 - Accuracy: 0.9717 - Time: 8.49s\n",
      "  -> Accuracy did not improve for 3 epoch(s).\n",
      "Epoch 21/100 - Cost: 0.063388 - Accuracy: 0.9709 - Time: 9.17s\n",
      "  -> Accuracy did not improve for 4 epoch(s).\n",
      "Epoch 22/100 - Cost: 0.060372 - Accuracy: 0.9677 - Time: 9.08s\n",
      "  -> Accuracy did not improve for 5 epoch(s).\n",
      "Epoch 23/100 - Cost: 0.060475 - Accuracy: 0.9743 - Time: 9.18s\n",
      "  -> Accuracy improved to 0.9743! Saving model.\n",
      "Epoch 24/100 - Cost: 0.058145 - Accuracy: 0.9741 - Time: 8.07s\n",
      "  -> Accuracy did not improve for 1 epoch(s).\n",
      "Epoch 25/100 - Cost: 0.055671 - Accuracy: 0.9772 - Time: 8.96s\n",
      "  -> Accuracy improved to 0.9772! Saving model.\n",
      "Epoch 26/100 - Cost: 0.052398 - Accuracy: 0.9752 - Time: 9.12s\n",
      "  -> Accuracy did not improve for 1 epoch(s).\n",
      "Epoch 27/100 - Cost: 0.052098 - Accuracy: 0.9737 - Time: 8.83s\n",
      "  -> Accuracy did not improve for 2 epoch(s).\n",
      "Epoch 28/100 - Cost: 0.050445 - Accuracy: 0.9753 - Time: 8.79s\n",
      "  -> Accuracy did not improve for 3 epoch(s).\n",
      "Epoch 29/100 - Cost: 0.047542 - Accuracy: 0.9749 - Time: 9.05s\n",
      "  -> Accuracy did not improve for 4 epoch(s).\n",
      "Epoch 30/100 - Cost: 0.048051 - Accuracy: 0.9766 - Time: 8.90s\n",
      "  -> Accuracy did not improve for 5 epoch(s).\n",
      "Epoch 31/100 - Cost: 0.046046 - Accuracy: 0.9739 - Time: 8.64s\n",
      "  -> Accuracy did not improve for 6 epoch(s).\n",
      "Epoch 32/100 - Cost: 0.042540 - Accuracy: 0.9751 - Time: 8.87s\n",
      "  -> Accuracy did not improve for 7 epoch(s).\n",
      "Epoch 33/100 - Cost: 0.041298 - Accuracy: 0.9759 - Time: 9.10s\n",
      "  -> Accuracy did not improve for 8 epoch(s).\n",
      "Epoch 34/100 - Cost: 0.040447 - Accuracy: 0.9734 - Time: 9.05s\n",
      "  -> Accuracy did not improve for 9 epoch(s).\n",
      "Epoch 35/100 - Cost: 0.040176 - Accuracy: 0.9759 - Time: 8.49s\n",
      "  -> Accuracy did not improve for 10 epoch(s).\n",
      "\n",
      "Early stopping triggered after 10 epochs with no improvement.\n"
     ]
    }
   ],
   "source": [
    "# 設定 Hyperparameter\n",
    "LEARNING_RATE = 0.02\n",
    "NUM_EPOCHS = 100\n",
    "BATCH_SIZE = 128\n",
    "N_A = 128\n",
    "PATIENCE = 10\n",
    "\n",
    "# 開始訓練！\n",
    "trained_parameters, history = rnn_model(\n",
    "    train_x, train_y, train_y_cp_orig,\n",
    "    test_x, test_y_cp_orig,\n",
    "    n_a=N_A,\n",
    "    learning_rate=LEARNING_RATE,\n",
    "    num_epochs=NUM_EPOCHS,\n",
    "    batch_size=BATCH_SIZE,\n",
    "    use_early_stopping=True,\n",
    "    early_stopping_patience=PATIENCE\n",
    ")"
   ]
  },
  {
   "cell_type": "markdown",
   "metadata": {
    "id": "VcmMTsg4CL5q"
   },
   "source": [
    "## Step 3-3: 儲存及載入"
   ]
  },
  {
   "cell_type": "code",
   "execution_count": 19,
   "metadata": {
    "id": "goj0xg_E66kQ"
   },
   "outputs": [],
   "source": [
    "import os\n",
    "\n",
    "def save_parameters(parameters, filename=\"my_rnn_model.npz\"):\n",
    "\n",
    "    print(f\"Saving parameters to {filename}...\")\n",
    "\n",
    "    # 建立一個新的字典，用來存放轉換後的 NumPy 陣列\n",
    "    numpy_params = {}\n",
    "    for key, value in parameters.items():\n",
    "        # 使用 cp.asnumpy() 將 CuPy 陣列轉為 NumPy 陣列 (移至 CPU)\n",
    "        if 'cupy' in str(type(value)):\n",
    "            numpy_params[key] = cp.asnumpy(value)\n",
    "        else: # 如果原本就是 numpy array 則不用轉\n",
    "            numpy_params[key] = value\n",
    "\n",
    "    # 使用 np.savez_compressed 儲存，**numpy_params 會自動解包成關鍵字參數\n",
    "    np.savez_compressed(filename, **numpy_params)\n",
    "\n",
    "    print(\"Parameters saved successfully.\")\n",
    "\n",
    "\n",
    "def load_parameters(filename=\"my_rnn_model.npz\"):\n",
    "\n",
    "    if not os.path.exists(filename):\n",
    "        print(f\"Error: File '{filename}' not found.\")\n",
    "        return None\n",
    "\n",
    "    print(f\"Loading parameters from {filename}...\")\n",
    "\n",
    "    # 載入 .npz 檔案，它是一個類字典物件\n",
    "    npzfile = np.load(filename)\n",
    "\n",
    "    # 建立一個新的字典，用來存放轉換後的 CuPy 陣列\n",
    "    parameters = {}\n",
    "    for key in npzfile.keys():\n",
    "        # 使用 cp.asarray() 將 NumPy 陣列轉為 CuPy 陣列 (移至 GPU)\n",
    "        parameters[key] = cp.asarray(npzfile[key])\n",
    "\n",
    "    print(\"Parameters loaded successfully.\")\n",
    "    return parameters"
   ]
  },
  {
   "cell_type": "code",
   "execution_count": 20,
   "metadata": {
    "colab": {
     "base_uri": "https://localhost:8080/"
    },
    "id": "QrVkOkc8CTPG",
    "outputId": "589d40a3-44ca-4e31-a52a-82d0d6fec70a"
   },
   "outputs": [
    {
     "name": "stdout",
     "output_type": "stream",
     "text": [
      "Saving parameters to my_rnn_model.npz...\n",
      "Parameters saved successfully.\n"
     ]
    }
   ],
   "source": [
    "save_parameters(trained_parameters, \"my_rnn_model.npz\")"
   ]
  },
  {
   "cell_type": "code",
   "execution_count": 21,
   "metadata": {
    "colab": {
     "base_uri": "https://localhost:8080/"
    },
    "id": "y1L4XSJ7Cd62",
    "outputId": "8ff8730f-7274-4aa5-a200-94bb4db72ef6"
   },
   "outputs": [
    {
     "name": "stdout",
     "output_type": "stream",
     "text": [
      "Loading parameters from my_rnn_model.npz...\n",
      "Parameters loaded successfully.\n"
     ]
    }
   ],
   "source": [
    "trained_parameters = load_parameters(\"my_rnn_model.npz\")"
   ]
  },
  {
   "cell_type": "markdown",
   "metadata": {
    "id": "62_KytuBCkMB"
   },
   "source": [
    "# Step 4: 評估"
   ]
  },
  {
   "cell_type": "markdown",
   "metadata": {
    "id": "qn8knHUuC5K3"
   },
   "source": [
    "## Step 4-1: 最終預測與混淆矩陣"
   ]
  },
  {
   "cell_type": "code",
   "execution_count": 22,
   "metadata": {
    "colab": {
     "base_uri": "https://localhost:8080/"
    },
    "id": "w4U9dxqDChug",
    "outputId": "32811e36-ea08-4ead-ae0c-c568f81ceb1d"
   },
   "outputs": [
    {
     "name": "stdout",
     "output_type": "stream",
     "text": [
      "Final model accuracy: 97.72%\n"
     ]
    }
   ],
   "source": [
    "test_predictions = predict_rnn(test_x, trained_parameters)\n",
    "final_accuracy = calculate_accuracy_rnn(test_predictions, test_y_cp_orig)\n",
    "print(f\"Final model accuracy: {cp.asnumpy(final_accuracy)*100:.2f}%\")"
   ]
  },
  {
   "cell_type": "code",
   "execution_count": 23,
   "metadata": {
    "id": "WUuJ4cizC_74"
   },
   "outputs": [],
   "source": [
    "# 建立混淆矩陣\n",
    "num_classes = 10\n",
    "# 初始化一個 10x10 的 Cupy 矩陣\n",
    "confusion_matrix_cp = cp.zeros((num_classes, num_classes), dtype=int)\n",
    "\n",
    "# 遍歷所有測試集樣本，填充混淆矩陣\n",
    "for i in range(len(test_y_cp_orig)):\n",
    "    true_label = test_y_cp_orig[i]\n",
    "    predicted_label = test_predictions[i]\n",
    "    confusion_matrix_cp[true_label, predicted_label] += 1"
   ]
  },
  {
   "cell_type": "code",
   "execution_count": 24,
   "metadata": {
    "colab": {
     "base_uri": "https://localhost:8080/",
     "height": 718
    },
    "id": "FezhJ2RXDCYa",
    "outputId": "fbdf56e0-3b91-4e82-d671-54fb706a3405"
   },
   "outputs": [
    {
     "data": {
      "image/png": "[encoded data removed]",
      "text/plain": [
       "<Figure size 1000x800 with 2 Axes>"
      ]
     },
     "metadata": {},
     "output_type": "display_data"
    }
   ],
   "source": [
    "# 視覺化混淆矩陣\n",
    "# 記得要先用 .asnumpy() 將矩陣從 GPU 移回 CPU 給 Matplotlib 處理\n",
    "confusion_matrix_np = cp.asnumpy(confusion_matrix_cp)\n",
    "\n",
    "plt.figure(figsize=(10, 8))\n",
    "sns.heatmap(\n",
    "    confusion_matrix_np,\n",
    "    annot=True,      # 在格子中顯示數字\n",
    "    fmt=\"d\",         # 將數字格式化為整數\n",
    "    cmap=\"Blues\",    # 使用藍色系的色盤\n",
    "    xticklabels=range(num_classes),\n",
    "    yticklabels=range(num_classes),\n",
    ")\n",
    "plt.title(\"Confusion Matrix Heatmap (RNN Model)\")\n",
    "plt.xlabel(\"Predicted Label\")\n",
    "plt.ylabel(\"True Label\")\n",
    "plt.show()"
   ]
  },
  {
   "cell_type": "markdown",
   "metadata": {
    "id": "Fv-9fCq2DWe-"
   },
   "source": [
    "## Step 4-2: 計算 Precision 與 Recall"
   ]
  },
  {
   "cell_type": "code",
   "execution_count": 25,
   "metadata": {
    "colab": {
     "base_uri": "https://localhost:8080/"
    },
    "id": "iBbFio0SDNXu",
    "outputId": "ba587d11-7426-4e7a-c320-dc13ffd3990a"
   },
   "outputs": [
    {
     "name": "stdout",
     "output_type": "stream",
     "text": [
      "數字 '0':\n",
      "  精確率 (Precision): 0.9778\n",
      "  召回率 (Recall):    0.9888\n",
      "數字 '1':\n",
      "  精確率 (Precision): 0.9903\n",
      "  召回率 (Recall):    0.9912\n",
      "數字 '2':\n",
      "  精確率 (Precision): 0.9750\n",
      "  召回率 (Recall):    0.9806\n",
      "數字 '3':\n",
      "  精確率 (Precision): 0.9772\n",
      "  召回率 (Recall):    0.9762\n",
      "數字 '4':\n",
      "  精確率 (Precision): 0.9708\n",
      "  召回率 (Recall):    0.9817\n",
      "數字 '5':\n",
      "  精確率 (Precision): 0.9783\n",
      "  召回率 (Recall):    0.9608\n",
      "數字 '6':\n",
      "  精確率 (Precision): 0.9771\n",
      "  召回率 (Recall):    0.9781\n",
      "數字 '7':\n",
      "  精確率 (Precision): 0.9775\n",
      "  召回率 (Recall):    0.9737\n",
      "數字 '8':\n",
      "  精確率 (Precision): 0.9672\n",
      "  召回率 (Recall):    0.9702\n",
      "數字 '9':\n",
      "  精確率 (Precision): 0.9789\n",
      "  召回率 (Recall):    0.9673\n"
     ]
    }
   ],
   "source": [
    "for i in range(num_classes):\n",
    "    true_positives = confusion_matrix_cp[i, i]\n",
    "    # 該 Col 的總和 (所有被預測為 i 的)\n",
    "    predicted_positives = cp.sum(confusion_matrix_cp[:, i])\n",
    "    # 該 Row 的總和 (所有實際上是 i 的)\n",
    "    actual_positives = cp.sum(confusion_matrix_cp[i, :])\n",
    "\n",
    "    # 計算 Precision 和 Recall，加上 1e-9 避免除以零\n",
    "    precision = true_positives / (predicted_positives + 1e-9)\n",
    "    recall = true_positives / (actual_positives + 1e-9)\n",
    "\n",
    "    print(f\"數字 '{i}':\")\n",
    "    # 使用 .asnumpy() 以便格式化輸出\n",
    "    print(f\"  精確率 (Precision): {cp.asnumpy(precision):.4f}\")\n",
    "    print(f\"  召回率 (Recall):    {cp.asnumpy(recall):.4f}\")"
   ]
  },
  {
   "cell_type": "markdown",
   "metadata": {
    "id": "-BlXCxUiDfNi"
   },
   "source": [
    "## Step 4-3: 繪制學習曲線"
   ]
  },
  {
   "cell_type": "code",
   "execution_count": 26,
   "metadata": {
    "colab": {
     "base_uri": "https://localhost:8080/",
     "height": 539
    },
    "id": "UtxjsgqNDdhZ",
    "outputId": "ccd1c427-38d6-4278-eb10-2d2aeeaef12b"
   },
   "outputs": [
    {
     "data": {
      "image/png": "[encoded data removed]",
      "text/plain": [
       "<Figure size 1600x600 with 2 Axes>"
      ]
     },
     "metadata": {},
     "output_type": "display_data"
    }
   ],
   "source": [
    "# 將 Cupy 陣列轉為 NumPy 陣列以便繪圖\n",
    "\n",
    "# 1. 從 history 中取出資料\n",
    "costs_cp = cp.array(history['costs'])\n",
    "accuracies_cp = cp.array(history['accuracies'])\n",
    "\n",
    "# 2. 使用 asnumpy() 轉換\n",
    "costs_np = cp.asnumpy(costs_cp)\n",
    "accuracies_np = cp.asnumpy(accuracies_cp)\n",
    "\n",
    "\n",
    "# 開始繪圖\n",
    "fig, (ax1, ax2) = plt.subplots(1, 2, figsize=(16, 6))\n",
    "fig.suptitle('RNN Model Learning Curves', fontsize=16)\n",
    "\n",
    "# 圖一：損失 (Loss) vs. Epochs\n",
    "ax1.plot(costs_np, label='Training Loss')\n",
    "ax1.set_title(\"Loss vs. Epochs\")\n",
    "ax1.set_xlabel(\"Epoch\")\n",
    "ax1.set_ylabel(\"Loss\")\n",
    "ax1.grid(True)\n",
    "ax1.legend()\n",
    "\n",
    "# 圖二：準確率 (Accuracy) vs. Epochs\n",
    "ax2.plot(accuracies_np, label='Test Accuracy', color='orange')\n",
    "ax2.set_title(\"Accuracy vs. Epochs\")\n",
    "ax2.set_xlabel(\"Epoch\")\n",
    "ax2.set_ylabel(\"Accuracy\")\n",
    "ax2.grid(True)\n",
    "ax2.legend()\n",
    "\n",
    "plt.show()"
   ]
  },
  {
   "cell_type": "markdown",
   "metadata": {
    "id": "M_sItwpyDrJ-"
   },
   "source": [
    "# Bonus: CIFAR-10"
   ]
  },
  {
   "cell_type": "markdown",
   "metadata": {
    "id": "Rcmwj0mAEKJ7"
   },
   "source": [
    "## Bonus Step 1: 環境清理與準備"
   ]
  },
  {
   "cell_type": "markdown",
   "metadata": {
    "id": "AeHGypHsENZw"
   },
   "source": [
    "由於 CIFAR-10 的資料量比 MNIST 大，為了避免在 GPU 上出現記憶體不足 (Out of Memory) 的錯誤，我們先將記憶體中不再需要的 MNIST 相關變數清除。"
   ]
  },
  {
   "cell_type": "code",
   "execution_count": 27,
   "metadata": {
    "colab": {
     "base_uri": "https://localhost:8080/"
    },
    "id": "VMZRt2J3DoIb",
    "outputId": "f832f555-3e6c-4f65-9648-439264091d62"
   },
   "outputs": [
    {
     "name": "stdout",
     "output_type": "stream",
     "text": [
      "變數 'train_x' 已刪除。\n",
      "變數 'train_y' 已刪除。\n",
      "變數 'train_y_cp_orig' 已刪除。\n",
      "變數 'test_x' 已刪除。\n",
      "變數 'test_y' 已刪除。\n",
      "變數 'test_y_cp_orig' 已刪除。\n",
      "變數 'trained_parameters' 已刪除。\n",
      "變數 'history' 已刪除。\n",
      "變數 'test_predictions' 已刪除。\n",
      "變數 'confusion_matrix_cp' 已刪除。\n",
      "\n",
      "Cupy 記憶體池已清空。\n"
     ]
    }
   ],
   "source": [
    "import gc # 引入垃圾回收模組\n",
    "\n",
    "# 定義要刪除的 MNIST 變數列表\n",
    "vars_to_delete = [\n",
    "    'train_x', 'train_y', 'train_y_cp_orig',\n",
    "    'test_x', 'test_y', 'test_y_cp_orig',\n",
    "    'trained_parameters', 'history',\n",
    "    'test_predictions', 'confusion_matrix_cp'\n",
    "]\n",
    "\n",
    "# 遍歷列表，從全域變數中刪除\n",
    "for var_name in vars_to_delete:\n",
    "    if var_name in globals():\n",
    "        del globals()[var_name]\n",
    "        print(f\"變數 '{var_name}' 已刪除。\")\n",
    "\n",
    "# 強制進行垃圾回收\n",
    "gc.collect()\n",
    "\n",
    "# 清空 CuPy 的記憶體池 (非常重要的一步)\n",
    "mempool = cp.get_default_memory_pool()\n",
    "mempool.free_all_blocks()\n",
    "\n",
    "print(\"\\nCupy 記憶體池已清空。\")"
   ]
  },
  {
   "cell_type": "markdown",
   "metadata": {
    "id": "iidCWNftEUUE"
   },
   "source": [
    "## Bonus Step 2: 下載並載入 CIFAR-10\n",
    "\n",
    "與 HW4 做法類似"
   ]
  },
  {
   "cell_type": "code",
   "execution_count": 28,
   "metadata": {
    "colab": {
     "base_uri": "https://localhost:8080/"
    },
    "id": "zZ8RPrFgEZdi",
    "outputId": "3aff53a1-9e70-4f3d-fc51-8b635fba5f3d"
   },
   "outputs": [
    {
     "name": "stdout",
     "output_type": "stream",
     "text": [
      "--2025-06-21 19:57:54--  https://www.cs.toronto.edu/~kriz/cifar-10-python.tar.gz\n",
      "Resolving www.cs.toronto.edu (www.cs.toronto.edu)... 128.100.3.30\n",
      "Connecting to www.cs.toronto.edu (www.cs.toronto.edu)|128.100.3.30|:443... connected.\n",
      "HTTP request sent, awaiting response... 200 OK\n",
      "Length: 170498071 (163M) [application/x-gzip]\n",
      "Saving to: ‘cifar-10-python.tar.gz’\n",
      "\n",
      "cifar-10-python.tar 100%[===================>] 162.60M  33.2MB/s    in 4.7s    \n",
      "\n",
      "2025-06-21 19:57:59 (34.4 MB/s) - ‘cifar-10-python.tar.gz’ saved [170498071/170498071]\n",
      "\n"
     ]
    }
   ],
   "source": [
    "!wget https://www.cs.toronto.edu/~kriz/cifar-10-python.tar.gz\n",
    "!tar -xzf cifar-10-python.tar.gz"
   ]
  },
  {
   "cell_type": "code",
   "execution_count": 29,
   "metadata": {
    "id": "7crE1hJOEbGJ"
   },
   "outputs": [],
   "source": [
    "import pickle\n",
    "\n",
    "def load_cifar10(root_path):\n",
    "    # 內部函式，用於載入單一 batch 檔案\n",
    "    def load_batch(filename):\n",
    "        with open(os.path.join(root_path, filename), 'rb') as f:\n",
    "            # 使用 latin1 編碼來讀取 Python 2 生成的 pickle 檔案\n",
    "            datadict = pickle.load(f, encoding='latin1')\n",
    "            X = datadict['data']\n",
    "            Y = datadict['labels']\n",
    "            # 將資料塑形為 (樣本數, 色彩頻道, 高度, 寬度)\n",
    "            # 原始資料格式為 (N, 3072)，其中 3072 = 3 * 32 * 32\n",
    "            # 儲存順序是 RRR...GGG...BBB...\n",
    "            X = X.reshape(10000, 3, 32, 32)\n",
    "            Y = np.array(Y)\n",
    "            return X, Y\n",
    "\n",
    "    # 載入並合併訓練資料 (共 5 個 batch)\n",
    "    xs, ys = [], []\n",
    "    for i in range(1, 6):\n",
    "        x_batch, y_batch = load_batch(f\"data_batch_{i}\")\n",
    "        xs.append(x_batch)\n",
    "        ys.append(y_batch)\n",
    "    train_x_np = np.concatenate(xs)\n",
    "    train_y_np = np.concatenate(ys)\n",
    "\n",
    "    # 載入測試資料\n",
    "    test_x_np, test_y_np = load_batch(\"test_batch\")\n",
    "\n",
    "    # 載入類別名稱\n",
    "    with open(os.path.join(root_path, 'batches.meta'), 'rb') as f:\n",
    "        meta = pickle.load(f, encoding='latin1')\n",
    "        class_names = meta['label_names']\n",
    "\n",
    "    return train_x_np, train_y_np, test_x_np, test_y_np, class_names"
   ]
  },
  {
   "cell_type": "code",
   "execution_count": 30,
   "metadata": {
    "colab": {
     "base_uri": "https://localhost:8080/"
    },
    "id": "hF6PoOHDEfw4",
    "outputId": "1947e06c-6b7f-40a8-bdf3-e79447f9f008"
   },
   "outputs": [
    {
     "name": "stdout",
     "output_type": "stream",
     "text": [
      "\n",
      "--- CIFAR-10 資料維度 (NumPy) ---\n",
      "訓練資料 X: (50000, 3, 32, 32)\n",
      "訓練標籤 Y: (50000,)\n",
      "測試資料 X: (10000, 3, 32, 32)\n",
      "測試標籤 Y: (10000,)\n",
      "類別名稱: ['airplane', 'automobile', 'bird', 'cat', 'deer', 'dog', 'frog', 'horse', 'ship', 'truck']\n"
     ]
    }
   ],
   "source": [
    "# 執行載入\n",
    "cifar10_train_x_np, cifar10_train_y_np, cifar10_test_x_np, cifar10_test_y_np, cifar10_class_names = load_cifar10(\"cifar-10-batches-py\")\n",
    "\n",
    "print(\"\\n--- CIFAR-10 資料維度 (NumPy) ---\")\n",
    "print(\"訓練資料 X:\", cifar10_train_x_np.shape)\n",
    "print(\"訓練標籤 Y:\", cifar10_train_y_np.shape)\n",
    "print(\"測試資料 X:\", cifar10_test_x_np.shape)\n",
    "print(\"測試標籤 Y:\", cifar10_test_y_np.shape)\n",
    "print(\"類別名稱:\", cifar10_class_names)"
   ]
  },
  {
   "cell_type": "markdown",
   "metadata": {
    "id": "O3vyB8NfEn0f"
   },
   "source": [
    "## Bonus Step 3: 資料預處理"
   ]
  },
  {
   "cell_type": "code",
   "execution_count": 31,
   "metadata": {
    "colab": {
     "base_uri": "https://localhost:8080/"
    },
    "id": "PVBld0nOEqV3",
    "outputId": "81514ddc-108e-41d7-9141-7a9eb05e8938"
   },
   "outputs": [
    {
     "name": "stdout",
     "output_type": "stream",
     "text": [
      "\n",
      "--- CIFAR-10 序列資料維度 (CuPy) ---\n",
      "train_x shape: (50000, 32, 96)\n",
      "train_y shape: (50000, 10)\n",
      "test_x shape: (10000, 32, 96)\n",
      "test_y shape: (10000, 10)\n"
     ]
    }
   ],
   "source": [
    "# --- 1. 轉置與塑形 ---\n",
    "# (N, C, H, W) -> (N, H, W, C)\n",
    "train_x_transposed = cifar10_train_x_np.transpose(0, 2, 3, 1)\n",
    "test_x_transposed = cifar10_test_x_np.transpose(0, 2, 3, 1)\n",
    "\n",
    "# (N, H, W, C) -> (N, T_x, n_x)  (T_x=H, n_x=W*C)\n",
    "cifar10_train_x_seq = train_x_transposed.reshape(50000, 32, -1)\n",
    "cifar10_test_x_seq = test_x_transposed.reshape(10000, 32, -1)\n",
    "\n",
    "\n",
    "# --- 2. 轉換為 Cupy 陣列並 Normalize ---\n",
    "train_x = cp.asarray(cifar10_train_x_seq) / 255.0\n",
    "test_x = cp.asarray(cifar10_test_x_seq) / 255.0\n",
    "\n",
    "\n",
    "# --- 3. 處理標籤 (Cupy + One-Hot) ---\n",
    "train_y_cp_orig = cp.asarray(cifar10_train_y_np)\n",
    "test_y_cp_orig = cp.asarray(cifar10_test_y_np)\n",
    "\n",
    "num_classes_cifar10 = 10\n",
    "train_y = one_hot_encode(train_y_cp_orig, num_classes_cifar10)\n",
    "test_y = one_hot_encode(test_y_cp_orig, num_classes_cifar10)\n",
    "\n",
    "\n",
    "# --- 4. 驗證最終維度 ---\n",
    "print(\"\\n--- CIFAR-10 序列資料維度 (CuPy) ---\")\n",
    "print(\"train_x shape:\", train_x.shape)\n",
    "print(\"train_y shape:\", train_y.shape)\n",
    "print(\"test_x shape:\", test_x.shape)\n",
    "print(\"test_y shape:\", test_y.shape)"
   ]
  },
  {
   "cell_type": "markdown",
   "metadata": {
    "id": "B5fDR4ZwFE6Q"
   },
   "source": [
    "## Bonus Step 4: 訓練 CIFAR-10 模型"
   ]
  },
  {
   "cell_type": "code",
   "execution_count": 34,
   "metadata": {
    "colab": {
     "base_uri": "https://localhost:8080/"
    },
    "id": "-ENfvg5UFHdQ",
    "outputId": "3a56e835-7db9-4df8-ee75-ea9ffaf13345"
   },
   "outputs": [
    {
     "name": "stdout",
     "output_type": "stream",
     "text": [
      "Epoch 1/150 - Cost: 2.113161 - Accuracy: 0.2941 - Time: 10.28s\n",
      "  -> Accuracy improved to 0.2941! Saving model.\n",
      "Epoch 2/150 - Cost: 1.911338 - Accuracy: 0.3048 - Time: 10.00s\n",
      "  -> Accuracy improved to 0.3048! Saving model.\n",
      "Epoch 3/150 - Cost: 1.827638 - Accuracy: 0.3359 - Time: 10.32s\n",
      "  -> Accuracy improved to 0.3359! Saving model.\n",
      "Epoch 4/150 - Cost: 1.772197 - Accuracy: 0.3622 - Time: 11.33s\n",
      "  -> Accuracy improved to 0.3622! Saving model.\n",
      "Epoch 5/150 - Cost: 1.727441 - Accuracy: 0.3817 - Time: 10.36s\n",
      "  -> Accuracy improved to 0.3817! Saving model.\n",
      "Epoch 6/150 - Cost: 1.691920 - Accuracy: 0.4063 - Time: 10.34s\n",
      "  -> Accuracy improved to 0.4063! Saving model.\n",
      "Epoch 7/150 - Cost: 1.661781 - Accuracy: 0.4050 - Time: 10.86s\n",
      "  -> Accuracy did not improve for 1 epoch(s).\n",
      "Epoch 8/150 - Cost: 1.633048 - Accuracy: 0.4276 - Time: 10.34s\n",
      "  -> Accuracy improved to 0.4276! Saving model.\n",
      "Epoch 9/150 - Cost: 1.611042 - Accuracy: 0.4228 - Time: 10.90s\n",
      "  -> Accuracy did not improve for 1 epoch(s).\n",
      "Epoch 10/150 - Cost: 1.593867 - Accuracy: 0.4427 - Time: 10.77s\n",
      "  -> Accuracy improved to 0.4427! Saving model.\n",
      "Epoch 11/150 - Cost: 1.577128 - Accuracy: 0.4433 - Time: 10.59s\n",
      "  -> Accuracy improved to 0.4433! Saving model.\n",
      "Epoch 12/150 - Cost: 1.555322 - Accuracy: 0.4175 - Time: 10.16s\n",
      "  -> Accuracy did not improve for 1 epoch(s).\n",
      "Epoch 13/150 - Cost: 1.544274 - Accuracy: 0.4535 - Time: 10.86s\n",
      "  -> Accuracy improved to 0.4535! Saving model.\n",
      "Epoch 14/150 - Cost: 1.525770 - Accuracy: 0.4496 - Time: 10.32s\n",
      "  -> Accuracy did not improve for 1 epoch(s).\n",
      "Epoch 15/150 - Cost: 1.512252 - Accuracy: 0.4608 - Time: 10.87s\n",
      "  -> Accuracy improved to 0.4608! Saving model.\n",
      "Epoch 16/150 - Cost: 1.505002 - Accuracy: 0.4635 - Time: 10.30s\n",
      "  -> Accuracy improved to 0.4635! Saving model.\n",
      "Epoch 17/150 - Cost: 1.490661 - Accuracy: 0.4678 - Time: 10.90s\n",
      "  -> Accuracy improved to 0.4678! Saving model.\n",
      "Epoch 18/150 - Cost: 1.484504 - Accuracy: 0.4594 - Time: 10.88s\n",
      "  -> Accuracy did not improve for 1 epoch(s).\n",
      "Epoch 19/150 - Cost: 1.471350 - Accuracy: 0.4682 - Time: 10.37s\n",
      "  -> Accuracy improved to 0.4682! Saving model.\n",
      "Epoch 20/150 - Cost: 1.457830 - Accuracy: 0.4784 - Time: 10.67s\n",
      "  -> Accuracy improved to 0.4784! Saving model.\n",
      "Epoch 21/150 - Cost: 1.449054 - Accuracy: 0.4614 - Time: 10.64s\n",
      "  -> Accuracy did not improve for 1 epoch(s).\n",
      "Epoch 22/150 - Cost: 1.438017 - Accuracy: 0.4529 - Time: 10.27s\n",
      "  -> Accuracy did not improve for 2 epoch(s).\n",
      "Epoch 23/150 - Cost: 1.425832 - Accuracy: 0.4442 - Time: 10.86s\n",
      "  -> Accuracy did not improve for 3 epoch(s).\n",
      "Epoch 24/150 - Cost: 1.413662 - Accuracy: 0.4671 - Time: 10.32s\n",
      "  -> Accuracy did not improve for 4 epoch(s).\n",
      "Epoch 25/150 - Cost: 1.414653 - Accuracy: 0.4653 - Time: 10.84s\n",
      "  -> Accuracy did not improve for 5 epoch(s).\n",
      "Epoch 26/150 - Cost: 1.399647 - Accuracy: 0.4625 - Time: 10.90s\n",
      "  -> Accuracy did not improve for 6 epoch(s).\n",
      "Epoch 27/150 - Cost: 1.394505 - Accuracy: 0.4813 - Time: 10.26s\n",
      "  -> Accuracy improved to 0.4813! Saving model.\n",
      "Epoch 28/150 - Cost: 1.382493 - Accuracy: 0.4913 - Time: 10.94s\n",
      "  -> Accuracy improved to 0.4913! Saving model.\n",
      "Epoch 29/150 - Cost: 1.375602 - Accuracy: 0.4784 - Time: 10.84s\n",
      "  -> Accuracy did not improve for 1 epoch(s).\n",
      "Epoch 30/150 - Cost: 1.369828 - Accuracy: 0.4987 - Time: 10.60s\n",
      "  -> Accuracy improved to 0.4987! Saving model.\n",
      "Epoch 31/150 - Cost: 1.357891 - Accuracy: 0.4972 - Time: 10.05s\n",
      "  -> Accuracy did not improve for 1 epoch(s).\n",
      "Epoch 32/150 - Cost: 1.349436 - Accuracy: 0.5018 - Time: 10.86s\n",
      "  -> Accuracy improved to 0.5018! Saving model.\n",
      "Epoch 33/150 - Cost: 1.343732 - Accuracy: 0.4969 - Time: 10.25s\n",
      "  -> Accuracy did not improve for 1 epoch(s).\n",
      "Epoch 34/150 - Cost: 1.337059 - Accuracy: 0.5039 - Time: 10.30s\n",
      "  -> Accuracy improved to 0.5039! Saving model.\n",
      "Epoch 35/150 - Cost: 1.323899 - Accuracy: 0.5017 - Time: 10.29s\n",
      "  -> Accuracy did not improve for 1 epoch(s).\n",
      "Epoch 36/150 - Cost: 1.319698 - Accuracy: 0.4949 - Time: 10.87s\n",
      "  -> Accuracy did not improve for 2 epoch(s).\n",
      "Epoch 37/150 - Cost: 1.315467 - Accuracy: 0.4972 - Time: 10.81s\n",
      "  -> Accuracy did not improve for 3 epoch(s).\n",
      "Epoch 38/150 - Cost: 1.305834 - Accuracy: 0.5014 - Time: 10.23s\n",
      "  -> Accuracy did not improve for 4 epoch(s).\n",
      "Epoch 39/150 - Cost: 1.303308 - Accuracy: 0.5028 - Time: 10.60s\n",
      "  -> Accuracy did not improve for 5 epoch(s).\n",
      "Epoch 40/150 - Cost: 1.293589 - Accuracy: 0.4967 - Time: 9.98s\n",
      "  -> Accuracy did not improve for 6 epoch(s).\n",
      "Epoch 41/150 - Cost: 1.288336 - Accuracy: 0.5106 - Time: 10.88s\n",
      "  -> Accuracy improved to 0.5106! Saving model.\n",
      "Epoch 42/150 - Cost: 1.282374 - Accuracy: 0.5061 - Time: 10.83s\n",
      "  -> Accuracy did not improve for 1 epoch(s).\n",
      "Epoch 43/150 - Cost: 1.276067 - Accuracy: 0.5050 - Time: 10.30s\n",
      "  -> Accuracy did not improve for 2 epoch(s).\n",
      "Epoch 44/150 - Cost: 1.268959 - Accuracy: 0.5081 - Time: 10.91s\n",
      "  -> Accuracy did not improve for 3 epoch(s).\n",
      "Epoch 45/150 - Cost: 1.264414 - Accuracy: 0.5116 - Time: 10.26s\n",
      "  -> Accuracy improved to 0.5116! Saving model.\n",
      "Epoch 46/150 - Cost: 1.259530 - Accuracy: 0.5087 - Time: 10.35s\n",
      "  -> Accuracy did not improve for 1 epoch(s).\n",
      "Epoch 47/150 - Cost: 1.251565 - Accuracy: 0.5162 - Time: 10.88s\n",
      "  -> Accuracy improved to 0.5162! Saving model.\n",
      "Epoch 48/150 - Cost: 1.245928 - Accuracy: 0.5113 - Time: 10.88s\n",
      "  -> Accuracy did not improve for 1 epoch(s).\n",
      "Epoch 49/150 - Cost: 1.240931 - Accuracy: 0.5001 - Time: 9.86s\n",
      "  -> Accuracy did not improve for 2 epoch(s).\n",
      "Epoch 50/150 - Cost: 1.237813 - Accuracy: 0.5184 - Time: 10.89s\n",
      "  -> Accuracy improved to 0.5184! Saving model.\n",
      "Epoch 51/150 - Cost: 1.233467 - Accuracy: 0.5169 - Time: 10.31s\n",
      "  -> Accuracy did not improve for 1 epoch(s).\n",
      "Epoch 52/150 - Cost: 1.225407 - Accuracy: 0.5122 - Time: 10.94s\n",
      "  -> Accuracy did not improve for 2 epoch(s).\n",
      "Epoch 53/150 - Cost: 1.220256 - Accuracy: 0.5188 - Time: 10.98s\n",
      "  -> Accuracy improved to 0.5188! Saving model.\n",
      "Epoch 54/150 - Cost: 1.214196 - Accuracy: 0.5123 - Time: 10.93s\n",
      "  -> Accuracy did not improve for 1 epoch(s).\n",
      "Epoch 55/150 - Cost: 1.210922 - Accuracy: 0.5117 - Time: 10.90s\n",
      "  -> Accuracy did not improve for 2 epoch(s).\n",
      "Epoch 56/150 - Cost: 1.209499 - Accuracy: 0.5034 - Time: 10.36s\n",
      "  -> Accuracy did not improve for 3 epoch(s).\n",
      "Epoch 57/150 - Cost: 1.199915 - Accuracy: 0.5239 - Time: 10.99s\n",
      "  -> Accuracy improved to 0.5239! Saving model.\n",
      "Epoch 58/150 - Cost: 1.197299 - Accuracy: 0.5129 - Time: 10.29s\n",
      "  -> Accuracy did not improve for 1 epoch(s).\n",
      "Epoch 59/150 - Cost: 1.195286 - Accuracy: 0.5226 - Time: 10.59s\n",
      "  -> Accuracy did not improve for 2 epoch(s).\n",
      "Epoch 60/150 - Cost: 1.190649 - Accuracy: 0.5190 - Time: 10.72s\n",
      "  -> Accuracy did not improve for 3 epoch(s).\n",
      "Epoch 61/150 - Cost: 1.184327 - Accuracy: 0.5199 - Time: 10.35s\n",
      "  -> Accuracy did not improve for 4 epoch(s).\n",
      "Epoch 62/150 - Cost: 1.170514 - Accuracy: 0.5005 - Time: 10.91s\n",
      "  -> Accuracy did not improve for 5 epoch(s).\n",
      "Epoch 63/150 - Cost: 1.175310 - Accuracy: 0.5279 - Time: 10.38s\n",
      "  -> Accuracy improved to 0.5279! Saving model.\n",
      "Epoch 64/150 - Cost: 1.166926 - Accuracy: 0.5099 - Time: 10.87s\n",
      "  -> Accuracy did not improve for 1 epoch(s).\n",
      "Epoch 65/150 - Cost: 1.163792 - Accuracy: 0.4989 - Time: 10.29s\n",
      "  -> Accuracy did not improve for 2 epoch(s).\n",
      "Epoch 66/150 - Cost: 1.159339 - Accuracy: 0.5129 - Time: 10.87s\n",
      "  -> Accuracy did not improve for 3 epoch(s).\n",
      "Epoch 67/150 - Cost: 1.154998 - Accuracy: 0.5168 - Time: 10.31s\n",
      "  -> Accuracy did not improve for 4 epoch(s).\n",
      "Epoch 68/150 - Cost: 1.152394 - Accuracy: 0.5201 - Time: 10.80s\n",
      "  -> Accuracy did not improve for 5 epoch(s).\n",
      "Epoch 69/150 - Cost: 1.151913 - Accuracy: 0.5173 - Time: 9.92s\n",
      "  -> Accuracy did not improve for 6 epoch(s).\n",
      "Epoch 70/150 - Cost: 1.143798 - Accuracy: 0.5232 - Time: 10.89s\n",
      "  -> Accuracy did not improve for 7 epoch(s).\n",
      "Epoch 71/150 - Cost: 1.134914 - Accuracy: 0.5138 - Time: 10.25s\n",
      "  -> Accuracy did not improve for 8 epoch(s).\n",
      "Epoch 72/150 - Cost: 1.133606 - Accuracy: 0.5133 - Time: 10.88s\n",
      "  -> Accuracy did not improve for 9 epoch(s).\n",
      "Epoch 73/150 - Cost: 1.135619 - Accuracy: 0.5193 - Time: 10.30s\n",
      "  -> Accuracy did not improve for 10 epoch(s).\n",
      "\n",
      "Early stopping triggered after 10 epochs with no improvement.\n",
      "Saving parameters to my_cifar10_rnn_model.npz...\n",
      "Parameters saved successfully.\n"
     ]
    }
   ],
   "source": [
    "# --- 設定 CIFAR-10 的 Hyperparameter ---\n",
    "LEARNING_RATE_CIFAR = 0.01  # 稍微調低學習率\n",
    "NUM_EPOCHS_CIFAR = 150     # 提高 Epoch 上限\n",
    "BATCH_SIZE_CIFAR = 128\n",
    "N_A_CIFAR = 256        # 增加隱藏層神經元數量\n",
    "PATIENCE_CIFAR = 10      # 稍微增加耐心度\n",
    "\n",
    "# --- 開始訓練！---\n",
    "# 注意這裡的變數都是我們在 Bonus Step 3 中為 CIFAR-10 準備好的\n",
    "cifar10_params, cifar10_history = rnn_model(\n",
    "    train_x, train_y, train_y_cp_orig,\n",
    "    test_x, test_y_cp_orig,\n",
    "    n_a=N_A_CIFAR,\n",
    "    learning_rate=LEARNING_RATE_CIFAR,\n",
    "    num_epochs=NUM_EPOCHS_CIFAR,\n",
    "    batch_size=BATCH_SIZE_CIFAR,\n",
    "    use_early_stopping=True,\n",
    "    early_stopping_patience=PATIENCE_CIFAR\n",
    ")\n",
    "\n",
    "# --- 儲存訓練好的 CIFAR-10 模型權重 ---\n",
    "save_parameters(cifar10_params, \"my_cifar10_rnn_model.npz\")"
   ]
  },
  {
   "cell_type": "markdown",
   "metadata": {
    "id": "cdAaqUqdLGVB"
   },
   "source": [
    "## Bonus Step 5: CIFAR-10 效能評估"
   ]
  },
  {
   "cell_type": "code",
   "execution_count": null,
   "metadata": {
    "id": "2RFd-3E5LKQh"
   },
   "outputs": [],
   "source": [
    "# 重新載入 CIFAR-10 模型 (如果需要)\n",
    "cifar10_trained_parameters = load_parameters(\"my_cifar10_rnn_model.npz\")"
   ]
  },
  {
   "cell_type": "code",
   "execution_count": 36,
   "metadata": {
    "colab": {
     "base_uri": "https://localhost:8080/",
     "height": 960
    },
    "id": "NX0U6OTzLCzA",
    "outputId": "3497ef5b-1b3a-4ee3-c5b1-06a92244eab4"
   },
   "outputs": [
    {
     "name": "stdout",
     "output_type": "stream",
     "text": [
      "在 CIFAR-10 測試集上進行最終預測...\n",
      "CIFAR-10 模型最終準確率: 52.79%\n"
     ]
    },
    {
     "data": {
      "image/png": "[encoded data removed]",
      "text/plain": [
       "<Figure size 1200x1000 with 2 Axes>"
      ]
     },
     "metadata": {},
     "output_type": "display_data"
    }
   ],
   "source": [
    "# 1. 在 CIFAR-10 測試集上進行最終預測\n",
    "print(\"在 CIFAR-10 測試集上進行最終預測...\")\n",
    "cifar10_test_predictions = predict_rnn(test_x, cifar10_params)\n",
    "\n",
    "# 2. 確認最終準確率\n",
    "final_accuracy_cifar10 = calculate_accuracy_rnn(cifar10_test_predictions, test_y_cp_orig)\n",
    "print(f\"CIFAR-10 模型最終準確率: {cp.asnumpy(final_accuracy_cifar10)*100:.2f}%\")\n",
    "\n",
    "\n",
    "# 3. 建立 CIFAR-10 混淆矩陣\n",
    "confusion_matrix_cifar10_cp = cp.zeros((num_classes_cifar10, num_classes_cifar10), dtype=int)\n",
    "for i in range(len(test_y_cp_orig)):\n",
    "    true_label = test_y_cp_orig[i]\n",
    "    predicted_label = cifar10_test_predictions[i]\n",
    "    confusion_matrix_cifar10_cp[true_label, predicted_label] += 1\n",
    "\n",
    "# 4. 視覺化混淆矩陣 (使用類別名稱)\n",
    "confusion_matrix_cifar10_np = cp.asnumpy(confusion_matrix_cifar10_cp)\n",
    "\n",
    "plt.figure(figsize=(12, 10))\n",
    "sns.heatmap(\n",
    "    confusion_matrix_cifar10_np,\n",
    "    annot=True,\n",
    "    fmt=\"d\",\n",
    "    cmap=\"Blues\",\n",
    "    xticklabels=cifar10_class_names, # 使用我們載入的類別名稱\n",
    "    yticklabels=cifar10_class_names,\n",
    ")\n",
    "plt.title(\"CIFAR-10 Confusion Matrix Heatmap (RNN Model)\")\n",
    "plt.xlabel(\"Predicted Label\")\n",
    "plt.ylabel(\"True Label\")\n",
    "plt.xticks(rotation=45)\n",
    "plt.yticks(rotation=0)\n",
    "plt.show()"
   ]
  },
  {
   "cell_type": "code",
   "execution_count": 37,
   "metadata": {
    "colab": {
     "base_uri": "https://localhost:8080/"
    },
    "id": "HEzv8sLOLYSM",
    "outputId": "3e08808f-0aa8-437b-ce1d-11a1daecfde4"
   },
   "outputs": [
    {
     "name": "stdout",
     "output_type": "stream",
     "text": [
      "\n",
      "--- CIFAR-10 各類別的性能指標 ---\n",
      "類別 'airplane':\n",
      "  精確率 (Precision): 0.6047\n",
      "  召回率 (Recall):    0.5720\n",
      "類別 'automobile':\n",
      "  精確率 (Precision): 0.6804\n",
      "  召回率 (Recall):    0.6260\n",
      "類別 'bird':\n",
      "  精確率 (Precision): 0.4166\n",
      "  召回率 (Recall):    0.3970\n",
      "類別 'cat':\n",
      "  精確率 (Precision): 0.3379\n",
      "  召回率 (Recall):    0.3950\n",
      "類別 'deer':\n",
      "  精確率 (Precision): 0.4700\n",
      "  召回率 (Recall):    0.4470\n",
      "類別 'dog':\n",
      "  精確率 (Precision): 0.4705\n",
      "  召回率 (Recall):    0.3270\n",
      "類別 'frog':\n",
      "  精確率 (Precision): 0.5167\n",
      "  召回率 (Recall):    0.6190\n",
      "類別 'horse':\n",
      "  精確率 (Precision): 0.6020\n",
      "  召回率 (Recall):    0.5900\n",
      "類別 'ship':\n",
      "  精確率 (Precision): 0.6069\n",
      "  召回率 (Recall):    0.7010\n",
      "類別 'truck':\n",
      "  精確率 (Precision): 0.5857\n",
      "  召回率 (Recall):    0.6050\n"
     ]
    }
   ],
   "source": [
    "# 計算 CIFAR-10 各類別的性能指標\n",
    "print(\"\\n--- CIFAR-10 各類別的性能指標 ---\")\n",
    "for i in range(num_classes_cifar10):\n",
    "    true_positives = confusion_matrix_cifar10_cp[i, i]\n",
    "    predicted_positives = cp.sum(confusion_matrix_cifar10_cp[:, i])\n",
    "    actual_positives = cp.sum(confusion_matrix_cifar10_cp[i, :])\n",
    "\n",
    "    precision = true_positives / (predicted_positives + 1e-9)\n",
    "    recall = true_positives / (actual_positives + 1e-9)\n",
    "\n",
    "    print(f\"類別 '{cifar10_class_names[i]}':\")\n",
    "    print(f\"  精確率 (Precision): {cp.asnumpy(precision):.4f}\")\n",
    "    print(f\"  召回率 (Recall):    {cp.asnumpy(recall):.4f}\")"
   ]
  },
  {
   "cell_type": "code",
   "execution_count": 38,
   "metadata": {
    "colab": {
     "base_uri": "https://localhost:8080/",
     "height": 539
    },
    "id": "z8aTEbdCLdyd",
    "outputId": "fa976b85-4b94-4346-e2d3-f5b605f7599f"
   },
   "outputs": [
    {
     "data": {
      "image/png": "[encoded data removed]",
      "text/plain": [
       "<Figure size 1600x600 with 2 Axes>"
      ]
     },
     "metadata": {},
     "output_type": "display_data"
    }
   ],
   "source": [
    "# --- 將 Cupy 陣列轉為 NumPy 陣列以便繪圖 ---\n",
    "costs_cifar10_cp = cp.array(cifar10_history['costs'])\n",
    "accuracies_cifar10_cp = cp.array(cifar10_history['accuracies'])\n",
    "costs_cifar10_np = cp.asnumpy(costs_cifar10_cp)\n",
    "accuracies_cifar10_np = cp.asnumpy(accuracies_cifar10_cp)\n",
    "\n",
    "# --- 開始繪圖 ---\n",
    "fig, (ax1, ax2) = plt.subplots(1, 2, figsize=(16, 6))\n",
    "fig.suptitle('CIFAR-10 Model Learning Curves (RNN)', fontsize=16)\n",
    "\n",
    "ax1.plot(costs_cifar10_np, label='Training Loss')\n",
    "ax1.set_title(\"Loss vs. Epochs\")\n",
    "ax1.set_xlabel(\"Epoch\")\n",
    "ax1.set_ylabel(\"Loss\")\n",
    "ax1.grid(True)\n",
    "ax1.legend()\n",
    "\n",
    "ax2.plot(accuracies_cifar10_np, label='Test Accuracy', color='orange')\n",
    "ax2.set_title(\"Accuracy vs. Epochs\")\n",
    "ax2.set_xlabel(\"Epoch\")\n",
    "ax2.set_ylabel(\"Accuracy\")\n",
    "ax2.grid(True)\n",
    "ax2.legend()\n",
    "\n",
    "plt.show()"
   ]
  },
  {
   "cell_type": "markdown",
   "metadata": {
    "id": "YbtW_JMuDzJ4"
   },
   "source": [
    "# Conclusion"
   ]
  },
  {
   "cell_type": "markdown",
   "metadata": {
    "id": "ONAlAfNCD0pW"
   },
   "source": [
    "本次作業成功地從零開始建構了一個功能完整的 RNN，不僅達成了作業要求，也完成了 CIFAR-10 的加分挑戰，從而驗證了對 RNN 核心概念，特別是 BPTT 演算法的理解。\n",
    "\n",
    "在 MNIST 資料集上，模型表現出色，達到了 97.72% 的高準確率。從學習曲線圖中可以看到，訓練損失穩定下降，而測試準確率則快速上升後趨於平穩，顯示模型有效地學習到了手寫數字的序列特徵。混淆矩陣的結果也顯示，模型在大多數數字上都有很高的辨識度。透過解決初期的梯度消失問題，也讓我深刻體會到權重初始化對 RNN 訓練穩定性的重要性。\n",
    "\n",
    "在 CIFAR-10 加分項目中，模型 52.79% 的準確率雖然遠低於其在 MNIST 上的成果，但這完全在預期之內。CIFAR-10 的自然影像是二維空間結構高度相關的資料，將其強行轉換為一維時間序列，本身就損失了大量的空間資訊（例如，一個物體的垂直與水平關聯性）。此外，Simple RNN 的「記憶」是短期的，對於長達 32 個 Timestep 且特徵維度高達 96 的序列，很難捕捉到圖像從頭到尾的完整語意。儘管準確率不高，但成功將模型拓展至處理更複雜、更高維度的序列資料，證明了模型架構的通用性。\n",
    "\n",
    "與 CNN 的比較與反思：對比 HW4 的 CNN 模型 (MNIST 準確率 98.60%)，本次的 RNN 模型 (97.72%) 表現略遜一籌。這凸顯了不同網路架構的「歸納偏置 (Inductive Bias)」差異。CNN 的卷積核設計，使其天然具備 **空間局部性** 和 **平移不變性** 的特點，非常適合提取影像的空間特徵（如邊緣、紋理）。而 RNN 的設計則偏向於捕捉 **時間序列上的前後關聯性** 。將圖片視為像素列序列的作法，雖然捕捉了垂直方向的關聯，卻破壞了水平方向的空間結構，因此在影像分類這類空間任務上，其天生劣勢是難以避免的。\n",
    "\n",
    "總體而言，本次專案最大的收穫在於透過親手打造 BPTT，深刻體會了梯度在時間維度上傳播的機制，以及它為何會產生梯度消失/爆炸等經典問題。這個經驗也讓我更清楚地認識到，針對不同的問題領域，選擇合適的模型架構是多麼至關重要。"
   ]
  },
  {
   "cell_type": "code",
   "execution_count": null,
   "metadata": {},
   "outputs": [],
   "source": []
  }
 ],
 "metadata": {
  "accelerator": "GPU",
  "colab": {
   "gpuType": "T4",
   "provenance": [],
   "toc_visible": true
  },
  "kernelspec": {
   "display_name": "Python 3 (ipykernel)",
   "language": "python",
   "name": "python3"
  },
  "language_info": {
   "codemirror_mode": {
    "name": "ipython",
    "version": 3
   },
   "file_extension": ".py",
   "mimetype": "text/x-python",
   "name": "python",
   "nbconvert_exporter": "python",
   "pygments_lexer": "ipython3",
   "version": "3.13.2"
  }
 },
 "nbformat": 4,
 "nbformat_minor": 4
}
