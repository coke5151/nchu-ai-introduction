{
 "cells": [
  {
   "cell_type": "markdown",
   "id": "1a20a82c",
   "metadata": {},
   "source": [
    "# Summary\n",
    "\n",
    "本報告旨在實作一個雙層神經網路，並應用於 MNIST 手寫數字資料集的分類任務 。為符合要求，整個神經網路模型，包括其訓練過程，均使用 Python 和 NumPy 函式庫從零開始搭建，不依賴任何現有的機器學習框架。\n",
    "\n",
    "實作流程始於資料的獲取與前處理。首先，由於原始 MNIST 資料集網站的下載問題，我改由穩定的 GitHub mirror 來源獲取資料 。接著，對資料進行標準化前處理，包含將 28×28 的二維圖片資料拉平為 784 維的特徵向量 ，將像素值 normalize 至 0 到 1 的區間 ，並對分類標籤進行 One-Hot Encode，以便於後續損失函數的計算。\n",
    "\n",
    "神經網路的核心架構包含一個使用 ReLU 作為激活函數的隱藏層，以及一個使用 Softmax 函數進行多類別機率輸出的輸出層。這份 ipynb 完整地實作了模型訓練的關鍵演算法，包括：\n",
    "\n",
    "- 前向傳播 (Forward Propagation)：根據輸入資料與當前參數計算預測輸出 。\n",
    "- 損失函數 (Loss Function)：採用 Cross-Entropy Loss 來衡量預測與正解間的差異。\n",
    "- 反向傳播 (Backward Propagation)：計算損失函數對各層參數的梯度。\n",
    "- 參數更新 (Update Parameters)：根據計算出的梯度，透過梯度下降法來迭代優化模型權重。\n",
    "\n",
    "整個訓練過程採用小批次梯度下降 (Mini-batch Gradient Descent) 的方式，並在每個訓練世代 (epoch) 開始前對資料進行隨機洗牌，以提升模型的泛化能力。"
   ]
  },
  {
   "cell_type": "markdown",
   "id": "8f6a3fa5",
   "metadata": {},
   "source": [
    "# Step 0: 下載資料集"
   ]
  },
  {
   "cell_type": "code",
   "execution_count": 23,
   "id": "7e314c49",
   "metadata": {},
   "outputs": [],
   "source": [
    "# 從 Github mirror 下載資料集（原作者 http://yann.lecun.com/exdb/mnist/ 似乎資料已刪除）\n",
    "\n",
    "\n",
    "def get_mnist():\n",
    "    \"\"\"\n",
    "    The code to download the mnist data original came from\n",
    "    https://cntk.ai/pythondocs/CNTK_103A_MNIST_DataLoader.html\n",
    "    \"\"\"\n",
    "\n",
    "    import gzip\n",
    "    import numpy as np\n",
    "    import os\n",
    "    import struct\n",
    "\n",
    "    from urllib.request import urlretrieve\n",
    "\n",
    "    def load_data(src, num_samples):\n",
    "        print(\"Downloading \" + src)\n",
    "        gzfname, h = urlretrieve(src, \"./delete.me\")\n",
    "        print(\"Done.\")\n",
    "        try:\n",
    "            with gzip.open(gzfname) as gz:\n",
    "                n = struct.unpack(\"I\", gz.read(4))\n",
    "                # Read magic number.\n",
    "                if n[0] != 0x3080000:\n",
    "                    raise Exception(\"Invalid file: unexpected magic number.\")\n",
    "                # Read number of entries.\n",
    "                n = struct.unpack(\">I\", gz.read(4))[0]\n",
    "                if n != num_samples:\n",
    "                    raise Exception(f\"Invalid file: expected {num_samples} entries.\")\n",
    "                crow = struct.unpack(\">I\", gz.read(4))[0]\n",
    "                ccol = struct.unpack(\">I\", gz.read(4))[0]\n",
    "                if crow != 28 or ccol != 28:\n",
    "                    raise Exception(\"Invalid file: expected 28 rows/cols per image.\")\n",
    "                # Read data.\n",
    "                res = np.frombuffer(gz.read(num_samples * crow * ccol), dtype=np.uint8)\n",
    "        finally:\n",
    "            os.remove(gzfname)\n",
    "        return res.reshape((num_samples, crow, ccol)) / 256 # 順便做了 normalize\n",
    "\n",
    "    def load_labels(src, num_samples):\n",
    "        print(\"Downloading \" + src)\n",
    "        gzfname, h = urlretrieve(src, \"./delete.me\")\n",
    "        print(\"Done.\")\n",
    "        try:\n",
    "            with gzip.open(gzfname) as gz:\n",
    "                n = struct.unpack(\"I\", gz.read(4))\n",
    "                # Read magic number.\n",
    "                if n[0] != 0x1080000:\n",
    "                    raise Exception(\"Invalid file: unexpected magic number.\")\n",
    "                # Read number of entries.\n",
    "                n = struct.unpack(\">I\", gz.read(4))\n",
    "                if n[0] != num_samples:\n",
    "                    raise Exception(f\"Invalid file: expected {num_samples} rows.\")\n",
    "                # Read labels.\n",
    "                res = np.frombuffer(gz.read(num_samples), dtype=np.uint8)\n",
    "        finally:\n",
    "            os.remove(gzfname)\n",
    "        return res.reshape(num_samples)\n",
    "\n",
    "    def try_download(data_source, label_source, num_samples):\n",
    "        data = load_data(data_source, num_samples)\n",
    "        labels = load_labels(label_source, num_samples)\n",
    "        return data, labels\n",
    "\n",
    "    # Not sure why, but yann lecun's website does no longer support\n",
    "    # simple downloader. (e.g. urlretrieve and wget fail, while curl work)\n",
    "    # Since not everyone has linux, use a mirror from uni server.\n",
    "    #     server = 'http://yann.lecun.com/exdb/mnist'\n",
    "    server = \"https://raw.githubusercontent.com/fgnt/mnist/master\"\n",
    "\n",
    "    # URLs for the train image and label data\n",
    "    url_train_image = f\"{server}/train-images-idx3-ubyte.gz\"\n",
    "    url_train_labels = f\"{server}/train-labels-idx1-ubyte.gz\"\n",
    "    num_train_samples = 60000\n",
    "\n",
    "    print(\"Downloading train data\")\n",
    "    train_features, train_labels = try_download(url_train_image, url_train_labels, num_train_samples)\n",
    "\n",
    "    # URLs for the test image and label data\n",
    "    url_test_image = f\"{server}/t10k-images-idx3-ubyte.gz\"\n",
    "    url_test_labels = f\"{server}/t10k-labels-idx1-ubyte.gz\"\n",
    "    num_test_samples = 10000\n",
    "\n",
    "    print(\"Downloading test data\")\n",
    "    test_features, test_labels = try_download(url_test_image, url_test_labels, num_test_samples)\n",
    "\n",
    "    return train_features, train_labels, test_features, test_labels\n"
   ]
  },
  {
   "cell_type": "code",
   "execution_count": 24,
   "id": "abd9a76c",
   "metadata": {},
   "outputs": [
    {
     "name": "stdout",
     "output_type": "stream",
     "text": [
      "Downloading train data\n",
      "Downloading https://raw.githubusercontent.com/fgnt/mnist/master/train-images-idx3-ubyte.gz\n",
      "Done.\n",
      "Downloading https://raw.githubusercontent.com/fgnt/mnist/master/train-labels-idx1-ubyte.gz\n",
      "Done.\n",
      "Downloading test data\n",
      "Downloading https://raw.githubusercontent.com/fgnt/mnist/master/t10k-images-idx3-ubyte.gz\n",
      "Done.\n",
      "Downloading https://raw.githubusercontent.com/fgnt/mnist/master/t10k-labels-idx1-ubyte.gz\n",
      "Done.\n"
     ]
    }
   ],
   "source": [
    "train_features, train_labels, test_features, test_labels = get_mnist()"
   ]
  },
  {
   "cell_type": "code",
   "execution_count": 25,
   "id": "f7cb6a2d",
   "metadata": {},
   "outputs": [],
   "source": [
    "import os\n",
    "\n",
    "os.makedirs(\"data\", exist_ok=True)  # 確保 data 資料夾存在"
   ]
  },
  {
   "cell_type": "code",
   "execution_count": 26,
   "id": "6f33fa8c",
   "metadata": {},
   "outputs": [],
   "source": [
    "import numpy as np\n",
    "\n",
    "np.savez_compressed(\n",
    "    \"data/mnist_dataset.npz\", train_x=train_features, train_y=train_labels, test_x=test_features, test_y=test_labels\n",
    ")\n"
   ]
  },
  {
   "cell_type": "markdown",
   "id": "85697df0",
   "metadata": {},
   "source": [
    "# Step 1: Data Processing"
   ]
  },
  {
   "cell_type": "markdown",
   "id": "01cc865f",
   "metadata": {},
   "source": [
    "## Step 1-1: Read data and reshape"
   ]
  },
  {
   "cell_type": "code",
   "execution_count": 27,
   "id": "e4021579",
   "metadata": {},
   "outputs": [
    {
     "name": "stdout",
     "output_type": "stream",
     "text": [
      "train_x_orig.shape: (60000, 28, 28)\n",
      "train_y_orig.shape: (60000,)\n",
      "test_x_orig.shape: (10000, 28, 28)\n",
      "test_y_orig.shape: (10000,)\n"
     ]
    }
   ],
   "source": [
    "# 讀取已儲存的 .npz 檔案\n",
    "mnist_data = np.load(\"data/mnist_dataset.npz\")\n",
    "\n",
    "# 透過儲存時設定的關鍵字名稱，來取出各個 NDArray\n",
    "train_x_orig = mnist_data[\"train_x\"]\n",
    "train_y_orig = mnist_data[\"train_y\"]\n",
    "test_x_orig = mnist_data[\"test_x\"]\n",
    "test_y_orig = mnist_data[\"test_y\"]\n",
    "\n",
    "# 驗證一下 shape\n",
    "print(\"train_x_orig.shape:\", train_x_orig.shape)\n",
    "print(\"train_y_orig.shape:\", train_y_orig.shape)\n",
    "print(\"test_x_orig.shape:\", test_x_orig.shape)\n",
    "print(\"test_y_orig.shape:\", test_y_orig.shape)"
   ]
  },
  {
   "cell_type": "code",
   "execution_count": 28,
   "id": "3a13ab65",
   "metadata": {},
   "outputs": [
    {
     "name": "stdout",
     "output_type": "stream",
     "text": [
      "tran_x.shape: (60000, 784)\n",
      "test_x.shape: (10000, 784)\n"
     ]
    }
   ],
   "source": [
    "# 將 28x28 的圖片拉平成 784 的向量\n",
    "# -1 會讓 numpy 自動計算該維度的數量\n",
    "train_x = train_x_orig.reshape(train_x_orig.shape[0], -1)\n",
    "test_x = test_x_orig.reshape(test_x_orig.shape[0], -1)\n",
    "\n",
    "print(\"tran_x.shape:\", train_x.shape)  # (60000, 784)\n",
    "print(\"test_x.shape:\", test_x.shape)  # (10000, 784)\n"
   ]
  },
  {
   "cell_type": "markdown",
   "id": "d76345ef",
   "metadata": {},
   "source": [
    "> 在下載的函數中已經將圖片的每個像素值除以 256，已經做完 Normalization"
   ]
  },
  {
   "cell_type": "markdown",
   "id": "02b2b26a",
   "metadata": {},
   "source": [
    "## Step 1-2: 對 Label 進行 One-Hot Encode"
   ]
  },
  {
   "cell_type": "code",
   "execution_count": 29,
   "id": "c31ce4ad",
   "metadata": {},
   "outputs": [
    {
     "name": "stdout",
     "output_type": "stream",
     "text": [
      "One-Hot encode 前的 train_y.shape: (60000,)\n",
      "One-Hot 後的 train_y.shape: (60000, 10)\n",
      "一個 One-Hot 編碼範例 (原始 label 是 5): [0. 0. 0. 0. 0. 1. 0. 0. 0. 0.]\n"
     ]
    }
   ],
   "source": [
    "def one_hot_encode(labels, num_classes):\n",
    "    # 創建一個全為 0 的矩陣，shape 為 (樣本數, 類別數)\n",
    "    one_hot = np.zeros((labels.size, num_classes))\n",
    "    # 在對應的類別位置上填上 1\n",
    "    # np.arange(labels.size) 會產生 [0, 1, 2, ...] 用於定位行\n",
    "    # labels 本身 ([5, 0, 4, ...]) 用於定位列\n",
    "    one_hot[np.arange(labels.size), labels] = 1\n",
    "    return one_hot\n",
    "\n",
    "\n",
    "# 我們的類別是數字 0-9，所以有 10 個類別\n",
    "num_classes = 10\n",
    "train_y = one_hot_encode(train_y_orig, num_classes)\n",
    "test_y = one_hot_encode(test_y_orig, num_classes)\n",
    "\n",
    "print(\"One-Hot encode 前的 train_y.shape:\", train_y_orig.shape)  # (60000,)\n",
    "print(\"One-Hot 後的 train_y.shape:\", train_y.shape)  # (60000, 10)\n",
    "print(f\"一個 One-Hot 編碼範例 (原始 label 是 {train_y_orig[0]}): {train_y[0]}\")\n"
   ]
  },
  {
   "cell_type": "markdown",
   "id": "ce286031",
   "metadata": {},
   "source": [
    "# Step 2: 實作神經網路"
   ]
  },
  {
   "cell_type": "markdown",
   "id": "cdbc96e4",
   "metadata": {},
   "source": [
    "## Step 2-1: 初始化權重\n",
    "\n",
    "初始化兩層神經網路的參數\n",
    "\n",
    "參數:\n",
    "\n",
    "- n_x -- 輸入層的神經元數量（784）\n",
    "- n_h -- 隱藏層的神經元數量（例如 128）\n",
    "- n_y -- 輸出層的神經元數量（10）\n",
    "\n",
    "Return:\n",
    "\n",
    "- parameters -- 一個包含 W1, b1, W2, b2 的 Python dict"
   ]
  },
  {
   "cell_type": "code",
   "execution_count": 30,
   "id": "02137d1c",
   "metadata": {},
   "outputs": [],
   "source": [
    "def initialize_parameters(n_x, n_h, n_y):\n",
    "    # 為了讓每次的隨機結果都一樣，設定一個隨機種子\n",
    "    np.random.seed(42)\n",
    "\n",
    "    # 初始化權重 W1 和 W2，使用常態分佈的隨機數並乘上一個小數 (如 0.01)\n",
    "    # 這樣可以避免起始權重過大\n",
    "    W1 = np.random.randn(n_x, n_h) * 0.01\n",
    "    W2 = np.random.randn(n_h, n_y) * 0.01\n",
    "\n",
    "    # 將 b1 初始化為一個微小的正數，例如 0.01，避免 dying ReLU\n",
    "    b1 = np.ones((1, n_h)) * 0.01\n",
    "\n",
    "    # b2 初始化為 0（它影響的是 softmax）\n",
    "    b2 = np.zeros((1, n_y))\n",
    "\n",
    "    # 將所有參數打包到一個字典中\n",
    "    parameters = {\"W1\": W1, \"b1\": b1, \"W2\": W2, \"b2\": b2}\n",
    "\n",
    "    return parameters"
   ]
  },
  {
   "cell_type": "code",
   "execution_count": 31,
   "id": "e66f5f3b",
   "metadata": {},
   "outputs": [
    {
     "name": "stdout",
     "output_type": "stream",
     "text": [
      "W1 Shape: (784, 128)\n",
      "b1 Shape: (1, 128)\n",
      "W2 Shape: (128, 10)\n",
      "b2 Shape: (1, 10)\n"
     ]
    }
   ],
   "source": [
    "# 測試函數\n",
    "parameters = initialize_parameters(784, 128, 10)\n",
    "\n",
    "# print 出參數的名稱和其維度，確認是否正確\n",
    "print(\"W1 Shape: \" + str(parameters[\"W1\"].shape))\n",
    "print(\"b1 Shape: \" + str(parameters[\"b1\"].shape))\n",
    "print(\"W2 Shape: \" + str(parameters[\"W2\"].shape))\n",
    "print(\"b2 Shape: \" + str(parameters[\"b2\"].shape))"
   ]
  },
  {
   "cell_type": "markdown",
   "id": "a105deb0",
   "metadata": {},
   "source": [
    "## Step 2-2: Activation Function"
   ]
  },
  {
   "cell_type": "code",
   "execution_count": 32,
   "id": "f5f9cdbb",
   "metadata": {},
   "outputs": [],
   "source": [
    "def relu(Z):\n",
    "    \"\"\"\n",
    "    ReLU 激活函數\n",
    "    \"\"\"\n",
    "    return np.maximum(0, Z)\n",
    "\n",
    "\n",
    "def softmax(Z):\n",
    "    \"\"\"\n",
    "    Softmax 激活函數\n",
    "\n",
    "    為了數值穩定性（避免因指數運算產生極大值），先減去 Z 中的最大值\n",
    "    \"\"\"\n",
    "    # Z.shape: (N, 10), N 是樣本數\n",
    "    # np.max(Z, axis=1, keepdims=True) 會找到每個樣本的最大值\n",
    "    # keepdims=True 確保結果的維度是 (N, 1)，這樣才能正確地進行廣播 (broadcasting)\n",
    "    exp_scores = np.exp(Z - np.max(Z, axis=1, keepdims=True))\n",
    "    return exp_scores / np.sum(exp_scores, axis=1, keepdims=True)\n"
   ]
  },
  {
   "cell_type": "markdown",
   "id": "2d043bc9",
   "metadata": {},
   "source": [
    "## Step 2-3: Forward Propagation\n",
    "\n",
    "實作完整的前向傳播過程\n",
    "\n",
    "參數:\n",
    "\n",
    "- X -- 輸入資料，維度為 (樣本數, 784)\n",
    "- parameters -- 包含 W1, b1, W2, b2 的字典（由剛剛實現的 initialize_parameters 回傳值可得）\n",
    "\n",
    "Return:\n",
    "\n",
    "- A2 -- 輸出層的結果 (Softmax 的輸出)，維度為 (樣本數, 10)\n",
    "- cache -- 一個包含 Z1, A1, W1, b1, Z2, A2, W2, b2 的字典，供反向傳播使用"
   ]
  },
  {
   "cell_type": "code",
   "execution_count": 33,
   "id": "61ebf964",
   "metadata": {},
   "outputs": [],
   "source": [
    "def forward_propagation(X, parameters):\n",
    "    # 從 parameters 字典中取出權重和 bias\n",
    "    W1 = parameters[\"W1\"]\n",
    "    b1 = parameters[\"b1\"]\n",
    "    W2 = parameters[\"W2\"]\n",
    "    b2 = parameters[\"b2\"]\n",
    "\n",
    "    # 1. 從輸入層到隱藏層\n",
    "    Z1 = np.dot(X, W1) + b1\n",
    "    A1 = relu(Z1)\n",
    "\n",
    "    # 2. 從隱藏層到輸出層\n",
    "    Z2 = np.dot(A1, W2) + b2\n",
    "    A2 = softmax(Z2)  # A2 就是我們的預測機率分佈\n",
    "\n",
    "    # 儲存計算的中間值，以便反向傳播使用\n",
    "    cache = {\"Z1\": Z1, \"A1\": A1, \"Z2\": Z2, \"A2\": A2}\n",
    "\n",
    "    return A2, cache"
   ]
  },
  {
   "cell_type": "markdown",
   "id": "1dd701a1",
   "metadata": {},
   "source": [
    "## Step 2-4: 損失函數\n",
    "\n",
    "對於 Softmax 輸出的多分類問題，最標準的損失函數是 Cross Entropy Loss。\n",
    "\n",
    "它的核心思想是：\n",
    "\n",
    "- 如果模型對「正確答案」預測的機率越高，損失就越小。\n",
    "- 如果模型對「正確答案」預測的機率越低（甚至以很高的機率猜測錯誤的答案）損失就越大。\n",
    "\n",
    "公式是把所有樣本的損失加總後取平均：\n",
    "\n",
    "$J=-\\frac{1}{m}\\sum_{i=1}^{m}\\sum_{j=1}^{C}y_{ij}\\log(\\hat{y}_{ij})$\n",
    "\n",
    "其中：\n",
    "\n",
    "- $m$ 是樣本數量\n",
    "- $C$ 是分類數量（以手寫辨識字為例，是 10）\n",
    "- $y_{ij}$：第 $i$ 個樣本**是否**屬於第 $j$ 個分類的正確標籤（One-Hot Encoding），正確為 1 否則為 0\n",
    "- $\\hat{y}_{ij}$ 是模型對於第 $i$ 個樣本屬於第 $j$ 個分類的預測機率（也就是 `A2` 的值）\n",
    "\n",
    "---\n",
    "\n",
    "計算 cross-entropy 損失\n",
    "\n",
    "參數:\n",
    "\n",
    "- A2 -- Forward propagation 的輸出 (模型的預測機率)，維度為 (樣本數, 10)\n",
    "- Y -- 正解的標籤 (One-Hot 編碼)，維度為 (樣本數, 10)\n",
    "\n",
    "Return:\n",
    "\n",
    "- loss -- Cross Entropy 損失值 (一個純量)"
   ]
  },
  {
   "cell_type": "code",
   "execution_count": 34,
   "id": "10cb4b45",
   "metadata": {},
   "outputs": [],
   "source": [
    "def compute_loss(A2, Y):\n",
    "    # 獲取樣本數量\n",
    "    m = Y.shape[0]\n",
    "\n",
    "    # 計算 Cross-Entropy 損失\n",
    "    # 加上一個極小值 1e-9 是為了避免 log(0) 的情況，確保數值穩定\n",
    "    log_probs = np.log(A2 + 1e-9)\n",
    "\n",
    "    # Y 是 one-hot encoding 後的標籤，所以 Y * log_probs 會巧妙地只選出正確類別的 log(機率)\n",
    "    loss = -np.sum(Y * log_probs)\n",
    "\n",
    "    # 取平均\n",
    "    cost = loss / m\n",
    "\n",
    "    # np.squeeze() 可以移除多餘的維度，確保結果是純量\n",
    "    cost = np.squeeze(cost)\n",
    "\n",
    "    return cost"
   ]
  },
  {
   "cell_type": "markdown",
   "id": "786ffda2",
   "metadata": {},
   "source": [
    "## Step 2-5: Backward Propagation\n",
    "\n",
    "步驟：\n",
    "\n",
    "1. 計算輸出層的梯度（`dZ2`）: $dZ_2=A_2-Y$\n",
    "2. 計算 `W2` 和 `b2` 的梯度：\n",
    "   - $dW_2=\\frac{1}{m}A^T_1*dZ_2$\n",
    "   - $db_2=\\frac{1}{m}\\sum_{}^{}{dZ_2}$\n",
    "3. 計算隱藏層的梯度（`dZ1`）：\n",
    "   - $dZ_1=dZ_2*W_2^T*g'(Z_1)$\n",
    "   - 這裡的 $g'(Z_1)$ 是隱藏層激活函數的導數\n",
    "4. 計算 `W1` 和 `b1` 的梯度：\n",
    "   - $dW_1=\\frac{1}{m}X^T*dZ_1$\n",
    "   - $db_1=\\frac{1}{m}\\sum_{}^{}{dZ_1}$\n",
    "\n",
    "---\n",
    "\n",
    "實作反向傳播，計算 W1, b1, W2, b2 的梯度\n",
    "\n",
    "參數:\n",
    "\n",
    "- parameters -- 包含 W1, W2 的字典\n",
    "- cache -- 包含 A1, A2, Z1, Z2 的字典，來自前向傳播\n",
    "- X -- 輸入資料，維度 (樣本數, 784)\n",
    "- Y -- 正解標籤 (one-hot)，維度 (樣本數, 10)\n",
    "\n",
    "返回:\n",
    "\n",
    "- grads -- 一個包含 dW1, db1, dW2, db2 的梯度字典"
   ]
  },
  {
   "cell_type": "code",
   "execution_count": 35,
   "id": "3a4b58ff",
   "metadata": {},
   "outputs": [],
   "source": [
    "def backward_propagation(parameters, cache, X, Y):\n",
    "    m = X.shape[0]  # 樣本數量\n",
    "\n",
    "    # 從 parameters 和 cache 中取出需要的變數\n",
    "    W2 = parameters[\"W2\"]\n",
    "    A1 = cache[\"A1\"]\n",
    "    A2 = cache[\"A2\"]\n",
    "    Z1 = cache[\"Z1\"]\n",
    "\n",
    "    # 1. 輸出層的梯度\n",
    "    # dZ2 的維度是 (m, 10)\n",
    "    dZ2 = A2 - Y\n",
    "\n",
    "    # 2. W2 和 b2 的梯度\n",
    "    # A1.T 的維度是 (128, m), dZ2 的維度是 (m, 10) -> dW2 維度是 (128, 10)\n",
    "    dW2 = (1 / m) * np.dot(A1.T, dZ2)\n",
    "    db2 = (1 / m) * np.sum(dZ2, axis=0, keepdims=True)\n",
    "\n",
    "    # 3. 隱藏層的梯度\n",
    "    # W2.T 的維度是 (10, 128)\n",
    "    # dZ2.dot(W2.T) 的維度是 (m, 128)\n",
    "    # Z1 > 0 會回傳一個布林矩陣，當作 ReLU 的導數 (True=1, False=0)，剛好符合 ReLU 的導數特性\n",
    "    dZ1 = np.dot(dZ2, W2.T) * (Z1 > 0)\n",
    "\n",
    "    # 4. W1 和 b1 的梯度\n",
    "    # X.T 的維度是 (784, m), dZ1 的維度是 (m, 128) -> dW1 維度是 (784, 128)\n",
    "    dW1 = (1 / m) * np.dot(X.T, dZ1)\n",
    "    db1 = (1 / m) * np.sum(dZ1, axis=0, keepdims=True)\n",
    "\n",
    "    # 將所有梯度打包到一個字典中\n",
    "    grads = {\"dW1\": dW1, \"db1\": db1, \"dW2\": dW2, \"db2\": db2}\n",
    "\n",
    "    return grads\n"
   ]
  },
  {
   "cell_type": "markdown",
   "id": "beefe660",
   "metadata": {},
   "source": [
    "## Step 2-6: 更新權重\n",
    "\n",
    "使用梯度下降法更新模型的參數\n",
    "\n",
    "參數:\n",
    "\n",
    "- parameters -- 包含 W1, b1, W2, b2 的字典\n",
    "- grads -- 包含 dW1, db1, dW2, db2 的梯度字典\n",
    "- learning_rate -- 學習率 (alpha)，一個純量\n",
    "\n",
    "返回:\n",
    "\n",
    "- parameters -- 更新後的參數字典"
   ]
  },
  {
   "cell_type": "code",
   "execution_count": 36,
   "id": "7c5ff352",
   "metadata": {},
   "outputs": [],
   "source": [
    "def update_parameters(parameters, grads, learning_rate):\n",
    "    # 從字典中取出參數\n",
    "    W1 = parameters[\"W1\"]\n",
    "    b1 = parameters[\"b1\"]\n",
    "    W2 = parameters[\"W2\"]\n",
    "    b2 = parameters[\"b2\"]\n",
    "\n",
    "    # 從字典中取出梯度\n",
    "    dW1 = grads[\"dW1\"]\n",
    "    db1 = grads[\"db1\"]\n",
    "    dW2 = grads[\"dW2\"]\n",
    "    db2 = grads[\"db2\"]\n",
    "\n",
    "    # 根據梯度下降規則更新每一個參數\n",
    "    W1 = W1 - learning_rate * dW1\n",
    "    b1 = b1 - learning_rate * db1\n",
    "    W2 = W2 - learning_rate * dW2\n",
    "    b2 = b2 - learning_rate * db2\n",
    "\n",
    "    # 將更新後的參數存回字典\n",
    "    updated_parameters = {\"W1\": W1, \"b1\": b1, \"W2\": W2, \"b2\": b2}\n",
    "\n",
    "    return updated_parameters"
   ]
  },
  {
   "cell_type": "markdown",
   "id": "c1cb2dbe",
   "metadata": {},
   "source": [
    "## Step 2-7: 組合成 nn_model\n",
    "參數:\n",
    "\n",
    "- X -- 訓練資料 (60000, 784)\n",
    "- Y -- 訓練標籤 (60000, 10)\n",
    "- n_h -- 隱藏層大小\n",
    "- learning_rate -- 學習率\n",
    "- num_epochs -- 訓練的世代數\n",
    "- batch_size -- 每個小批次的大小\n",
    "\n",
    "Return:\n",
    "\n",
    "- parameters -- 訓練完成後的模型參數"
   ]
  },
  {
   "cell_type": "code",
   "execution_count": 37,
   "id": "0b82847a",
   "metadata": {},
   "outputs": [],
   "source": [
    "def nn_model(X, Y, n_h, learning_rate=0.1, num_epochs=10, batch_size=128):\n",
    "    n_x = X.shape[1]\n",
    "    n_y = Y.shape[1]\n",
    "    m = X.shape[0]\n",
    "\n",
    "    parameters = initialize_parameters(n_x, n_h, n_y)\n",
    "\n",
    "    # 儲存每個 epoch 的 loss，用於後續繪圖\n",
    "    costs = []\n",
    "\n",
    "    # 2. 訓練迴圈\n",
    "    for i in range(num_epochs):\n",
    "        epoch_cost = 0.0\n",
    "\n",
    "        # 將資料隨機打亂，這有助於訓練\n",
    "        permutation = np.random.permutation(m)\n",
    "        shuffled_X = X[permutation, :]\n",
    "        shuffled_Y = Y[permutation, :]\n",
    "\n",
    "        # Mini-batch 處理\n",
    "        num_minibatches = m // batch_size\n",
    "        for j in range(num_minibatches):\n",
    "            start = j * batch_size\n",
    "            end = start + batch_size\n",
    "\n",
    "            minibatch_X = shuffled_X[start:end, :]\n",
    "            minibatch_Y = shuffled_Y[start:end, :]\n",
    "\n",
    "            # --- 單次學習週期 ---\n",
    "            # a. 前向傳播\n",
    "            A2, cache = forward_propagation(minibatch_X, parameters)\n",
    "\n",
    "            # b. 計算損失\n",
    "            cost = compute_loss(A2, minibatch_Y)\n",
    "            epoch_cost += cost\n",
    "\n",
    "            # c. 反向傳播\n",
    "            grads = backward_propagation(parameters, cache, minibatch_X, minibatch_Y)\n",
    "\n",
    "            # d. 更新參數\n",
    "            parameters = update_parameters(parameters, grads, learning_rate)\n",
    "\n",
    "        # 印出每個 epoch 的平均損失\n",
    "        avg_epoch_cost = epoch_cost / num_minibatches\n",
    "        costs.append(avg_epoch_cost)\n",
    "        print(f\"Epoch {i + 1}/{num_epochs} - Cost: {avg_epoch_cost:.6f}\")\n",
    "\n",
    "    return parameters, costs"
   ]
  },
  {
   "cell_type": "markdown",
   "id": "fa30f1cb",
   "metadata": {},
   "source": [
    "# Step 3: 訓練與評估"
   ]
  },
  {
   "cell_type": "markdown",
   "id": "dd43498a",
   "metadata": {},
   "source": [
    "## Step 3-1: 實作 predict 函數\n",
    "參數:\n",
    "\n",
    "- X -- 要預測的資料集，維度 (樣本數, 784)\n",
    "- parameters -- 訓練好的參數字典\n",
    "\n",
    "Return:\n",
    "\n",
    "- predictions -- 預測的標籤，維度 (樣本數,)"
   ]
  },
  {
   "cell_type": "code",
   "execution_count": 38,
   "id": "cd9d709d",
   "metadata": {},
   "outputs": [],
   "source": [
    "def predict(X, parameters):\n",
    "    # 執行前向傳播\n",
    "    A2, _ = forward_propagation(X, parameters)\n",
    "\n",
    "    # 找出每個樣本中，機率最高的那個類別的索引 (0-9)\n",
    "    # np.argmax(..., axis=1) 會回傳每一行最大值的索引\n",
    "    predictions = np.argmax(A2, axis=1)\n",
    "\n",
    "    return predictions\n"
   ]
  },
  {
   "cell_type": "markdown",
   "id": "28e5dcc2",
   "metadata": {},
   "source": [
    "## Step 3-2: 訓練模型"
   ]
  },
  {
   "cell_type": "code",
   "execution_count": 39,
   "id": "f205b0e3",
   "metadata": {},
   "outputs": [
    {
     "name": "stdout",
     "output_type": "stream",
     "text": [
      "Epoch 1/50 - Cost: 0.711293\n",
      "Epoch 2/50 - Cost: 0.310791\n",
      "Epoch 3/50 - Cost: 0.256582\n",
      "Epoch 4/50 - Cost: 0.216052\n",
      "Epoch 5/50 - Cost: 0.186137\n",
      "Epoch 6/50 - Cost: 0.163056\n",
      "Epoch 7/50 - Cost: 0.144624\n",
      "Epoch 8/50 - Cost: 0.129664\n",
      "Epoch 9/50 - Cost: 0.117931\n",
      "Epoch 10/50 - Cost: 0.107521\n",
      "Epoch 11/50 - Cost: 0.098650\n",
      "Epoch 12/50 - Cost: 0.091640\n",
      "Epoch 13/50 - Cost: 0.085038\n",
      "Epoch 14/50 - Cost: 0.079125\n",
      "Epoch 15/50 - Cost: 0.074194\n",
      "Epoch 16/50 - Cost: 0.069123\n",
      "Epoch 17/50 - Cost: 0.065229\n",
      "Epoch 18/50 - Cost: 0.061586\n",
      "Epoch 19/50 - Cost: 0.057991\n",
      "Epoch 20/50 - Cost: 0.055033\n",
      "Epoch 21/50 - Cost: 0.051809\n",
      "Epoch 22/50 - Cost: 0.049203\n",
      "Epoch 23/50 - Cost: 0.046869\n",
      "Epoch 24/50 - Cost: 0.044499\n",
      "Epoch 25/50 - Cost: 0.042497\n",
      "Epoch 26/50 - Cost: 0.040451\n",
      "Epoch 27/50 - Cost: 0.038547\n",
      "Epoch 28/50 - Cost: 0.036872\n",
      "Epoch 29/50 - Cost: 0.035224\n",
      "Epoch 30/50 - Cost: 0.033556\n",
      "Epoch 31/50 - Cost: 0.032152\n",
      "Epoch 32/50 - Cost: 0.030781\n",
      "Epoch 33/50 - Cost: 0.029663\n",
      "Epoch 34/50 - Cost: 0.028193\n",
      "Epoch 35/50 - Cost: 0.027238\n",
      "Epoch 36/50 - Cost: 0.025979\n",
      "Epoch 37/50 - Cost: 0.024899\n",
      "Epoch 38/50 - Cost: 0.023973\n",
      "Epoch 39/50 - Cost: 0.022911\n",
      "Epoch 40/50 - Cost: 0.022065\n",
      "Epoch 41/50 - Cost: 0.021322\n",
      "Epoch 42/50 - Cost: 0.020312\n",
      "Epoch 43/50 - Cost: 0.019671\n",
      "Epoch 44/50 - Cost: 0.018996\n",
      "Epoch 45/50 - Cost: 0.018260\n",
      "Epoch 46/50 - Cost: 0.017636\n",
      "Epoch 47/50 - Cost: 0.016940\n",
      "Epoch 48/50 - Cost: 0.016291\n",
      "Epoch 49/50 - Cost: 0.015741\n",
      "Epoch 50/50 - Cost: 0.015181\n"
     ]
    }
   ],
   "source": [
    "trained_parameters, costs = nn_model(\n",
    "    train_x,\n",
    "    train_y,\n",
    "    n_h=256,\n",
    "    num_epochs=50,\n",
    "    batch_size=128,\n",
    ")\n"
   ]
  },
  {
   "cell_type": "code",
   "execution_count": 40,
   "id": "7177af48",
   "metadata": {},
   "outputs": [
    {
     "data": {
      "image/png": "[encoded data removed]",
      "text/plain": [
       "<Figure size 1000x600 with 1 Axes>"
      ]
     },
     "metadata": {},
     "output_type": "display_data"
    }
   ],
   "source": [
    "import matplotlib.pyplot as plt\n",
    "import numpy as np\n",
    "\n",
    "plt.figure(figsize=(10, 6))\n",
    "plt.plot(costs)\n",
    "plt.title(\"Learning Curve: Cost vs. Epochs\")\n",
    "plt.xlabel(\"Epoch\")\n",
    "plt.ylabel(\"Cost\")\n",
    "plt.grid(True)\n",
    "plt.show()\n"
   ]
  },
  {
   "cell_type": "markdown",
   "id": "4e46c1ca",
   "metadata": {},
   "source": [
    "## Step 3-3: 用測試集檢驗"
   ]
  },
  {
   "cell_type": "code",
   "execution_count": 41,
   "id": "4dcfa353",
   "metadata": {},
   "outputs": [
    {
     "name": "stdout",
     "output_type": "stream",
     "text": [
      "模型在測試集上的準確率 (Accuracy): 98.03%\n"
     ]
    }
   ],
   "source": [
    "# 對測試集進行預測\n",
    "test_predictions = predict(test_x, trained_parameters)\n",
    "\n",
    "# test_y_orig 是原始的、非 one-hot 的標籤 (0, 1, 2...)\n",
    "# 比較預測結果和真實標籤\n",
    "accuracy = np.mean(test_predictions == test_y_orig) * 100\n",
    "\n",
    "print(f\"模型在測試集上的準確率 (Accuracy): {accuracy:.2f}%\")\n"
   ]
  },
  {
   "cell_type": "markdown",
   "id": "cf74798c",
   "metadata": {},
   "source": [
    "## Step 3-4: 計算 Precision 與 Recall"
   ]
  },
  {
   "cell_type": "code",
   "execution_count": 42,
   "id": "7dd69ad0",
   "metadata": {},
   "outputs": [
    {
     "name": "stdout",
     "output_type": "stream",
     "text": [
      "混淆矩陣 (Confusion Matrix):\n",
      "[[ 970    0    0    0    1    1    3    1    3    1]\n",
      " [   0 1123    3    1    0    1    2    1    4    0]\n",
      " [   4    2 1010    3    3    0    1    4    5    0]\n",
      " [   0    0    5  990    0    5    0    2    4    4]\n",
      " [   1    0    3    0  965    0    2    3    0    8]\n",
      " [   3    0    0    7    0  871    4    1    5    1]\n",
      " [   4    3    1    1    3    3  941    0    2    0]\n",
      " [   1    3    8    1    0    0    0 1006    4    5]\n",
      " [   5    0    3    3    3    1    3    2  952    2]\n",
      " [   1    2    0    6   10    3    1    5    6  975]]\n",
      "\n",
      "==============================\n"
     ]
    }
   ],
   "source": [
    "num_classes = 10\n",
    "# 建立一個 10x10 的矩陣，用來存放混淆矩陣的結果\n",
    "confusion_matrix = np.zeros((num_classes, num_classes), dtype=int)\n",
    "\n",
    "# 遍歷所有測試集樣本，填充混淆矩陣\n",
    "for i in range(len(test_y_orig)):\n",
    "    true_label = test_y_orig[i]\n",
    "    predicted_label = test_predictions[i]\n",
    "    confusion_matrix[true_label, predicted_label] += 1\n",
    "\n",
    "print(\"混淆矩陣 (Confusion Matrix):\")\n",
    "print(confusion_matrix)\n",
    "print(\"\\n\" + \"=\" * 30)\n"
   ]
  },
  {
   "cell_type": "code",
   "execution_count": 43,
   "id": "edaf4694",
   "metadata": {},
   "outputs": [
    {
     "data": {
      "image/png": "[encoded data removed]",
      "text/plain": [
       "<Figure size 1000x800 with 2 Axes>"
      ]
     },
     "metadata": {},
     "output_type": "display_data"
    }
   ],
   "source": [
    "import seaborn as sns\n",
    "\n",
    "plt.figure(figsize=(10, 8))\n",
    "sns.heatmap(\n",
    "    confusion_matrix,\n",
    "    annot=True,  # 在格子中顯示數字\n",
    "    fmt=\"d\",  # 將數字格式化為整數\n",
    "    cmap=\"Blues\",  # 使用藍色系的色盤\n",
    "    xticklabels=range(10), # type: ignore\n",
    "    yticklabels=range(10), # type: ignore\n",
    ")\n",
    "plt.title(\"Confusion Matrix Heatmap\")\n",
    "plt.xlabel(\"Predicted Label\")\n",
    "plt.ylabel(\"True Label\")\n",
    "plt.show()\n"
   ]
  },
  {
   "cell_type": "code",
   "execution_count": 44,
   "id": "9ec6087e",
   "metadata": {},
   "outputs": [
    {
     "name": "stdout",
     "output_type": "stream",
     "text": [
      "數字 '0':\n",
      "  精確率 (Precision): 0.9808\n",
      "  召回率 (Recall):    0.9898\n",
      "數字 '1':\n",
      "  精確率 (Precision): 0.9912\n",
      "  召回率 (Recall):    0.9894\n",
      "數字 '2':\n",
      "  精確率 (Precision): 0.9777\n",
      "  召回率 (Recall):    0.9787\n",
      "數字 '3':\n",
      "  精確率 (Precision): 0.9783\n",
      "  召回率 (Recall):    0.9802\n",
      "數字 '4':\n",
      "  精確率 (Precision): 0.9797\n",
      "  召回率 (Recall):    0.9827\n",
      "數字 '5':\n",
      "  精確率 (Precision): 0.9842\n",
      "  召回率 (Recall):    0.9765\n",
      "數字 '6':\n",
      "  精確率 (Precision): 0.9833\n",
      "  召回率 (Recall):    0.9823\n",
      "數字 '7':\n",
      "  精確率 (Precision): 0.9815\n",
      "  召回率 (Recall):    0.9786\n",
      "數字 '8':\n",
      "  精確率 (Precision): 0.9665\n",
      "  召回率 (Recall):    0.9774\n",
      "數字 '9':\n",
      "  精確率 (Precision): 0.9789\n",
      "  召回率 (Recall):    0.9663\n"
     ]
    }
   ],
   "source": [
    "for i in range(num_classes):\n",
    "    true_positives = confusion_matrix[i, i]\n",
    "    false_positives = np.sum(confusion_matrix[:, i]) - true_positives\n",
    "    false_negatives = np.sum(confusion_matrix[i, :]) - true_positives\n",
    "\n",
    "    # 避免分母為零的情況\n",
    "    precision = true_positives / (true_positives + false_positives) if (true_positives + false_positives) > 0 else 0\n",
    "    recall = true_positives / (true_positives + false_negatives) if (true_positives + false_negatives) > 0 else 0\n",
    "\n",
    "    print(f\"數字 '{i}':\")\n",
    "    print(f\"  精確率 (Precision): {precision:.4f}\")\n",
    "    print(f\"  召回率 (Recall):    {recall:.4f}\")\n"
   ]
  },
  {
   "cell_type": "markdown",
   "id": "f5bcaf0b",
   "metadata": {},
   "source": [
    "# Step 4: Conclusion\n",
    "\n",
    "本次作業成功地從零開始，僅使用 NumPy 實現了一個能夠對 MNIST 手寫數字進行高精度分類的雙層神經網路。在使用 256 個隱藏層神經元，經過 50 個 epoch 的訓練後，模型在測試集上達到了 98.03% 的優異準確率 。我們進一步透過混淆矩陣分析了模型對每個數字的詳細預測情況 ，並計算了各類別的精確率 (Precision) 與召回率 (Recall) 。結果顯示，模型對於所有數字（0-9）均有穩健且高水準的辨識能力，例如數字 '1' 的精確率為 0.9912，召回率為 0.9894。並且所有類別的 Precision 和 Recall 皆維持在 0.96 以上。\n",
    "\n",
    "透過 Confusion Matrix Heapmap 能更深入地分析模型的具體表現。圖中清晰的對角線顯示，絕大多數的樣本都被正確分類。例如，在 '1' 的測試樣本中，模型成功辨識了 1123 個。同時，從非對角線的數值中也能發現一些有趣的混淆情況，例如有 10 次將真實的 '9' 預測為 '4' ，以及 8 次將 '4' 預測為 '9' 。這些特定的錯誤，為未來優化模型提供了改進的方向。"
   ]
  }
 ],
 "metadata": {
  "kernelspec": {
   "display_name": "Python 3 (ipykernel)",
   "language": "python",
   "name": "python3"
  },
  "language_info": {
   "codemirror_mode": {
    "name": "ipython",
    "version": 3
   },
   "file_extension": ".py",
   "mimetype": "text/x-python",
   "name": "python",
   "nbconvert_exporter": "python",
   "pygments_lexer": "ipython3",
   "version": "3.13.2"
  }
 },
 "nbformat": 4,
 "nbformat_minor": 5
}
