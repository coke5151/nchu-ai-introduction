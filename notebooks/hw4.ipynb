{
  "cells": [
    {
      "cell_type": "markdown",
      "metadata": {
        "id": "2qrgzhxNZg1y"
      },
      "source": [
        "# Summary"
      ]
    },
    {
      "cell_type": "markdown",
      "metadata": {
        "id": "S5ZFr9GsDJx3"
      },
      "source": [
        "本次 HW4 作業的要求是在不使用 PyTorch 及 TensorFlow 等深度學習框架的前提下，使用 Numpy 來訓練一個卷積神經網路 (Convolutional Neural Network, CNN) 來分類 MNIST 資料集。可以另外訓練 CIFAR-10 或 ImageNet 資料集作為加分。\n",
        "\n",
        "我在訓練過程中遇到過巢狀迴圈執行過於緩慢的問題，改用 img2col 的方式來加速，也使用 Cupy 來進行 GPU 加速。\n",
        "\n",
        "訓練 MNIST 可以達到 98.60% 的準確率，同時我也完成了各項性能計算（精確率、召回率）、繪制學習曲線、卷積核視覺化（加分項）等任務。\n",
        "\n",
        "作為加分挑戰，我也將模型應用於更複雜的 CIFAR-10 彩色圖片資料集，在這個資料集上取得了 59.01% 的準確率，並同樣完成了相關的性能評估與視覺化。\n",
        "\n",
        "其餘詳細的性能分析與解說在檔案最後 Conclusion 的部分有提及。"
      ]
    },
    {
      "cell_type": "markdown",
      "metadata": {
        "id": "zDrN5KrSZkZ5"
      },
      "source": [
        "# Step 0: 下載資料集"
      ]
    },
    {
      "cell_type": "code",
      "execution_count": 1,
      "metadata": {
        "id": "V6SR6ADQZquP"
      },
      "outputs": [],
      "source": [
        "# 延用 HW3 中下載 mnist 的程式\n",
        "def get_mnist():\n",
        "    \"\"\"\n",
        "    The code to download the mnist data original came from\n",
        "    https://cntk.ai/pythondocs/CNTK_103A_MNIST_DataLoader.html\n",
        "    \"\"\"\n",
        "\n",
        "    import gzip\n",
        "    import numpy as np\n",
        "    import os\n",
        "    import struct\n",
        "\n",
        "    from urllib.request import urlretrieve\n",
        "\n",
        "    def load_data(src, num_samples):\n",
        "        print(\"Downloading \" + src)\n",
        "        gzfname, h = urlretrieve(src, \"./delete.me\")\n",
        "        print(\"Done.\")\n",
        "        try:\n",
        "            with gzip.open(gzfname) as gz:\n",
        "                n = struct.unpack(\"I\", gz.read(4))\n",
        "                # Read magic number.\n",
        "                if n[0] != 0x3080000:\n",
        "                    raise Exception(\"Invalid file: unexpected magic number.\")\n",
        "                # Read number of entries.\n",
        "                n = struct.unpack(\">I\", gz.read(4))[0]\n",
        "                if n != num_samples:\n",
        "                    raise Exception(f\"Invalid file: expected {num_samples} entries.\")\n",
        "                crow = struct.unpack(\">I\", gz.read(4))[0]\n",
        "                ccol = struct.unpack(\">I\", gz.read(4))[0]\n",
        "                if crow != 28 or ccol != 28:\n",
        "                    raise Exception(\"Invalid file: expected 28 rows/cols per image.\")\n",
        "                # Read data.\n",
        "                res = np.frombuffer(gz.read(num_samples * crow * ccol), dtype=np.uint8)\n",
        "        finally:\n",
        "            os.remove(gzfname)\n",
        "        # 這次我們不在這裡做 normalize，留到 CuPy 陣列處理\n",
        "        return res.reshape((num_samples, crow, ccol))\n",
        "\n",
        "    def load_labels(src, num_samples):\n",
        "        print(\"Downloading \" + src)\n",
        "        gzfname, h = urlretrieve(src, \"./delete.me\")\n",
        "        print(\"Done.\")\n",
        "        try:\n",
        "            with gzip.open(gzfname) as gz:\n",
        "                n = struct.unpack(\"I\", gz.read(4))\n",
        "                # Read magic number.\n",
        "                if n[0] != 0x1080000:\n",
        "                    raise Exception(\"Invalid file: unexpected magic number.\")\n",
        "                # Read number of entries.\n",
        "                n = struct.unpack(\">I\", gz.read(4))\n",
        "                if n[0] != num_samples:\n",
        "                    raise Exception(f\"Invalid file: expected {num_samples} rows.\")\n",
        "                # Read labels.\n",
        "                res = np.frombuffer(gz.read(num_samples), dtype=np.uint8)\n",
        "        finally:\n",
        "            os.remove(gzfname)\n",
        "        return res.reshape(num_samples)\n",
        "\n",
        "    def try_download(data_source, label_source, num_samples):\n",
        "        data = load_data(data_source, num_samples)\n",
        "        labels = load_labels(label_source, num_samples)\n",
        "        return data, labels\n",
        "\n",
        "    server = \"https://raw.githubusercontent.com/fgnt/mnist/master\"\n",
        "\n",
        "    # URLs for the train image and label data\n",
        "    url_train_image = f\"{server}/train-images-idx3-ubyte.gz\"\n",
        "    url_train_labels = f\"{server}/train-labels-idx1-ubyte.gz\"\n",
        "    num_train_samples = 60000\n",
        "\n",
        "    print(\"Downloading train data\")\n",
        "    train_features, train_labels = try_download(url_train_image, url_train_labels, num_train_samples)\n",
        "\n",
        "    # URLs for the test image and label data\n",
        "    url_test_image = f\"{server}/t10k-images-idx3-ubyte.gz\"\n",
        "    url_test_labels = f\"{server}/t10k-labels-idx1-ubyte.gz\"\n",
        "    num_test_samples = 10000\n",
        "\n",
        "    print(\"Downloading test data\")\n",
        "    test_features, test_labels = try_download(url_test_image, url_test_labels, num_test_samples)\n",
        "\n",
        "    return train_features, train_labels, test_features, test_labels"
      ]
    },
    {
      "cell_type": "code",
      "execution_count": 2,
      "metadata": {
        "colab": {
          "base_uri": "https://localhost:8080/"
        },
        "id": "jWDn0Y8BZ0S_",
        "outputId": "2c14c786-0c2a-42da-a360-054ef8fa0a00"
      },
      "outputs": [
        {
          "name": "stdout",
          "output_type": "stream",
          "text": [
            "Downloading train data\n",
            "Downloading https://raw.githubusercontent.com/fgnt/mnist/master/train-images-idx3-ubyte.gz\n",
            "Done.\n",
            "Downloading https://raw.githubusercontent.com/fgnt/mnist/master/train-labels-idx1-ubyte.gz\n",
            "Done.\n",
            "Downloading test data\n",
            "Downloading https://raw.githubusercontent.com/fgnt/mnist/master/t10k-images-idx3-ubyte.gz\n",
            "Done.\n",
            "Downloading https://raw.githubusercontent.com/fgnt/mnist/master/t10k-labels-idx1-ubyte.gz\n",
            "Done.\n"
          ]
        }
      ],
      "source": [
        "train_features_np, train_labels_np, test_features_np, test_labels_np = get_mnist()"
      ]
    },
    {
      "cell_type": "markdown",
      "metadata": {
        "id": "WLzzJwNsZ6je"
      },
      "source": [
        "# Step 1: 資料前處理 (Data Preprocessing)\n",
        "資料下載完成後，接下來我們要進行一系列的處理，才能將其輸入到 CNN 模型中。"
      ]
    },
    {
      "cell_type": "markdown",
      "metadata": {
        "id": "5BYEqWKUaC6A"
      },
      "source": [
        "## Step 1-1: 讀取資料並轉換為 CuPy 陣列\n",
        "在 HW4 中我們改用 CuPy 來加速原先 Numpy 的運算速度"
      ]
    },
    {
      "cell_type": "code",
      "execution_count": 3,
      "metadata": {
        "id": "5yyIpUUkZ2yU"
      },
      "outputs": [],
      "source": [
        "import cupy as cp\n",
        "import numpy as np\n",
        "\n",
        "# 使用 cp.asarray() 將資料從 CPU memory 移至 GPU memory\n",
        "train_x_orig = cp.asarray(train_features_np)\n",
        "train_y_orig = cp.asarray(train_labels_np)\n",
        "test_x_orig = cp.asarray(test_features_np)\n",
        "test_y_orig = cp.asarray(test_labels_np)\n",
        "\n",
        "# --- 資料塑形與正規化 (Reshape & Normalize) ---\n",
        "# CNN 需要的輸入格式為 (樣本數, 色彩頻道, 高度, 寬度)\n",
        "# MNIST 是灰階圖片，所以 Channel 為 1\n",
        "# 我們也在此將像素值從 0-255 正規化到 0-1 之間\n",
        "train_x = train_x_orig.reshape(train_x_orig.shape[0], 1, 28, 28) / 255.0\n",
        "test_x = test_x_orig.reshape(test_x_orig.shape[0], 1, 28, 28) / 255.0"
      ]
    },
    {
      "cell_type": "code",
      "execution_count": 4,
      "metadata": {
        "colab": {
          "base_uri": "https://localhost:8080/"
        },
        "id": "_l3pzgkkaYSc",
        "outputId": "a968df8f-c297-4833-e06f-cab6216e7772"
      },
      "outputs": [
        {
          "name": "stdout",
          "output_type": "stream",
          "text": [
            "--- Shapes of CuPy arrays ---\n",
            "train_x.shape: (60000, 1, 28, 28)\n",
            "train_y_orig.shape: (60000,)\n",
            "test_x.shape: (10000, 1, 28, 28)\n",
            "test_y_orig.shape: (10000,)\n",
            "\n",
            "--- Data types ---\n",
            "type of train_x: <class 'cupy.ndarray'>\n",
            "type of train_y_orig: <class 'cupy.ndarray'>\n"
          ]
        }
      ],
      "source": [
        "# 驗證一下 shape 和 type\n",
        "print(\"--- Shapes of CuPy arrays ---\")\n",
        "print(\"train_x.shape:\", train_x.shape)\n",
        "print(\"train_y_orig.shape:\", train_y_orig.shape)\n",
        "print(\"test_x.shape:\", test_x.shape)\n",
        "print(\"test_y_orig.shape:\", test_y_orig.shape)\n",
        "print(\"\\n--- Data types ---\")\n",
        "print(\"type of train_x:\", type(train_x))\n",
        "print(\"type of train_y_orig:\", type(train_y_orig))"
      ]
    },
    {
      "cell_type": "markdown",
      "metadata": {
        "id": "zdYi-EwHakwW"
      },
      "source": [
        "## Step 1-2: 對 Label 進行 One-Hot Encode"
      ]
    },
    {
      "cell_type": "code",
      "execution_count": 5,
      "metadata": {
        "id": "5oE-nY-_aeRh"
      },
      "outputs": [],
      "source": [
        "def one_hot_encode(labels, num_classes):\n",
        "    # 創建一個全為 0 的矩陣，shape 為 (樣本數, 類別數)\n",
        "    one_hot = cp.zeros((labels.size, num_classes))\n",
        "    # 在對應的類別位置上填上 1\n",
        "    one_hot[cp.arange(labels.size), labels] = 1\n",
        "    return one_hot"
      ]
    },
    {
      "cell_type": "code",
      "execution_count": 6,
      "metadata": {
        "colab": {
          "base_uri": "https://localhost:8080/"
        },
        "id": "-2KTaEvYauWG",
        "outputId": "36fe7cca-8274-40e4-865c-b66445e64a7c"
      },
      "outputs": [
        {
          "name": "stdout",
          "output_type": "stream",
          "text": [
            "One-Hot encode 前的 train_y.shape: (60000,)\n",
            "One-Hot 後的 train_y.shape: (60000, 10)\n",
            "一個 One-Hot 編碼範例 (原始 label 是 5): [0. 0. 0. 0. 0. 1. 0. 0. 0. 0.]\n"
          ]
        }
      ],
      "source": [
        "# 我們的類別是數字 0-9，所以有 10 個類別\n",
        "num_classes = 10\n",
        "train_y = one_hot_encode(train_y_orig, num_classes)\n",
        "test_y = one_hot_encode(test_y_orig, num_classes)\n",
        "\n",
        "print(\"One-Hot encode 前的 train_y.shape:\", train_y_orig.shape)\n",
        "print(\"One-Hot 後的 train_y.shape:\", train_y.shape)\n",
        "\n",
        "print(f\"一個 One-Hot 編碼範例 (原始 label 是 {train_y_orig[0]}): {train_y[0]}\")"
      ]
    },
    {
      "cell_type": "markdown",
      "metadata": {
        "id": "Ss7vsLA9bTGI"
      },
      "source": [
        "# Step 2: 實作 CNN"
      ]
    },
    {
      "cell_type": "markdown",
      "metadata": {
        "id": "_k5p574lbVR1"
      },
      "source": [
        "## Step 2-2: 初始化權重\n",
        "\n",
        "初始化 CNN 的權重與偏置\n",
        "\n",
        "參數:\n",
        "\n",
        "- `input_dim` -- 輸入圖片的維度 (C, H, W)\n",
        "- `n_filters`, `filter_size`, `conv_stride`, `conv_padding` -- 卷積層的 hyperparameter\n",
        "- `pool_size`, `pool_stride` -- 池化層的超參數\n",
        "- `n_h`, `n_y` -- 全連接層與輸出層的神經元數量\n",
        "\n",
        "Return:\n",
        "\n",
        "- `parameters` -- 一個包含所有權重與 bias 的 Python dict"
      ]
    },
    {
      "cell_type": "code",
      "execution_count": 7,
      "metadata": {
        "id": "ex5vyGdBa1kD"
      },
      "outputs": [],
      "source": [
        "def initialize_parameters(input_dim=(1, 28, 28),\n",
        "                n_filters=8, filter_size=3, conv_stride=1, conv_padding=1,\n",
        "                pool_size=2, pool_stride=2,\n",
        "                n_h=128, n_y=10):\n",
        "\n",
        "    cp.random.seed(42)\n",
        "\n",
        "    C_in, H_in, W_in = input_dim\n",
        "\n",
        "    # 1. 初始化卷積層權重\n",
        "    W_conv = cp.random.randn(n_filters, C_in, filter_size, filter_size) * 0.01\n",
        "    b_conv = cp.zeros((n_filters, 1))\n",
        "\n",
        "    # 2. 動態計算全連接層的輸入維度\n",
        "    # 計算卷積層的輸出維度\n",
        "    H_conv = int((H_in - filter_size + 2 * conv_padding) / conv_stride) + 1\n",
        "    W_conv_out = int((W_in - filter_size + 2 * conv_padding) / conv_stride) + 1\n",
        "\n",
        "    # 計算池化層的輸出維度（池化層不補零）\n",
        "    H_pool = int((H_conv - pool_size) / pool_stride) + 1\n",
        "    W_pool_out = int((W_conv_out - pool_size) / pool_stride) + 1\n",
        "\n",
        "    # 扁平化後的維度\n",
        "    fc_input_dim = n_filters * H_pool * W_pool_out\n",
        "\n",
        "    # print(f\"根據設定計算，全連接層的輸入維度為: {fc_input_dim}\")\n",
        "\n",
        "    # 3. 初始化全連接層與輸出層權重\n",
        "    W_fc = cp.random.randn(fc_input_dim, n_h) * 0.01\n",
        "    b_fc = cp.ones((1, n_h)) * 0.01\n",
        "    W_out = cp.random.randn(n_h, n_y) * 0.01\n",
        "    b_out = cp.zeros((1, n_y))\n",
        "\n",
        "    parameters = {\n",
        "        \"W_conv\": W_conv, \"b_conv\": b_conv,\n",
        "        \"W_fc\": W_fc, \"b_fc\": b_fc,\n",
        "        \"W_out\": W_out, \"b_out\": b_out\n",
        "    }\n",
        "\n",
        "    return parameters"
      ]
    },
    {
      "cell_type": "code",
      "execution_count": 8,
      "metadata": {
        "colab": {
          "base_uri": "https://localhost:8080/"
        },
        "id": "hKv6E5MNc3_P",
        "outputId": "8c3ba20c-284a-4453-d60a-b6ff72e9f208"
      },
      "outputs": [
        {
          "name": "stdout",
          "output_type": "stream",
          "text": [
            "\n",
            "--- Parameter Shapes ---\n",
            "W_conv Shape: (8, 1, 3, 3)\n",
            "W_fc Shape: (1568, 128)\n"
          ]
        }
      ],
      "source": [
        "# MNIST\n",
        "# 輸入維度: (1, 28, 28), 卷積設定: 3x3 filter, stride 1, padding 1 -> 輸出 (28, 28)\n",
        "# 池化設定: 2x2, stride 2 -> 輸出 (14, 14)\n",
        "\n",
        "params = initialize_parameters(input_dim=(1, 28, 28), n_filters=8, filter_size=3)\n",
        "\n",
        "print(\"\\n--- Parameter Shapes ---\")\n",
        "print(\"W_conv Shape: \" + str(params[\"W_conv\"].shape))\n",
        "print(\"W_fc Shape: \" + str(params[\"W_fc\"].shape))"
      ]
    },
    {
      "cell_type": "markdown",
      "metadata": {
        "id": "wj6exhXPdQ0c"
      },
      "source": [
        "## Step 2-2: 實作卷積層 Forward Propagation\n",
        "\n",
        "**zero_pad**: 對 CuPy 陣列進行補零\n",
        "\n",
        "參數:\n",
        "\n",
        "- `X` -- CuPy 陣列, shape (N, C, H, W)\n",
        "- `pad` -- 整數，代表要補的圈數\n",
        "\n",
        "Return:\n",
        "\n",
        "- `X_pad` -- 補零後的陣列, shape (N, C, H + 2 * pad, W + 2 * pad)\n",
        "\n",
        "---\n",
        "\n",
        "**conv_forward**: CNN 的前向傳播\n",
        "\n",
        "參數:\n",
        "\n",
        "- `A_prev` -- 上一層的輸出 (輸入圖片), shape (N, C_prev, H_prev, W_prev)\n",
        "- `W` -- Filter 權重, shape (n_filters, C_prev, f, f)\n",
        "- `b` -- bias, shape (n_filters, 1)\n",
        "- `stride` -- 滑動步長\n",
        "- `padding` -- 補零圈數\n",
        "\n",
        "Return:\n",
        "\n",
        "- `Z` -- 卷積層的輸出, shape (N, n_filters, H_out, W_out)\n",
        "- `cache` -- 用於反向傳播的快取"
      ]
    },
    {
      "cell_type": "code",
      "execution_count": 9,
      "metadata": {
        "id": "8xysibbXc-w0"
      },
      "outputs": [],
      "source": [
        "def zero_pad(X, pad):\n",
        "    # cp.pad 的用法和 np.pad 相同\n",
        "    # ((0, 0), (0, 0), (pad, pad), (pad, pad)) 分別對應 4 個維度的補零設定\n",
        "    X_pad = cp.pad(X, ((0, 0), (0, 0), (pad, pad), (pad, pad)), mode='constant', constant_values=0)\n",
        "    return X_pad"
      ]
    },
    {
      "cell_type": "code",
      "execution_count": 10,
      "metadata": {
        "id": "yYDCv1rwdG0E"
      },
      "outputs": [],
      "source": [
        "def conv_forward(A_prev, W, b, stride=1, padding=1):\n",
        "    # 1. 從 W 的維度取得濾波器資訊\n",
        "    (n_filters, C_prev, f, f) = W.shape\n",
        "    # 從 A_prev 的維度取得輸入資訊\n",
        "    (N, C_prev, H_prev, W_prev) = A_prev.shape\n",
        "\n",
        "    # 2. 計算輸出特徵圖的維度\n",
        "    H_out = int((H_prev - f + 2 * padding) / stride) + 1\n",
        "    W_out = int((W_prev - f + 2 * padding) / stride) + 1\n",
        "\n",
        "    # 3. 初始化輸出 Z\n",
        "    Z = cp.zeros((N, n_filters, H_out, W_out))\n",
        "\n",
        "    # 4. 對輸入 A_prev 進行補零\n",
        "    A_prev_pad = zero_pad(A_prev, padding)\n",
        "\n",
        "    # 5. 進行卷積運算 (使用巢狀迴圈)\n",
        "    for n in range(N): # 遍歷每一張圖片樣本\n",
        "        a_prev_pad = A_prev_pad[n, :, :, :]\n",
        "        for c in range(n_filters): # 遍歷每一個 Filter\n",
        "            for h in range(H_out): # 遍歷輸出的垂直方向\n",
        "                for w in range(W_out): # 遍歷輸出的水平方向\n",
        "                    # 定位當前滑動窗口的垂直和水平起始位置\n",
        "                    vert_start = h * stride\n",
        "                    vert_end = vert_start + f\n",
        "                    horiz_start = w * stride\n",
        "                    horiz_end = horiz_start + f\n",
        "\n",
        "                    # 選取當前的滑動窗口\n",
        "                    a_slice_prev = a_prev_pad[:, vert_start:vert_end, horiz_start:horiz_end]\n",
        "\n",
        "                    # 進行對應元素相乘後相加，再加上 bias\n",
        "                    Z[n, c, h, w] = cp.sum(a_slice_prev * W[c, :, :, :]) + b[c]\n",
        "\n",
        "    # 儲存快取以供反向傳播使用\n",
        "    cache = (A_prev, W, b, stride, padding)\n",
        "\n",
        "    return Z, cache"
      ]
    },
    {
      "cell_type": "markdown",
      "metadata": {
        "id": "aKP2gvyjuvhV"
      },
      "source": [
        "### Step 2-2-2: 優化前向傳播\n",
        "\n",
        "在執行過程我發現這種四層 for 迴圈的寫法效能實在太低，所以我們改用 im2col 的寫法來改進"
      ]
    },
    {
      "cell_type": "code",
      "execution_count": 11,
      "metadata": {
        "id": "wBXb2Jheu-OM"
      },
      "outputs": [],
      "source": [
        "def get_im2col_indices(x_shape, field_height, field_width, padding=1, stride=1):\n",
        "    # First figure out what the output shape is\n",
        "    N, C, H, W = x_shape\n",
        "    assert (H + 2 * padding - field_height) % stride == 0\n",
        "    assert (W + 2 * padding - field_width) % stride == 0\n",
        "    out_height = (H + 2 * padding - field_height) // stride + 1\n",
        "    out_width = (W + 2 * padding - field_width) // stride + 1\n",
        "\n",
        "    i0 = cp.repeat(cp.arange(field_height), field_width)\n",
        "    i0 = cp.tile(i0, C)\n",
        "    i1 = stride * cp.repeat(cp.arange(out_height), out_width)\n",
        "    j0 = cp.tile(cp.arange(field_width), field_height * C)\n",
        "    j1 = stride * cp.tile(cp.arange(out_width), out_height)\n",
        "    i = i0.reshape(-1, 1) + i1.reshape(1, -1)\n",
        "    j = j0.reshape(-1, 1) + j1.reshape(1, -1)\n",
        "\n",
        "    k = cp.repeat(cp.arange(C), field_height * field_width).reshape(-1, 1)\n",
        "\n",
        "    return (k, i, j)\n",
        "\n",
        "def im2col_gpu(x, field_height, field_width, padding=1, stride=1):\n",
        "    \"\"\" An implementation of im2col on GPU \"\"\"\n",
        "    # Zero-pad the input\n",
        "    p = padding\n",
        "    x_padded = cp.pad(x, ((0, 0), (0, 0), (p, p), (p, p)), mode='constant')\n",
        "\n",
        "    k, i, j = get_im2col_indices(x.shape, field_height, field_width, padding, stride)\n",
        "\n",
        "    cols = x_padded[:, k, i, j]\n",
        "    C = x.shape[1]\n",
        "    cols = cols.transpose(1, 2, 0).reshape(field_height * field_width * C, -1)\n",
        "    return cols"
      ]
    },
    {
      "cell_type": "code",
      "execution_count": 12,
      "metadata": {
        "id": "vPX-mHEou8uW"
      },
      "outputs": [],
      "source": [
        "def conv_forward_fast(A_prev, W, b, stride=1, padding=1):\n",
        "\n",
        "    # 從 A_prev 的維度取得輸入資訊\n",
        "    N, C_prev, H_prev, W_prev = A_prev.shape\n",
        "\n",
        "    # 從 W (權重) 的維度取得 Filter 資訊\n",
        "    n_filters, _, f, _ = W.shape\n",
        "\n",
        "    # 計算輸出維度\n",
        "    H_out = (H_prev - f + 2 * padding) // stride + 1\n",
        "    W_out = (W_prev - f + 2 * padding) // stride + 1\n",
        "\n",
        "    # 使用 im2col 將輸入圖片轉換為矩陣\n",
        "    A_col = im2col_gpu(A_prev, f, f, padding=padding, stride=stride)\n",
        "\n",
        "    # 將 Filter 權重攤平成矩陣\n",
        "    W_row = W.reshape(n_filters, -1)\n",
        "\n",
        "    # 核心運算：一次矩陣乘法 + bias\n",
        "    Z = W_row @ A_col + b\n",
        "\n",
        "    # 將結果塑形成最終的輸出維度\n",
        "    Z = Z.reshape(n_filters, H_out, W_out, N)\n",
        "    Z = Z.transpose(3, 0, 1, 2) # 調整維度順序為 (N, n_filters, H_out, W_out)\n",
        "\n",
        "    # 快取 A_col 供反向傳播使用\n",
        "    cache = (A_prev, W, b, stride, padding, A_col)\n",
        "\n",
        "    return Z, cache"
      ]
    },
    {
      "cell_type": "markdown",
      "metadata": {
        "id": "Jkl6pwe_eiWr"
      },
      "source": [
        "## Step 2-3: 實作 Activation Function (ReLU)\n",
        "\n",
        "ReLU 的反向傳播\n",
        "\n",
        "參數:\n",
        "\n",
        "- `dA` -- 流回來的梯度\n",
        "- `cache_Z` -- 前向傳播時的 Z 值\n",
        "\n",
        "Return:\n",
        "\n",
        "- `dZ` -- 對 Z 的梯度"
      ]
    },
    {
      "cell_type": "code",
      "execution_count": 13,
      "metadata": {
        "id": "okh2t-d9dfGd"
      },
      "outputs": [],
      "source": [
        "def relu(Z):\n",
        "    return cp.maximum(0, Z)\n",
        "\n",
        "def relu_backward(dA, cache_Z):\n",
        "    dZ = cp.array(dA, copy=True)\n",
        "    # 當 Z <= 0 時，梯度也為 0\n",
        "    dZ[cache_Z <= 0] = 0\n",
        "    return dZ"
      ]
    },
    {
      "cell_type": "markdown",
      "metadata": {
        "id": "iDmXX6fsez-0"
      },
      "source": [
        "## Step 2-4: 實作池化層 Forward Propagation\n",
        "\n",
        "實現 Max Pooling 的前向傳播\n",
        "\n",
        "參數:\n",
        "\n",
        "- `A_prev` -- 上一層的輸出 (ReLU), shape (N, C, H_prev, W_prev)\n",
        "- `pool_size` -- 池化窗口的大小\n",
        "- `stride` -- 滑動步長\n",
        "\n",
        "Return:\n",
        "\n",
        "- `A_out` -- 池化層的輸出, shape (N, C, H_out, W_out)\n",
        "- `cache` -- 用於反向傳播的快取，包含 A_prev 和超參數"
      ]
    },
    {
      "cell_type": "code",
      "execution_count": 14,
      "metadata": {
        "id": "iXlOM_j4ey-8"
      },
      "outputs": [],
      "source": [
        "def max_pool_forward(A_prev, pool_size=2, stride=2):\n",
        "    \"\"\"\n",
        "    \"\"\"\n",
        "    # 取得輸入維度\n",
        "    (N, C, H_prev, W_prev) = A_prev.shape\n",
        "\n",
        "    # 計算輸出維度\n",
        "    H_out = int((H_prev - pool_size) / stride) + 1\n",
        "    W_out = int((W_prev - pool_size) / stride) + 1\n",
        "\n",
        "    # 初始化輸出\n",
        "    A_out = cp.zeros((N, C, H_out, W_out))\n",
        "\n",
        "    # 進行最大池化運算\n",
        "    for n in range(N):\n",
        "        for c in range(C):\n",
        "            for h in range(H_out):\n",
        "                for w in range(W_out):\n",
        "                    # 定位當前滑動窗口\n",
        "                    vert_start = h * stride\n",
        "                    vert_end = vert_start + pool_size\n",
        "                    horiz_start = w * stride\n",
        "                    horiz_end = horiz_start + pool_size\n",
        "\n",
        "                    # 選取滑動窗口\n",
        "                    a_slice = A_prev[n, c, vert_start:vert_end, horiz_start:horiz_end]\n",
        "\n",
        "                    # 在窗口中找到最大值並賦給輸出\n",
        "                    A_out[n, c, h, w] = cp.max(a_slice)\n",
        "\n",
        "    cache = (A_prev, (pool_size, stride))\n",
        "    return A_out, cache"
      ]
    },
    {
      "cell_type": "markdown",
      "metadata": {
        "id": "U2bR4-r5zOKi"
      },
      "source": [
        "### Step 2-4-2: 優化池化層前向傳播"
      ]
    },
    {
      "cell_type": "code",
      "execution_count": 15,
      "metadata": {
        "id": "YLoOFm4szSws"
      },
      "outputs": [],
      "source": [
        "def max_pool_forward_fast(A_prev, pool_size=2, stride=2):\n",
        "\n",
        "    N, C, H_prev, W_prev = A_prev.shape\n",
        "\n",
        "    # 計算輸出維度\n",
        "    H_out = 1 + (H_prev - pool_size) // stride\n",
        "    W_out = 1 + (W_prev - pool_size) // stride\n",
        "\n",
        "    # 透過 reshape 和 transpose 將每個池化窗口的元素分組\n",
        "    A_reshaped = A_prev.reshape(N, C, H_out, pool_size, W_out, pool_size)\n",
        "    A_transposed = A_reshaped.transpose(0, 1, 2, 4, 3, 5)\n",
        "\n",
        "    # 在每個窗口內取最大值\n",
        "    A_out = cp.max(A_transposed, axis=(4, 5))\n",
        "\n",
        "    cache = (A_prev, A_out, (pool_size, stride))\n",
        "    return A_out, cache"
      ]
    },
    {
      "cell_type": "markdown",
      "metadata": {
        "id": "x99FG5_CfcOY"
      },
      "source": [
        "## Step 2-5: 完整的 Forward Propagation\n",
        "\n",
        "流程如下：\n",
        "\n",
        "1. `CONV -> RELU`：對圖片進行卷積運算，然後傳給 ReLU\n",
        "2. `POOL`: 對 ReLU 的輸出進行 Max Pooling\n",
        "3. `FLATTEN`: 將池化後的特徵圖攤平成一維向量\n",
        "4. `FC->RELU`: 將攤平的向量輸入全連接層，再通過一次 ReLU\n",
        "5. `FC->SOFTMAX`: 最後通過輸出層，並使用 Softmax 函數得到最終的分類機率"
      ]
    },
    {
      "cell_type": "markdown",
      "metadata": {
        "id": "wCTOxmCii33B"
      },
      "source": [
        "Softmax 激活函數 (CuPy 版本)\n",
        "\n",
        "為了數值穩定性，先減去 Z 中的最大值"
      ]
    },
    {
      "cell_type": "code",
      "execution_count": 16,
      "metadata": {
        "id": "4cXpcfGIfVQh"
      },
      "outputs": [],
      "source": [
        "def softmax(Z):\n",
        "    # Z.shape: (N, 10), N 是樣本數\n",
        "    exp_scores = cp.exp(Z - cp.max(Z, axis=1, keepdims=True))\n",
        "    return exp_scores / cp.sum(exp_scores, axis=1, keepdims=True)"
      ]
    },
    {
      "cell_type": "markdown",
      "metadata": {
        "id": "QmVC4qxujDsC"
      },
      "source": [
        "實現 CNN 的完整前向傳播\n",
        "\n",
        "參數:\n",
        "\n",
        "- `X` -- 輸入資料, shape (N, C, H, W)\n",
        "- `parameters` -- 包含所有權重的字典\n",
        "\n",
        "Return:\n",
        "\n",
        "- `A_out` -- 模型的最終輸出 (Softmax 的結果)\n",
        "- `cache` -- 包含所有中間層計算結果的字典，供反向傳播使用"
      ]
    },
    {
      "cell_type": "code",
      "execution_count": 17,
      "metadata": {
        "id": "3ZZomaemi66g"
      },
      "outputs": [],
      "source": [
        "def forward_propagation(X, parameters):\n",
        "    # 1. 取出權重\n",
        "    W_conv = parameters['W_conv']\n",
        "    b_conv = parameters['b_conv']\n",
        "    W_fc = parameters['W_fc']\n",
        "    b_fc = parameters['b_fc']\n",
        "    W_out = parameters['W_out']\n",
        "    b_out = parameters['b_out']\n",
        "\n",
        "    # 2. CONV -> RELU -> POOL\n",
        "    # 卷積層\n",
        "    # 這裡我們使用固定的 stride=1, padding=1, pool_size=2, pool_stride=2\n",
        "    Z_conv, cache_conv = conv_forward_fast(X, W_conv, b_conv, stride=1, padding=1)\n",
        "\n",
        "    # ReLU 激活\n",
        "    A_conv = relu(Z_conv)\n",
        "\n",
        "    # 池化層\n",
        "    A_pool, cache_pool = max_pool_forward_fast(A_conv, pool_size=2, stride=2)\n",
        "\n",
        "    # 3. FLATTEN -> FC -> RELU\n",
        "    # 扁平化\n",
        "    N = A_pool.shape[0]\n",
        "    A_flat = A_pool.reshape(N, -1) # -1 會讓 cupy 自動計算維度\n",
        "\n",
        "    # 全連接層\n",
        "    Z_fc = cp.dot(A_flat, W_fc) + b_fc\n",
        "\n",
        "    # ReLU 激活\n",
        "    A_fc = relu(Z_fc)\n",
        "\n",
        "    # 4. OUTPUT LAYER -> SOFTMAX\n",
        "    Z_out = cp.dot(A_fc, W_out) + b_out\n",
        "    A_out = softmax(Z_out)\n",
        "\n",
        "    # 5. 儲存所有快取\n",
        "    # 這是反向傳播時的關鍵\n",
        "    cache = {\n",
        "        \"cache_conv\": cache_conv, # (A_prev, W, b, stride, padding)\n",
        "        \"Z_conv\": Z_conv, # Conv 輸出\n",
        "        \"A_conv\": A_conv, # Conv 的 ReLU 輸出\n",
        "        \"cache_pool\": cache_pool, # (A_conv, (pool_size, stride))\n",
        "        \"A_pool\": A_pool, # Pool 輸出\n",
        "        \"A_flat\": A_flat, # Flatten 輸出\n",
        "        \"Z_fc\": Z_fc, # FC 輸出\n",
        "        \"A_fc\": A_fc, # FC 的 ReLU 輸出\n",
        "        \"W_fc\": W_fc, # FC 權重\n",
        "        \"W_out\": W_out # Out 權重\n",
        "    }\n",
        "\n",
        "    return A_out, cache"
      ]
    },
    {
      "cell_type": "markdown",
      "metadata": {
        "id": "OQCTqI6rjx8S"
      },
      "source": [
        "## Step 2-6: 損失函數 Loss Function\n",
        "\n",
        "跟 HW3 一樣，使用 Cross Entropy\n",
        "\n",
        "參數:\n",
        "\n",
        "- `A_out` -- 模型的預測機率輸出, shape (N, num_classes)\n",
        "- `Y` -- 真實的 One-Hot 標籤, shape (N, num_classes)\n",
        "\n",
        "Return:\n",
        "\n",
        "- `loss` -- 交叉熵損失值 (一個純量)"
      ]
    },
    {
      "cell_type": "code",
      "execution_count": 18,
      "metadata": {
        "id": "D5y9_5L3jvP3"
      },
      "outputs": [],
      "source": [
        "def compute_loss(A_out, Y):\n",
        "\n",
        "    N = Y.shape[0]\n",
        "\n",
        "    # 加上一個極小值 1e-9 是為了避免 log(0) 的情況\n",
        "    loss = -cp.sum(Y * cp.log(A_out + 1e-9)) / N\n",
        "\n",
        "    return loss"
      ]
    },
    {
      "cell_type": "markdown",
      "metadata": {
        "id": "2qQ_hGOIkg_H"
      },
      "source": [
        "## Step 2-7: Backward Propagation\n",
        "\n",
        "路徑如下：\n",
        "\n",
        "`dLoss/dZ_out` -> `dLoss/dA_fc` -> `dLoss/dZ_fc` -> `dLoss/dA_pool` -> `dLoss/dA_conv` -> `dLoss/dZ_conv`\n",
        "\n",
        "每一步，我們都會計算出對應層的權重梯度 (`dW`, `db`) 以及傳遞給前一層的梯度 (`dA`)。\n",
        "\n",
        "對於「Softmax + Cross Entropy」這個經典組合，起始梯度有個很簡潔的結果：\n",
        "\n",
        "$$\n",
        "\\frac{∂Loss}{\\partial_{out}}=A_{out}-Y\n",
        "$$\n",
        "\n",
        "其中 $A_{out}$ 是 Softmax 的預測機率，Y 是正解的 One-Hot 標籤。這大大簡化了我們的計算。我們就從這個梯度 `dZ_out` 開始。\n",
        "\n",
        "參數:\n",
        "\n",
        "- `A_out` -- 模型的預測輸出\n",
        "- `Y` -- 真實的 One-Hot 標籤\n",
        "- `cache` -- 前向傳播儲存的所有中間值\n",
        "- `parameters` -- 包含所有權重的字典\n",
        "\n",
        "Return:\n",
        "\n",
        "- `grads` -- 包含所有權重與 bias 梯度的字典\n",
        "\n"
      ]
    },
    {
      "cell_type": "code",
      "execution_count": 19,
      "metadata": {
        "id": "S-Af47w1kMCL"
      },
      "outputs": [],
      "source": [
        "def backward_propagation(A_out, Y, cache, parameters):\n",
        "    grads = {}\n",
        "    N = Y.shape[0] # 批次大小\n",
        "\n",
        "    # 1. 輸出層的反向傳播\n",
        "    # 起始梯度 dZ_out\n",
        "    dZ_out = A_out - Y\n",
        "\n",
        "    # 對 W_out, b_out 的梯度\n",
        "    A_fc = cache['A_fc']\n",
        "    grads['dW_out'] = (1/N) * cp.dot(A_fc.T, dZ_out)\n",
        "    grads['db_out'] = (1/N) * cp.sum(dZ_out, axis=0, keepdims=True)\n",
        "\n",
        "    # 傳遞給前一層 (FC層) 的梯度 dA_fc\n",
        "    W_out = parameters['W_out']\n",
        "    dA_fc = cp.dot(dZ_out, W_out.T)\n",
        "\n",
        "    # 2. 全連接層 (FC) 的反向傳播 ---\n",
        "    # 首先通過 ReLU 的反向傳播\n",
        "    Z_fc = cache['Z_fc']\n",
        "    dZ_fc = relu_backward(dA_fc, Z_fc) # 我們之前寫好的 relu_backward\n",
        "\n",
        "    # 對 W_fc, b_fc 的梯度\n",
        "    A_flat = cache['A_flat']\n",
        "    grads['dW_fc'] = (1/N) * cp.dot(A_flat.T, dZ_fc)\n",
        "    grads['db_fc'] = (1/N) * cp.sum(dZ_fc, axis=0, keepdims=True)\n",
        "\n",
        "    # 傳遞給前一層 (扁平層) 的梯度 dA_flat\n",
        "    W_fc = parameters['W_fc']\n",
        "    dA_flat = cp.dot(dZ_fc, W_fc.T)\n",
        "\n",
        "    # 3. 扁平層 (Flatten) 的反向傳播\n",
        "    # 這一步只是將梯度從 1D 向量恢復成 4D 陣列\n",
        "    A_pool = cache['A_pool']\n",
        "    dA_pool = dA_flat.reshape(A_pool.shape)\n",
        "\n",
        "    # 接下來的兩步 (池化層和卷積層) 比較複雜，我們先把函式框架寫好\n",
        "\n",
        "    # 4. 池化層 (Pooling) 的反向傳播\n",
        "    cache_pool = cache['cache_pool']\n",
        "    dA_conv = max_pool_backward_fast(dA_pool, cache_pool)\n",
        "\n",
        "    # 5. 卷積層 (Conv) 的反向傳播\n",
        "    # 首先通過 ReLU 的反向傳播\n",
        "    Z_conv = cache['Z_conv']\n",
        "    dZ_conv = relu_backward(dA_conv, Z_conv)\n",
        "\n",
        "    # 傳入卷積層反向傳播函式\n",
        "    cache_conv = cache['cache_conv']\n",
        "    dA_prev, dW_conv, db_conv = conv_backward_fast(dZ_conv, cache_conv)\n",
        "\n",
        "    grads['dW_conv'] = dW_conv\n",
        "    grads['db_conv'] = db_conv\n",
        "\n",
        "    return grads"
      ]
    },
    {
      "cell_type": "markdown",
      "metadata": {
        "id": "ves9HMs2mgkz"
      },
      "source": [
        "上面的程式碼還無法執行，因為我們還缺少 `max_pool_backward` 和 `conv_backward` 這兩個最關鍵的函式。"
      ]
    },
    {
      "cell_type": "markdown",
      "metadata": {
        "id": "ViTcmh-sm7JE"
      },
      "source": [
        "### Step 2-7-2: 池化層的反向傳播\n",
        "\n",
        "\n",
        "實現最大池化層的反向傳播\n",
        "\n",
        "參數:\n",
        "\n",
        "- `dA` -- 池化層輸出的梯度, shape (N, C, H_out, W_out)\n",
        "- `cache` -- 前向傳播的快取 (A_prev, (pool_size, stride))\n",
        "\n",
        "Return:\n",
        "\n",
        "- `dA_prev` -- 傳遞給前一層的梯度"
      ]
    },
    {
      "cell_type": "code",
      "execution_count": 20,
      "metadata": {
        "id": "AEnQXWMSmRUC"
      },
      "outputs": [],
      "source": [
        "def max_pool_backward(dA, cache):\n",
        "\n",
        "    A_prev, (pool_size, stride) = cache\n",
        "    (N, C, H_prev, W_prev) = A_prev.shape\n",
        "    (N, C, H_out, W_out) = dA.shape\n",
        "\n",
        "    dA_prev = cp.zeros_like(A_prev)\n",
        "\n",
        "    for n in range(N):\n",
        "        for c in range(C):\n",
        "            for h in range(H_out):\n",
        "                for w in range(W_out):\n",
        "                    vert_start = h * stride\n",
        "                    vert_end = vert_start + pool_size\n",
        "                    horiz_start = w * stride\n",
        "                    horiz_end = horiz_start + pool_size\n",
        "\n",
        "                    # 選取前向傳播時的同一個窗口\n",
        "                    a_slice = A_prev[n, c, vert_start:vert_end, horiz_start:horiz_end]\n",
        "\n",
        "                    # 找到最大值的位置 (mask)\n",
        "                    mask = (a_slice == cp.max(a_slice))\n",
        "\n",
        "                    # 將 dA 的梯度加到這個最大值的位置上\n",
        "                    dA_prev[n, c, vert_start:vert_end, horiz_start:horiz_end] += mask * dA[n, c, h, w]\n",
        "\n",
        "    return dA_prev"
      ]
    },
    {
      "cell_type": "markdown",
      "metadata": {
        "id": "fo0mmBAdntZ_"
      },
      "source": [
        "### Step 2-7-3: 卷積層的反向傳播\n",
        "\n",
        "實現卷積層的反向傳播\n",
        "\n",
        "參數:\n",
        "\n",
        "- `dZ` -- 卷積層輸出的梯度, shape (N, n_filters, H_out, W_out)\n",
        "- `cache` -- 前向傳播的快取 (A_prev, W, b, stride, padding)\n",
        "\n",
        "Return:\n",
        "\n",
        "- `dA_prev`, `dW`, `db`"
      ]
    },
    {
      "cell_type": "code",
      "execution_count": 21,
      "metadata": {
        "id": "J5tAPdKanWKM"
      },
      "outputs": [],
      "source": [
        "def conv_backward(dZ, cache):\n",
        "    A_prev, W, b, stride, padding = cache\n",
        "    (N, C_prev, H_prev, W_prev) = A_prev.shape\n",
        "    (n_filters, C_prev, f, f) = W.shape\n",
        "    (N, n_filters, H_out, W_out) = dZ.shape\n",
        "\n",
        "    # 初始化梯度\n",
        "    dA_prev = cp.zeros_like(A_prev)\n",
        "    dW = cp.zeros_like(W)\n",
        "    db = cp.zeros((n_filters, 1))\n",
        "\n",
        "    # 對輸入進行補零 (為了計算 dA_prev)\n",
        "    A_prev_pad = zero_pad(A_prev, padding)\n",
        "    dA_prev_pad = zero_pad(dA_prev, padding)\n",
        "\n",
        "    for n in range(N):\n",
        "        # 選取單一樣本\n",
        "        a_prev_pad = A_prev_pad[n]\n",
        "        da_prev_pad = dA_prev_pad[n]\n",
        "\n",
        "        for c in range(n_filters):\n",
        "            for h in range(H_out):\n",
        "                for w in range(W_out):\n",
        "                    vert_start = h * stride\n",
        "                    vert_end = vert_start + f\n",
        "                    horiz_start = w * stride\n",
        "                    horiz_end = horiz_start + f\n",
        "\n",
        "                    # 定位滑動窗口\n",
        "                    a_slice = a_prev_pad[:, vert_start:vert_end, horiz_start:horiz_end]\n",
        "\n",
        "                    # 計算梯度\n",
        "                    # 1. 更新傳遞給前一層的梯度 dA_prev\n",
        "                    da_prev_pad[:, vert_start:vert_end, horiz_start:horiz_end] += W[c, :, :, :] * dZ[n, c, h, w]\n",
        "                    # 2. 更新對濾波器的梯度 dW\n",
        "                    dW[c, :, :, :] += a_slice * dZ[n, c, h, w]\n",
        "                    # 3. 更新對偏置的梯度 db (此處先累加)\n",
        "                    db[c] += dZ[n, c, h, w]\n",
        "\n",
        "        # 去掉 dA_prev_pad 的補零部分\n",
        "        if padding > 0:\n",
        "            dA_prev[n, :, :, :] = da_prev_pad[:, padding:-padding, padding:-padding]\n",
        "        else:\n",
        "            dA_prev[n, :, :, :] = da_prev_pad\n",
        "\n",
        "    # 對 db 取平均\n",
        "    db = db / N\n",
        "\n",
        "    return dA_prev, dW, db"
      ]
    },
    {
      "cell_type": "markdown",
      "metadata": {
        "id": "SaHjW81lwoiW"
      },
      "source": [
        "### Step 2-7-4: 優化卷積層反向傳播\n",
        "\n",
        "跟前向傳播時一樣，執行時發現巢狀迴圈效率過差"
      ]
    },
    {
      "cell_type": "code",
      "execution_count": 22,
      "metadata": {
        "id": "TI64YOzxwx-I"
      },
      "outputs": [],
      "source": [
        "from cupy.lib.stride_tricks import as_strided\n",
        "\n",
        "def col2im_gpu(cols, x_shape, field_height=3, field_width=3, padding=1, stride=1):\n",
        "    \"\"\" An implementation of col2im on GPU \"\"\"\n",
        "    N, C, H, W = x_shape\n",
        "    H_padded, W_padded = H + 2 * padding, W + 2 * padding\n",
        "    x_padded = cp.zeros((N, C, H_padded, W_padded), dtype=cols.dtype)\n",
        "    k, i, j = get_im2col_indices(x_shape, field_height, field_width, padding, stride)\n",
        "    cols_reshaped = cols.reshape(C * field_height * field_width, -1, N)\n",
        "    cols_reshaped = cols_reshaped.transpose(2, 0, 1)\n",
        "\n",
        "    # 使用 cp.add.at 這個原子操作來高效地將梯度加總回去\n",
        "    cp.add.at(x_padded, (slice(None), k, i, j), cols_reshaped)\n",
        "\n",
        "    if padding == 0:\n",
        "        return x_padded\n",
        "    return x_padded[:, :, padding:-padding, padding:-padding]"
      ]
    },
    {
      "cell_type": "code",
      "execution_count": 23,
      "metadata": {
        "id": "cOPXLK8qw1PS"
      },
      "outputs": [],
      "source": [
        "def conv_backward_fast(dZ, cache):\n",
        "    \"\"\"\n",
        "    使用 col2im 實現的高效版卷積反向傳播\n",
        "    \"\"\"\n",
        "    # 解開 cache\n",
        "    A_prev, W, b, stride, padding, A_col = cache\n",
        "    N, C, H, W_shape = A_prev.shape\n",
        "    n_filters, _, _, _ = W.shape\n",
        "\n",
        "    # 計算 db 的梯度\n",
        "    db = cp.sum(dZ, axis=(0, 2, 3))\n",
        "    db = db.reshape(n_filters, -1)\n",
        "\n",
        "    # 重新塑形 dZ 以便進行矩陣乘法\n",
        "    dZ_reshaped = dZ.transpose(1, 2, 3, 0).reshape(n_filters, -1)\n",
        "\n",
        "    # 計算 dW 的梯度\n",
        "    dW = dZ_reshaped @ A_col.T\n",
        "    dW = dW.reshape(W.shape)\n",
        "\n",
        "    # 計算傳遞給前一層的梯度 dA_prev\n",
        "    W_row = W.reshape(n_filters, -1)\n",
        "    dA_col = W_row.T @ dZ_reshaped\n",
        "    dA_prev = col2im_gpu(dA_col, A_prev.shape, W.shape[2], W.shape[3], padding, stride)\n",
        "\n",
        "    return dA_prev, dW, db"
      ]
    },
    {
      "cell_type": "markdown",
      "metadata": {
        "id": "d_3ruVcrznvL"
      },
      "source": [
        "### Step 2-7-5: 優化池化層的反向傳播"
      ]
    },
    {
      "cell_type": "code",
      "execution_count": 24,
      "metadata": {
        "id": "kfhZAmLbzupV"
      },
      "outputs": [],
      "source": [
        "def max_pool_backward_fast(dA, cache):\n",
        "    # 從快取中取出前向傳播的輸入與輸出\n",
        "    A_prev, A_out, (pool_size, stride) = cache\n",
        "\n",
        "    # 1. 將池化層輸出的梯度 dA 上採樣\n",
        "    dA_upsampled = dA.repeat(pool_size, axis=2).repeat(pool_size, axis=3)\n",
        "\n",
        "    # 2. 同樣地，將前向傳播的輸出 A_out 上採樣\n",
        "    A_out_upsampled = A_out.repeat(pool_size, axis=2).repeat(pool_size, axis=3)\n",
        "\n",
        "    # 3. 建立遮罩：A_prev 中等於上採樣後 A_out 的位置，就是當時的最大值\n",
        "    # 這些位置的值為 True (1)，其餘為 False (0)\n",
        "    mask = (A_prev == A_out_upsampled)\n",
        "\n",
        "    # 4. 將上採樣的梯度應用於遮罩，梯度只會流向最大值所在的位置\n",
        "    dA_prev = dA_upsampled * mask\n",
        "\n",
        "    return dA_prev"
      ]
    },
    {
      "cell_type": "markdown",
      "metadata": {
        "id": "pf_PE3SIptAc"
      },
      "source": [
        "## Step 2-8: 更新權重\n",
        "\n",
        "使用梯度下降法更新模型的參數\n",
        "\n",
        "參數:\n",
        "\n",
        "- `parameters` -- 包含當前權重的字典\n",
        "- `grads` -- 包含梯度的字典\n",
        "- `learning_rate` -- 學習率 (alpha)\n",
        "\n",
        "Return:\n",
        "\n",
        "- parameters -- 更新後的參數字典"
      ]
    },
    {
      "cell_type": "code",
      "execution_count": 25,
      "metadata": {
        "id": "Le3BirQynr5x"
      },
      "outputs": [],
      "source": [
        "def update_parameters(parameters, grads, learning_rate):\n",
        "\n",
        "    # 根據梯度下降規則更新每一個參數\n",
        "    parameters['W_conv'] -= learning_rate * grads['dW_conv']\n",
        "    parameters['b_conv'] -= learning_rate * grads['db_conv']\n",
        "    parameters['W_fc'] -= learning_rate * grads['dW_fc']\n",
        "    parameters['b_fc'] -= learning_rate * grads['db_fc']\n",
        "    parameters['W_out'] -= learning_rate * grads['dW_out']\n",
        "    parameters['b_out'] -= learning_rate * grads['db_out']\n",
        "\n",
        "    return parameters"
      ]
    },
    {
      "cell_type": "markdown",
      "metadata": {
        "id": "ZuayeFrVp6JP"
      },
      "source": [
        "# Step 3: 整合出 CNN Model"
      ]
    },
    {
      "cell_type": "markdown",
      "metadata": {
        "id": "bm1ylx44qZYH"
      },
      "source": [
        "## Step 3-1: Create the CNN Model\n",
        "\n",
        "\n",
        "完整的 CNN 訓練模型\n",
        "\n",
        "Return:\n",
        "\n",
        "- trained_parameters -- 訓練完成後的模型參數\n",
        "- history -- 包含每個 epoch 的 cost 和 accuracy 的字典\n"
      ]
    },
    {
      "cell_type": "code",
      "execution_count": 26,
      "metadata": {
        "id": "g2B4vqwMp4ez"
      },
      "outputs": [],
      "source": [
        "import time # 引入 time 模組來計算訓練時間\n",
        "import copy # 我們需要 copy 模組來 deepcopy 權重\n",
        "\n",
        "def cnn_model(X_train, Y_train, Y_train_orig, X_test, Y_test_orig,\n",
        "              learning_rate=0.05, num_epochs=10, batch_size=64,\n",
        "              n_filters=8, filter_size=3,\n",
        "              use_early_stopping=True, early_stopping_patience=5):\n",
        "\n",
        "    (N_train, C_train, H_train, W_train) = X_train.shape\n",
        "    num_classes = Y_train.shape[1]\n",
        "\n",
        "    # 1. 初始化權重\n",
        "    parameters = initialize_parameters(input_dim=(C_train, H_train, W_train),\n",
        "                                               n_filters=n_filters, filter_size=filter_size,\n",
        "                                               n_y=num_classes)\n",
        "\n",
        "    # 儲存每個 epoch 的 loss 和 accuracy，用於後續繪圖\n",
        "    costs = []\n",
        "    accuracies = []\n",
        "\n",
        "    # === 早停機制初始化 ===\n",
        "    if use_early_stopping:\n",
        "        patience = early_stopping_patience\n",
        "        epochs_no_improve = 0\n",
        "        best_accuracy = 0.0\n",
        "        # 用來儲存性能最好時的權重\n",
        "        best_parameters = {}\n",
        "\n",
        "    # 2. 訓練迴圈\n",
        "    for i in range(num_epochs):\n",
        "        epoch_start_time = time.time()\n",
        "        epoch_cost = 0.0\n",
        "\n",
        "        # 在每個 epoch 開始前，將資料隨機打亂\n",
        "        permutation = cp.random.permutation(N_train)\n",
        "        shuffled_X = X_train[permutation, :, :, :]\n",
        "        shuffled_Y = Y_train[permutation, :]\n",
        "\n",
        "        # Mini-batch 處理\n",
        "        num_minibatches = N_train // batch_size\n",
        "\n",
        "        for j in range(num_minibatches):\n",
        "            start = j * batch_size\n",
        "            end = start + batch_size\n",
        "            minibatch_X = shuffled_X[start:end, :, :, :]\n",
        "            minibatch_Y = shuffled_Y[start:end, :]\n",
        "\n",
        "            # a. 前向傳播\n",
        "            A_out, cache = forward_propagation(minibatch_X, parameters)\n",
        "\n",
        "            # b. 計算損失\n",
        "            cost = compute_loss(A_out, minibatch_Y)\n",
        "            epoch_cost += cost\n",
        "\n",
        "            # c. 反向傳播\n",
        "            grads = backward_propagation(A_out, minibatch_Y, cache, parameters)\n",
        "\n",
        "            # d. 更新參數\n",
        "            parameters = update_parameters(parameters, grads, learning_rate)\n",
        "\n",
        "        # 計算並記錄這個 epoch 的平均損失\n",
        "        avg_epoch_cost = epoch_cost / num_minibatches\n",
        "        costs.append(avg_epoch_cost)\n",
        "\n",
        "        # 在每個 epoch 結束後，用測試集評估準確率\n",
        "        predictions = predict(X_test, parameters)\n",
        "        current_accuracy = calculate_accuracy(predictions, Y_test_orig)\n",
        "        accuracies.append(current_accuracy)\n",
        "\n",
        "        epoch_end_time = time.time()\n",
        "\n",
        "        print(f\"Epoch {i + 1}/{num_epochs} - Cost: {avg_epoch_cost:.6f} - Accuracy: {current_accuracy:.4f} - Time: {epoch_end_time - epoch_start_time:.2f}s\")\n",
        "\n",
        "        # 早停機制\n",
        "        if use_early_stopping:\n",
        "            if current_accuracy > best_accuracy:\n",
        "                best_accuracy = current_accuracy\n",
        "                epochs_no_improve = 0\n",
        "                # deepcopy 目前最好的權重\n",
        "                best_parameters = copy.deepcopy(parameters)\n",
        "                print(f\"  -> Accuracy improved to {best_accuracy:.4f}! Saving model.\")\n",
        "            else:\n",
        "                epochs_no_improve += 1\n",
        "                print(f\"  -> Accuracy did not improve for {epochs_no_improve} epoch(s).\")\n",
        "\n",
        "            if epochs_no_improve >= patience:\n",
        "                print(f\"\\nEarly stopping triggered after {patience} epochs with no improvement.\")\n",
        "                # 訓練結束，回傳歷史最佳的權重\n",
        "                parameters = best_parameters\n",
        "                break\n",
        "\n",
        "    history = {\"costs\": costs, \"accuracies\": accuracies}\n",
        "    return parameters, history"
      ]
    },
    {
      "cell_type": "code",
      "execution_count": 27,
      "metadata": {
        "id": "sL_fykh3qsGf"
      },
      "outputs": [],
      "source": [
        "# --- 預測與準確率計算的輔助函式 ---\n",
        "def predict(X, parameters):\n",
        "    A_out, _ = forward_propagation(X, parameters)\n",
        "    # 找出每個樣本中，機率最高的那個類別的索引 (0-9)\n",
        "    predictions = cp.argmax(A_out, axis=1)\n",
        "    return predictions\n",
        "\n",
        "def calculate_accuracy(predictions, labels):\n",
        "    # 比較預測結果和正解標籤\n",
        "    return cp.mean(predictions == labels)"
      ]
    },
    {
      "cell_type": "markdown",
      "metadata": {
        "id": "8pHgYO7Yqx5R"
      },
      "source": [
        "## Step 3-2: 訓練模型"
      ]
    },
    {
      "cell_type": "code",
      "execution_count": 28,
      "metadata": {
        "colab": {
          "base_uri": "https://localhost:8080/"
        },
        "id": "EivvWvIGqv_X",
        "outputId": "56f51b45-fc31-4eef-cc2a-1dad2c90829e"
      },
      "outputs": [
        {
          "name": "stdout",
          "output_type": "stream",
          "text": [
            "Epoch 1/100 - Cost: 0.402958 - Accuracy: 0.9508 - Time: 19.36s\n",
            "  -> Accuracy improved to 0.9508! Saving model.\n",
            "Epoch 2/100 - Cost: 0.134227 - Accuracy: 0.9645 - Time: 8.23s\n",
            "  -> Accuracy improved to 0.9645! Saving model.\n",
            "Epoch 3/100 - Cost: 0.098766 - Accuracy: 0.9617 - Time: 8.31s\n",
            "  -> Accuracy did not improve for 1 epoch(s).\n",
            "Epoch 4/100 - Cost: 0.076742 - Accuracy: 0.9744 - Time: 8.39s\n",
            "  -> Accuracy improved to 0.9744! Saving model.\n",
            "Epoch 5/100 - Cost: 0.058125 - Accuracy: 0.9736 - Time: 8.42s\n",
            "  -> Accuracy did not improve for 1 epoch(s).\n",
            "Epoch 6/100 - Cost: 0.046284 - Accuracy: 0.9814 - Time: 8.45s\n",
            "  -> Accuracy improved to 0.9814! Saving model.\n",
            "Epoch 7/100 - Cost: 0.038609 - Accuracy: 0.9812 - Time: 8.55s\n",
            "  -> Accuracy did not improve for 1 epoch(s).\n",
            "Epoch 8/100 - Cost: 0.031190 - Accuracy: 0.9822 - Time: 8.56s\n",
            "  -> Accuracy improved to 0.9822! Saving model.\n",
            "Epoch 9/100 - Cost: 0.024794 - Accuracy: 0.9818 - Time: 8.52s\n",
            "  -> Accuracy did not improve for 1 epoch(s).\n",
            "Epoch 10/100 - Cost: 0.020114 - Accuracy: 0.9840 - Time: 8.47s\n",
            "  -> Accuracy improved to 0.9840! Saving model.\n",
            "Epoch 11/100 - Cost: 0.016269 - Accuracy: 0.9814 - Time: 8.94s\n",
            "  -> Accuracy did not improve for 1 epoch(s).\n",
            "Epoch 12/100 - Cost: 0.014241 - Accuracy: 0.9848 - Time: 8.44s\n",
            "  -> Accuracy improved to 0.9848! Saving model.\n",
            "Epoch 13/100 - Cost: 0.010336 - Accuracy: 0.9839 - Time: 8.39s\n",
            "  -> Accuracy did not improve for 1 epoch(s).\n",
            "Epoch 14/100 - Cost: 0.008706 - Accuracy: 0.9843 - Time: 8.44s\n",
            "  -> Accuracy did not improve for 2 epoch(s).\n",
            "Epoch 15/100 - Cost: 0.005845 - Accuracy: 0.9854 - Time: 8.45s\n",
            "  -> Accuracy improved to 0.9854! Saving model.\n",
            "Epoch 16/100 - Cost: 0.004464 - Accuracy: 0.9826 - Time: 8.45s\n",
            "  -> Accuracy did not improve for 1 epoch(s).\n",
            "Epoch 17/100 - Cost: 0.006639 - Accuracy: 0.9852 - Time: 8.43s\n",
            "  -> Accuracy did not improve for 2 epoch(s).\n",
            "Epoch 18/100 - Cost: 0.004916 - Accuracy: 0.9826 - Time: 8.48s\n",
            "  -> Accuracy did not improve for 3 epoch(s).\n",
            "Epoch 19/100 - Cost: 0.003173 - Accuracy: 0.9854 - Time: 8.46s\n",
            "  -> Accuracy did not improve for 4 epoch(s).\n",
            "Epoch 20/100 - Cost: 0.001940 - Accuracy: 0.9843 - Time: 8.43s\n",
            "  -> Accuracy did not improve for 5 epoch(s).\n",
            "Epoch 21/100 - Cost: 0.001605 - Accuracy: 0.9855 - Time: 8.46s\n",
            "  -> Accuracy improved to 0.9855! Saving model.\n",
            "Epoch 22/100 - Cost: 0.000699 - Accuracy: 0.9855 - Time: 9.67s\n",
            "  -> Accuracy did not improve for 1 epoch(s).\n",
            "Epoch 23/100 - Cost: 0.000546 - Accuracy: 0.9853 - Time: 9.06s\n",
            "  -> Accuracy did not improve for 2 epoch(s).\n",
            "Epoch 24/100 - Cost: 0.000499 - Accuracy: 0.9859 - Time: 8.41s\n",
            "  -> Accuracy improved to 0.9859! Saving model.\n",
            "Epoch 25/100 - Cost: 0.000452 - Accuracy: 0.9850 - Time: 8.43s\n",
            "  -> Accuracy did not improve for 1 epoch(s).\n",
            "Epoch 26/100 - Cost: 0.000570 - Accuracy: 0.9856 - Time: 8.44s\n",
            "  -> Accuracy did not improve for 2 epoch(s).\n",
            "Epoch 27/100 - Cost: 0.000286 - Accuracy: 0.9859 - Time: 8.50s\n",
            "  -> Accuracy did not improve for 3 epoch(s).\n",
            "Epoch 28/100 - Cost: 0.000190 - Accuracy: 0.9860 - Time: 8.41s\n",
            "  -> Accuracy improved to 0.9860! Saving model.\n",
            "Epoch 29/100 - Cost: 0.000160 - Accuracy: 0.9857 - Time: 8.70s\n",
            "  -> Accuracy did not improve for 1 epoch(s).\n",
            "Epoch 30/100 - Cost: 0.000152 - Accuracy: 0.9854 - Time: 8.44s\n",
            "  -> Accuracy did not improve for 2 epoch(s).\n",
            "Epoch 31/100 - Cost: 0.000148 - Accuracy: 0.9856 - Time: 8.46s\n",
            "  -> Accuracy did not improve for 3 epoch(s).\n",
            "Epoch 32/100 - Cost: 0.000131 - Accuracy: 0.9860 - Time: 8.42s\n",
            "  -> Accuracy did not improve for 4 epoch(s).\n",
            "Epoch 33/100 - Cost: 0.000127 - Accuracy: 0.9860 - Time: 8.48s\n",
            "  -> Accuracy did not improve for 5 epoch(s).\n",
            "Epoch 34/100 - Cost: 0.000113 - Accuracy: 0.9856 - Time: 8.53s\n",
            "  -> Accuracy did not improve for 6 epoch(s).\n",
            "Epoch 35/100 - Cost: 0.000103 - Accuracy: 0.9858 - Time: 8.43s\n",
            "  -> Accuracy did not improve for 7 epoch(s).\n",
            "Epoch 36/100 - Cost: 0.000099 - Accuracy: 0.9857 - Time: 8.49s\n",
            "  -> Accuracy did not improve for 8 epoch(s).\n",
            "Epoch 37/100 - Cost: 0.000095 - Accuracy: 0.9856 - Time: 8.48s\n",
            "  -> Accuracy did not improve for 9 epoch(s).\n",
            "Epoch 38/100 - Cost: 0.000090 - Accuracy: 0.9854 - Time: 8.46s\n",
            "  -> Accuracy did not improve for 10 epoch(s).\n",
            "\n",
            "Early stopping triggered after 10 epochs with no improvement.\n"
          ]
        }
      ],
      "source": [
        "# 設定超參數\n",
        "LEARNING_RATE = 0.05\n",
        "NUM_EPOCHS = 100\n",
        "BATCH_SIZE = 64\n",
        "N_FILTERS = 32\n",
        "FILTER_SIZE = 3\n",
        "PATIENCE = 10\n",
        "\n",
        "# 開始訓練\n",
        "trained_parameters, history = cnn_model(\n",
        "    train_x, train_y, train_y_orig,\n",
        "    test_x, test_y_orig,\n",
        "    learning_rate=LEARNING_RATE,\n",
        "    num_epochs=NUM_EPOCHS,\n",
        "    batch_size=BATCH_SIZE,\n",
        "    n_filters=N_FILTERS,\n",
        "    filter_size=FILTER_SIZE,\n",
        "    use_early_stopping=True,\n",
        "    # 如果連續 PATIENCE 次 accuracy 沒有提升就停止\n",
        "    early_stopping_patience=PATIENCE\n",
        ")"
      ]
    },
    {
      "cell_type": "markdown",
      "metadata": {
        "id": "99uS45ZN69Dt"
      },
      "source": [
        "## Step 3-3: 儲存及載入參數的函數\n",
        "\n",
        "儲存模型的權重參數\n",
        "\n",
        "參數:\n",
        "\n",
        "- parameters: 包含 CuPy 陣列的權重字典\n",
        "- filename: 要儲存的檔案名稱\n"
      ]
    },
    {
      "cell_type": "code",
      "execution_count": 29,
      "metadata": {
        "id": "ODi60wGoq3Lt"
      },
      "outputs": [],
      "source": [
        "def save_parameters(parameters, filename=\"my_cnn_model.npz\"):\n",
        "    print(f\"Saving parameters to {filename}...\")\n",
        "\n",
        "    # 建立一個新的字典，用來存放轉換後的 NumPy 陣列\n",
        "    numpy_params = {}\n",
        "    for key, value in parameters.items():\n",
        "        # 使用 cp.asnumpy() 將 CuPy 陣列轉為 NumPy 陣列\n",
        "        numpy_params[key] = cp.asnumpy(value)\n",
        "\n",
        "    # 使用 np.savez_compressed 儲存，**numpy_params 會自動解包成關鍵字參數\n",
        "    np.savez_compressed(filename, **numpy_params)\n",
        "\n",
        "    print(\"Parameters saved successfully.\")"
      ]
    },
    {
      "cell_type": "code",
      "execution_count": 2,
      "metadata": {
        "id": "9E5unKuX7JNI"
      },
      "outputs": [],
      "source": [
        "import os\n",
        "\n",
        "def load_parameters(filename=\"my_cnn_model.npz\"):\n",
        "    if not os.path.exists(filename):\n",
        "        print(f\"Error: File '{filename}' not found.\")\n",
        "        return None\n",
        "\n",
        "    print(f\"Loading parameters from {filename}...\")\n",
        "\n",
        "    # 載入 .npz 檔案，它是一個類字典物件\n",
        "    npzfile = np.load(filename)\n",
        "\n",
        "    # 建立一個新的字典，用來存放轉換後的 CuPy 陣列\n",
        "    parameters = {}\n",
        "    for key in npzfile.keys():\n",
        "        # 使用 cp.asarray() 將 NumPy 陣列轉為 CuPy 陣列\n",
        "        parameters[key] = cp.asarray(npzfile[key])\n",
        "\n",
        "    print(\"Parameters loaded successfully.\")\n",
        "    return parameters"
      ]
    },
    {
      "cell_type": "code",
      "execution_count": 31,
      "metadata": {
        "colab": {
          "base_uri": "https://localhost:8080/"
        },
        "id": "k3q_S4_T7QHW",
        "outputId": "bbe31b4e-6071-46af-d483-7cf19b6060b4"
      },
      "outputs": [
        {
          "name": "stdout",
          "output_type": "stream",
          "text": [
            "Saving parameters to my_cnn_model.npz...\n",
            "Parameters saved successfully.\n"
          ]
        }
      ],
      "source": [
        "save_parameters(trained_parameters, \"my_cnn_model.npz\")"
      ]
    },
    {
      "cell_type": "markdown",
      "metadata": {
        "id": "6t5rIcby_jzQ"
      },
      "source": [
        "# Step 4: 最終評估與報告"
      ]
    },
    {
      "cell_type": "markdown",
      "metadata": {
        "id": "mAFK36X0BtRs"
      },
      "source": [
        "## Step 4-1: 最終預測"
      ]
    },
    {
      "cell_type": "code",
      "execution_count": 32,
      "metadata": {
        "colab": {
          "base_uri": "https://localhost:8080/"
        },
        "id": "nRYTFDp-7ZKy",
        "outputId": "50e4fc60-e74f-49d0-f61d-c32a6ae947a4"
      },
      "outputs": [
        {
          "name": "stdout",
          "output_type": "stream",
          "text": [
            "Loading parameters from my_cnn_model.npz...\n",
            "Parameters loaded successfully.\n"
          ]
        }
      ],
      "source": [
        "trained_parameters = load_parameters(\"my_cnn_model.npz\")"
      ]
    },
    {
      "cell_type": "code",
      "execution_count": 33,
      "metadata": {
        "colab": {
          "base_uri": "https://localhost:8080/"
        },
        "id": "yIh7vgR8BRwn",
        "outputId": "f1ef5e8c-adec-4f63-8d89-e9ba35ce2f1e"
      },
      "outputs": [
        {
          "name": "stdout",
          "output_type": "stream",
          "text": [
            "Making final predictions on the test set...\n",
            "Final model accuracy: 98.60%\n"
          ]
        }
      ],
      "source": [
        "# 1. 進行最終預測\n",
        "print(\"Making final predictions on the test set...\")\n",
        "test_predictions = predict(test_x, trained_parameters)\n",
        "\n",
        "# 2. 確認最終準確率\n",
        "final_accuracy = calculate_accuracy(test_predictions, test_y_orig)\n",
        "# 使用 cp.asnumpy() 將 CuPy 純量轉為 Python 純量以便格式化輸出\n",
        "print(f\"Final model accuracy: {cp.asnumpy(final_accuracy)*100:.2f}%\")"
      ]
    },
    {
      "cell_type": "code",
      "execution_count": 34,
      "metadata": {
        "id": "HDmRwCndB0wc"
      },
      "outputs": [],
      "source": [
        "# 3. 建立混淆矩陣\n",
        "num_classes = 10\n",
        "# 初始化一個 10x10 的 CuPy 矩陣\n",
        "confusion_matrix_cp = cp.zeros((num_classes, num_classes), dtype=int)\n",
        "\n",
        "# 遍歷所有測試集樣本，填充混淆矩陣\n",
        "for i in range(len(test_y_orig)):\n",
        "    true_label = test_y_orig[i]\n",
        "    predicted_label = test_predictions[i]\n",
        "    confusion_matrix_cp[true_label, predicted_label] += 1"
      ]
    },
    {
      "cell_type": "code",
      "execution_count": 35,
      "metadata": {
        "colab": {
          "base_uri": "https://localhost:8080/",
          "height": 606
        },
        "id": "66K2zOBQCC61",
        "outputId": "1cb4c674-be7b-417e-c798-f0230fc85e21"
      },
      "outputs": [
        {
          "data": {
            "image/png": "[encoded data removed]",
            "text/plain": [
              "<Figure size 1000x800 with 2 Axes>"
            ]
          },
          "metadata": {},
          "output_type": "display_data"
        }
      ],
      "source": [
        "# 4. 視覺化混淆矩陣\n",
        "# 記得要先用 .asnumpy() 將矩陣從 GPU 移回 CPU\n",
        "confusion_matrix_np = cp.asnumpy(confusion_matrix_cp)\n",
        "\n",
        "import seaborn as sns\n",
        "import matplotlib.pyplot as plt\n",
        "\n",
        "plt.figure(figsize=(10, 8))\n",
        "sns.heatmap(\n",
        "    confusion_matrix_np,\n",
        "    annot=True,      # 在格子中顯示數字\n",
        "    fmt=\"d\",         # 將數字格式化為整數\n",
        "    cmap=\"Blues\",    # 使用藍色系的色盤\n",
        "    xticklabels=range(num_classes),\n",
        "    yticklabels=range(num_classes),\n",
        ")\n",
        "plt.title(\"Confusion Matrix Heatmap\")\n",
        "plt.xlabel(\"Predicted Label\")\n",
        "plt.ylabel(\"True Label\")\n",
        "plt.show()"
      ]
    },
    {
      "cell_type": "markdown",
      "metadata": {
        "id": "7TeAfHl8CIlU"
      },
      "source": [
        "## Step 4-2: 計算精確率 (Precision) 與召回率 (Recall)"
      ]
    },
    {
      "cell_type": "code",
      "execution_count": 36,
      "metadata": {
        "colab": {
          "base_uri": "https://localhost:8080/"
        },
        "id": "LGvelbCgCF4l",
        "outputId": "e7ee98fa-739e-42a1-8b12-0fdd5f1c7fa3"
      },
      "outputs": [
        {
          "name": "stdout",
          "output_type": "stream",
          "text": [
            "--- Performance Metrics per Class ---\n",
            "數字 '0':\n",
            "  精確率 (Precision): 0.9868\n",
            "  召回率 (Recall):    0.9918\n",
            "數字 '1':\n",
            "  精確率 (Precision): 0.9956\n",
            "  召回率 (Recall):    0.9947\n",
            "數字 '2':\n",
            "  精確率 (Precision): 0.9855\n",
            "  召回率 (Recall):    0.9874\n",
            "數字 '3':\n",
            "  精確率 (Precision): 0.9833\n",
            "  召回率 (Recall):    0.9921\n",
            "數字 '4':\n",
            "  精確率 (Precision): 0.9857\n",
            "  召回率 (Recall):    0.9796\n",
            "數字 '5':\n",
            "  精確率 (Precision): 0.9854\n",
            "  召回率 (Recall):    0.9865\n",
            "數字 '6':\n",
            "  精確率 (Precision): 0.9854\n",
            "  召回率 (Recall):    0.9854\n",
            "數字 '7':\n",
            "  精確率 (Precision): 0.9825\n",
            "  召回率 (Recall):    0.9854\n",
            "數字 '8':\n",
            "  精確率 (Precision): 0.9906\n",
            "  召回率 (Recall):    0.9764\n",
            "數字 '9':\n",
            "  精確率 (Precision): 0.9782\n",
            "  召回率 (Recall):    0.9792\n"
          ]
        }
      ],
      "source": [
        "# 我們直接在 CuPy 陣列上進行計算\n",
        "print(\"--- Performance Metrics per Class ---\")\n",
        "for i in range(num_classes):\n",
        "    true_positives = confusion_matrix_cp[i, i]\n",
        "    # 該 Col 的總和 (所有被預測為 i 的) - TP\n",
        "    false_positives = cp.sum(confusion_matrix_cp[:, i]) - true_positives\n",
        "    # 該 Row 的總和 (所有實際上是 i 的) - TP\n",
        "    false_negatives = cp.sum(confusion_matrix_cp[i, :]) - true_positives\n",
        "\n",
        "    # 計算 Precision 和 Recall\n",
        "    precision = true_positives / (true_positives + false_positives)\n",
        "    recall = true_positives / (true_positives + false_negatives)\n",
        "\n",
        "    print(f\"數字 '{i}':\")\n",
        "    # 使用 .asnumpy() 以便格式化輸出\n",
        "    print(f\"  精確率 (Precision): {cp.asnumpy(precision):.4f}\")\n",
        "    print(f\"  召回率 (Recall):    {cp.asnumpy(recall):.4f}\")"
      ]
    },
    {
      "cell_type": "markdown",
      "metadata": {
        "id": "qepSxv5AGWrr"
      },
      "source": [
        "## Step 4-3: 繪制曲線圖"
      ]
    },
    {
      "cell_type": "code",
      "execution_count": 37,
      "metadata": {
        "colab": {
          "base_uri": "https://localhost:8080/",
          "height": 314
        },
        "id": "XRCxt37aGz_U",
        "outputId": "f3281828-6bb8-4dee-a9dc-3a24c42a0374"
      },
      "outputs": [
        {
          "data": {
            "image/png": "[encoded data removed]",
            "text/plain": [
              "<Figure size 1600x600 with 2 Axes>"
            ]
          },
          "metadata": {},
          "output_type": "display_data"
        }
      ],
      "source": [
        "# 將 CuPy 陣列轉為 NumPy 陣列\n",
        "# 1. 從 history 中取出資料\n",
        "costs_cp = cp.array(history['costs'])\n",
        "accuracies_cp = cp.array(history['accuracies'])\n",
        "\n",
        "# 2. 使用 asnumpy() 轉換\n",
        "costs_np = cp.asnumpy(costs_cp)\n",
        "accuracies_np = cp.asnumpy(accuracies_cp)\n",
        "\n",
        "\n",
        "# 開始繪圖\n",
        "# 建立一個 1x2 的子圖畫布，方便同時顯示兩張圖\n",
        "fig, (ax1, ax2) = plt.subplots(1, 2, figsize=(16, 6))\n",
        "\n",
        "# 設定一個主標題\n",
        "fig.suptitle('CNN Model Learning Curves', fontsize=16)\n",
        "\n",
        "# 圖一：損失 (Loss) vs. 世代 (Epochs)\n",
        "ax1.plot(costs_np, label='Training Loss')\n",
        "ax1.set_title(\"Loss vs. Epochs\")\n",
        "ax1.set_xlabel(\"Epoch\")\n",
        "ax1.set_ylabel(\"Loss\")\n",
        "ax1.grid(True)\n",
        "ax1.legend()\n",
        "\n",
        "# 圖二：準確率 (Accuracy) vs. 世代 (Epochs)\n",
        "ax2.plot(accuracies_np, label='Test Accuracy', color='orange')\n",
        "ax2.set_title(\"Accuracy vs. Epochs\")\n",
        "ax2.set_xlabel(\"Epoch\")\n",
        "ax2.set_ylabel(\"Accuracy\")\n",
        "ax2.grid(True)\n",
        "ax2.legend()\n",
        "\n",
        "# 顯示圖表\n",
        "plt.show()"
      ]
    },
    {
      "cell_type": "markdown",
      "metadata": {
        "id": "iuWq-2MTL0B9"
      },
      "source": [
        "## Step 4-4: 加分：視覺化卷積核 (Visualize Filters)"
      ]
    },
    {
      "cell_type": "code",
      "execution_count": 56,
      "metadata": {
        "colab": {
          "base_uri": "https://localhost:8080/",
          "height": 408
        },
        "id": "eWmJmwmRL0qa",
        "outputId": "81687c2a-6d35-4227-e2c5-b0895bc7b406"
      },
      "outputs": [
        {
          "name": "stdout",
          "output_type": "stream",
          "text": [
            "Loading parameters from my_cnn_model.npz...\n",
            "Parameters loaded successfully.\n",
            "讀取已訓練的 MNIST 模型權重...\n"
          ]
        },
        {
          "data": {
            "image/png": "[encoded data removed]",
            "text/plain": [
              "<Figure size 1200x600 with 32 Axes>"
            ]
          },
          "metadata": {},
          "output_type": "display_data"
        }
      ],
      "source": [
        "trained_parameters = load_parameters(\"my_cnn_model.npz\")\n",
        "if 'trained_parameters' in locals() or 'trained_parameters' in globals():\n",
        "    print(\"讀取已訓練的 MNIST 模型權重...\")\n",
        "\n",
        "    # 1. 從權重字典中取出第一個卷積層的權重 (W_conv)\n",
        "    # 它的 shape 是 (n_filters, C_in, f, f)，在此為 (32, 1, 3, 3)\n",
        "    W_conv_cp = trained_parameters['W_conv']\n",
        "\n",
        "    # 2. 將 CuPy 陣列移至 CPU 並轉為 NumPy 陣列，以便 Matplotlib 處理\n",
        "    W_conv_np = cp.asnumpy(W_conv_cp)\n",
        "\n",
        "    # 3. 設定視覺化圖表\n",
        "    # 我們有 32 個 filters，可以用一個 4x8 的網格來顯示\n",
        "    num_filters = W_conv_np.shape[0]\n",
        "    fig, axes = plt.subplots(4, 8, figsize=(12, 6))\n",
        "\n",
        "    # 設定主標題\n",
        "    fig.suptitle('Visualization of Learned Convolutional Filters (MNIST Model)', fontsize=16)\n",
        "\n",
        "    # 4. 遍歷所有 filters 並在子圖中繪製\n",
        "    for i, ax in enumerate(axes.flat):\n",
        "        # 檢查是否還有 filter 可以顯示\n",
        "        if i < num_filters:\n",
        "            # 取出第 i 個 filter 的權重。\n",
        "            # 由於 MNIST 是灰階，輸入頻道只有 1，所以我們用 [i, 0, :, :]\n",
        "            filt = W_conv_np[i, 0, :, :]\n",
        "\n",
        "            # 使用 imshow 繪製 filter，'gray' 色彩映射適合顯示權重\n",
        "            ax.imshow(filt, cmap='gray')\n",
        "\n",
        "        # 隱藏座標軸刻度，讓圖表更簡潔\n",
        "        ax.set_xticks([])\n",
        "        ax.set_yticks([])\n",
        "\n",
        "    # 調整子圖之間的間距\n",
        "    plt.tight_layout()\n",
        "    # 顯示圖表\n",
        "    plt.show()\n",
        "\n",
        "else:\n",
        "    print(\"錯誤：找不到 'trained_parameters'。請先確定您已成功訓練並載入 MNIST 模型。\")\n"
      ]
    },
    {
      "cell_type": "markdown",
      "metadata": {
        "id": "KNZhNTgvHVva"
      },
      "source": [
        "# Bonus: CIFAR-10"
      ]
    },
    {
      "cell_type": "code",
      "execution_count": 45,
      "metadata": {
        "colab": {
          "base_uri": "https://localhost:8080/"
        },
        "id": "KqbCpvTRGsKQ",
        "outputId": "886061dd-509c-4e38-ce13-f86157d1ee93"
      },
      "outputs": [
        {
          "name": "stdout",
          "output_type": "stream",
          "text": [
            "變數 'train_x' 已刪除。\n",
            "變數 'train_y' 已刪除。\n",
            "變數 'train_x_orig' 已刪除。\n",
            "變數 'train_y_orig' 已刪除。\n",
            "變數 'test_x' 已刪除。\n",
            "變數 'test_y' 已刪除。\n",
            "變數 'test_x_orig' 已刪除。\n",
            "變數 'test_y_orig' 已刪除。\n",
            "變數 'trained_parameters' 已刪除。\n",
            "變數 'test_predictions' 已刪除。\n",
            "變數 'confusion_matrix_cp' 已刪除。\n",
            "\n",
            "CuPy 記憶體池已清空。\n",
            "目前 VRAM 已分配 (Used Bytes): 1670149120 bytes\n",
            "目前 VRAM 總量 (Total Bytes): 3036867584 bytes\n"
          ]
        }
      ],
      "source": [
        "import gc # 引入垃圾回收模組\n",
        "\n",
        "# 刪除所有不再需要的 MNIST 變數\n",
        "mnist_vars_to_delete = [\n",
        "    'train_x', 'train_y', 'train_x_orig', 'train_y_orig',\n",
        "    'test_x', 'test_y', 'test_x_orig', 'test_y_orig',\n",
        "    'trained_parameters',\n",
        "    'test_predictions',\n",
        "    'confusion_matrix_cp'\n",
        "]\n",
        "\n",
        "for var_name in mnist_vars_to_delete:\n",
        "    if var_name in locals() or var_name in globals():\n",
        "        del globals()[var_name]\n",
        "        print(f\"變數 '{var_name}' 已刪除。\")\n",
        "\n",
        "# 強制進行垃圾回收\n",
        "gc.collect()\n",
        "\n",
        "# 清空 CuPy 的記憶體池\n",
        "mempool = cp.get_default_memory_pool()\n",
        "mempool.free_all_blocks()\n",
        "\n",
        "print(\"\\nCuPy 記憶體池已清空。\")\n",
        "print(f\"目前 VRAM 已分配 (Used Bytes): {mempool.used_bytes()} bytes\")\n",
        "print(f\"目前 VRAM 總量 (Total Bytes): {mempool.total_bytes()} bytes\")"
      ]
    },
    {
      "cell_type": "markdown",
      "metadata": {
        "id": "Ou3dUD64Abyj"
      },
      "source": [
        "## Bonus Step 1: 下載並加載 CIFAR-10"
      ]
    },
    {
      "cell_type": "code",
      "execution_count": 38,
      "metadata": {
        "colab": {
          "base_uri": "https://localhost:8080/"
        },
        "id": "s2rO6dcrAi0F",
        "outputId": "2ac8e276-2cd0-4ad0-8035-1e41ea926390"
      },
      "outputs": [
        {
          "name": "stdout",
          "output_type": "stream",
          "text": [
            "--2025-06-21 15:19:58--  https://www.cs.toronto.edu/~kriz/cifar-10-python.tar.gz\n",
            "Resolving www.cs.toronto.edu (www.cs.toronto.edu)... 128.100.3.30\n",
            "Connecting to www.cs.toronto.edu (www.cs.toronto.edu)|128.100.3.30|:443... connected.\n",
            "HTTP request sent, awaiting response... 200 OK\n",
            "Length: 170498071 (163M) [application/x-gzip]\n",
            "Saving to: ‘cifar-10-python.tar.gz’\n",
            "\n",
            "cifar-10-python.tar 100%[===================>] 162.60M  1.05MB/s    in 2m 53s  \n",
            "\n",
            "2025-06-21 15:22:53 (961 KB/s) - ‘cifar-10-python.tar.gz’ saved [170498071/170498071]\n",
            "\n"
          ]
        }
      ],
      "source": [
        "!wget https://www.cs.toronto.edu/~kriz/cifar-10-python.tar.gz"
      ]
    },
    {
      "cell_type": "code",
      "execution_count": 39,
      "metadata": {
        "colab": {
          "base_uri": "https://localhost:8080/"
        },
        "id": "fJS13iaqAnBm",
        "outputId": "974ab999-2595-43b0-f426-de3f65f6dffe"
      },
      "outputs": [
        {
          "name": "stdout",
          "output_type": "stream",
          "text": [
            "cifar-10-batches-py/\n",
            "cifar-10-batches-py/data_batch_4\n",
            "cifar-10-batches-py/readme.html\n",
            "cifar-10-batches-py/test_batch\n",
            "cifar-10-batches-py/data_batch_3\n",
            "cifar-10-batches-py/batches.meta\n",
            "cifar-10-batches-py/data_batch_2\n",
            "cifar-10-batches-py/data_batch_5\n",
            "cifar-10-batches-py/data_batch_1\n"
          ]
        }
      ],
      "source": [
        "!tar zxvf cifar-10-python.tar.gz"
      ]
    },
    {
      "cell_type": "code",
      "execution_count": 40,
      "metadata": {
        "id": "q_VQKj1TBJjZ"
      },
      "outputs": [],
      "source": [
        "import pickle\n",
        "import os"
      ]
    },
    {
      "cell_type": "code",
      "execution_count": 41,
      "metadata": {
        "id": "xC92XBuIA68m"
      },
      "outputs": [],
      "source": [
        "def load_cifa10(root):\n",
        "  def load_batch(filename):\n",
        "      with open(os.path.join(root, filename), 'rb') as f:\n",
        "          # 使用 latin1 編碼來讀取 Python 2 生成的 pickle 檔案\n",
        "          datadict = pickle.load(f, encoding='latin1')\n",
        "          X = datadict['data']\n",
        "          Y = datadict['labels']\n",
        "          # 將資料塑形為 (樣本數, 色彩頻道, 高度, 寬度)\n",
        "          # 原始資料格式為 (N, 3072)，其中 3072 = 3 * 32 * 32\n",
        "          # 儲存順序是 RRR...GGG...BBB...\n",
        "          X = X.reshape(10000, 3, 32, 32)\n",
        "          Y = np.array(Y)\n",
        "          return X, Y\n",
        "\n",
        "  # 載入訓練資料 (共 5 個 batch)\n",
        "  xs, ys = [], []\n",
        "  for i in range(1, 6):\n",
        "      x, y = load_batch(f\"data_batch_{i}\")\n",
        "      xs.append(x)\n",
        "      ys.append(y)\n",
        "\n",
        "  train_x = np.concatenate(xs)\n",
        "  train_y = np.concatenate(ys)\n",
        "\n",
        "  # 載入測試資料\n",
        "  test_x, test_y = load_batch(\"test_batch\")\n",
        "\n",
        "  # 載入類別名稱\n",
        "  with open(os.path.join(root, 'batches.meta'), 'rb') as f:\n",
        "      meta = pickle.load(f, encoding='latin1')\n",
        "      class_names = meta['label_names']\n",
        "\n",
        "  return train_x, train_y, test_x, test_y, class_names"
      ]
    },
    {
      "cell_type": "code",
      "execution_count": 42,
      "metadata": {
        "colab": {
          "base_uri": "https://localhost:8080/"
        },
        "id": "wfrXfLveA1UK",
        "outputId": "fcd82384-05e4-459e-c7e8-dbdc39751bff"
      },
      "outputs": [
        {
          "name": "stdout",
          "output_type": "stream",
          "text": [
            "\n",
            "--- CIFAR-10 資料維度 (NumPy) ---\n",
            "訓練資料 X: (50000, 3, 32, 32)\n",
            "訓練標籤 Y: (50000,)\n",
            "測試資料 X: (10000, 3, 32, 32)\n",
            "測試標籤 Y: (10000,)\n",
            "類別名稱: ['airplane', 'automobile', 'bird', 'cat', 'deer', 'dog', 'frog', 'horse', 'ship', 'truck']\n"
          ]
        }
      ],
      "source": [
        "cifar10_train_x_np, cifar10_train_y_np, cifar10_test_x_np, cifar10_test_y_np, cifar10_class_names = load_cifa10(\"cifar-10-batches-py\")\n",
        "print(\"\\n--- CIFAR-10 資料維度 (NumPy) ---\")\n",
        "print(\"訓練資料 X:\", cifar10_train_x_np.shape)\n",
        "print(\"訓練標籤 Y:\", cifar10_train_y_np.shape)\n",
        "print(\"測試資料 X:\", cifar10_test_x_np.shape)\n",
        "print(\"測試標籤 Y:\", cifar10_test_y_np.shape)\n",
        "print(\"類別名稱:\", cifar10_class_names)"
      ]
    },
    {
      "cell_type": "markdown",
      "metadata": {
        "id": "9bd6DkKhBr1b"
      },
      "source": [
        "## Bonus Step 2: 轉為 CuPy"
      ]
    },
    {
      "cell_type": "code",
      "execution_count": 43,
      "metadata": {
        "colab": {
          "base_uri": "https://localhost:8080/"
        },
        "id": "KmD9LseTCGjR",
        "outputId": "8696ca81-ce6a-426c-c3c6-2855429738cf"
      },
      "outputs": [
        {
          "name": "stdout",
          "output_type": "stream",
          "text": [
            "\n",
            "--- CIFAR-10 資料維度 (CuPy) ---\n",
            "train_x shape: (50000, 3, 32, 32)\n",
            "train_y shape: (50000, 10)\n",
            "test_x shape: (10000, 3, 32, 32)\n",
            "test_y shape: (10000, 10)\n",
            "Data type: <class 'cupy.ndarray'>\n"
          ]
        }
      ],
      "source": [
        "# 將 NumPy 陣列轉換為 CuPy 陣列\n",
        "cifar10_train_x_orig = cp.asarray(cifar10_train_x_np)\n",
        "cifar10_train_y_orig = cp.asarray(cifar10_train_y_np)\n",
        "cifar10_test_x_orig = cp.asarray(cifar10_test_x_np)\n",
        "cifar10_test_y_orig = cp.asarray(cifar10_test_y_np)\n",
        "\n",
        "# --- 正規化 (Normalize) ---\n",
        "# 將像素值從 0-255 正規化到 0-1 之間\n",
        "cifar10_train_x = cifar10_train_x_orig / 255.0\n",
        "cifar10_test_x = cifar10_test_x_orig / 255.0\n",
        "\n",
        "# --- 對 Label 進行 One-Hot Encode ---\n",
        "num_classes_cifar10 = 10\n",
        "cifar10_train_y = one_hot_encode(cifar10_train_y_orig, num_classes_cifar10)\n",
        "cifar10_test_y = one_hot_encode(cifar10_test_y_orig, num_classes_cifar10)\n",
        "\n",
        "print(\"\\n--- CIFAR-10 資料維度 (CuPy) ---\")\n",
        "print(\"train_x shape:\", cifar10_train_x.shape)\n",
        "print(\"train_y shape:\", cifar10_train_y.shape)\n",
        "print(\"test_x shape:\", cifar10_test_x.shape)\n",
        "print(\"test_y shape:\", cifar10_test_y.shape)\n",
        "print(\"Data type:\", type(cifar10_train_x))"
      ]
    },
    {
      "cell_type": "code",
      "execution_count": null,
      "metadata": {
        "id": "tzbLh-BgLtlD"
      },
      "outputs": [],
      "source": []
    },
    {
      "cell_type": "markdown",
      "metadata": {
        "id": "JRQseZGsCOD-"
      },
      "source": [
        "## Bonus Step 3: 訓練"
      ]
    },
    {
      "cell_type": "code",
      "execution_count": null,
      "metadata": {
        "id": "qAn832OhGR6J"
      },
      "outputs": [],
      "source": []
    },
    {
      "cell_type": "code",
      "execution_count": 46,
      "metadata": {
        "colab": {
          "base_uri": "https://localhost:8080/"
        },
        "id": "6WwMHw-WCPl0",
        "outputId": "60d51c6b-3779-42fd-bd23-e89622a8eee5"
      },
      "outputs": [
        {
          "name": "stdout",
          "output_type": "stream",
          "text": [
            "Epoch 1/150 - Cost: 2.072176 - Accuracy: 0.3469 - Time: 10.08s\n",
            "  -> Accuracy improved to 0.3469! Saving model.\n",
            "Epoch 2/150 - Cost: 1.753204 - Accuracy: 0.4441 - Time: 9.98s\n",
            "  -> Accuracy improved to 0.4441! Saving model.\n",
            "Epoch 3/150 - Cost: 1.541613 - Accuracy: 0.4770 - Time: 9.69s\n",
            "  -> Accuracy improved to 0.4770! Saving model.\n",
            "Epoch 4/150 - Cost: 1.422470 - Accuracy: 0.5105 - Time: 9.27s\n",
            "  -> Accuracy improved to 0.5105! Saving model.\n",
            "Epoch 5/150 - Cost: 1.330337 - Accuracy: 0.5092 - Time: 9.34s\n",
            "  -> Accuracy did not improve for 1 epoch(s).\n",
            "Epoch 6/150 - Cost: 1.248691 - Accuracy: 0.5237 - Time: 9.18s\n",
            "  -> Accuracy improved to 0.5237! Saving model.\n",
            "Epoch 7/150 - Cost: 1.158501 - Accuracy: 0.5591 - Time: 9.20s\n",
            "  -> Accuracy improved to 0.5591! Saving model.\n",
            "Epoch 8/150 - Cost: 1.072573 - Accuracy: 0.5901 - Time: 9.22s\n",
            "  -> Accuracy improved to 0.5901! Saving model.\n",
            "Epoch 9/150 - Cost: 1.013198 - Accuracy: 0.5719 - Time: 9.25s\n",
            "  -> Accuracy did not improve for 1 epoch(s).\n",
            "Epoch 10/150 - Cost: 0.944731 - Accuracy: 0.5490 - Time: 9.27s\n",
            "  -> Accuracy did not improve for 2 epoch(s).\n",
            "Epoch 11/150 - Cost: 0.883016 - Accuracy: 0.5827 - Time: 9.27s\n",
            "  -> Accuracy did not improve for 3 epoch(s).\n",
            "Epoch 12/150 - Cost: 0.830277 - Accuracy: 0.5769 - Time: 9.28s\n",
            "  -> Accuracy did not improve for 4 epoch(s).\n",
            "Epoch 13/150 - Cost: 0.776206 - Accuracy: 0.5644 - Time: 9.26s\n",
            "  -> Accuracy did not improve for 5 epoch(s).\n",
            "Epoch 14/150 - Cost: 0.728672 - Accuracy: 0.5807 - Time: 9.26s\n",
            "  -> Accuracy did not improve for 6 epoch(s).\n",
            "Epoch 15/150 - Cost: 0.684573 - Accuracy: 0.5901 - Time: 9.24s\n",
            "  -> Accuracy did not improve for 7 epoch(s).\n",
            "Epoch 16/150 - Cost: 0.624721 - Accuracy: 0.5801 - Time: 9.23s\n",
            "  -> Accuracy did not improve for 8 epoch(s).\n",
            "Epoch 17/150 - Cost: 0.587469 - Accuracy: 0.5757 - Time: 9.23s\n",
            "  -> Accuracy did not improve for 9 epoch(s).\n",
            "Epoch 18/150 - Cost: 0.542030 - Accuracy: 0.5882 - Time: 9.25s\n",
            "  -> Accuracy did not improve for 10 epoch(s).\n",
            "Epoch 19/150 - Cost: 0.508496 - Accuracy: 0.5852 - Time: 9.34s\n",
            "  -> Accuracy did not improve for 11 epoch(s).\n",
            "Epoch 20/150 - Cost: 0.482322 - Accuracy: 0.5689 - Time: 9.25s\n",
            "  -> Accuracy did not improve for 12 epoch(s).\n",
            "Epoch 21/150 - Cost: 0.442902 - Accuracy: 0.5829 - Time: 9.27s\n",
            "  -> Accuracy did not improve for 13 epoch(s).\n",
            "Epoch 22/150 - Cost: 0.412536 - Accuracy: 0.5788 - Time: 9.26s\n",
            "  -> Accuracy did not improve for 14 epoch(s).\n",
            "Epoch 23/150 - Cost: 0.372546 - Accuracy: 0.5764 - Time: 10.03s\n",
            "  -> Accuracy did not improve for 15 epoch(s).\n",
            "\n",
            "Early stopping triggered after 15 epochs with no improvement.\n",
            "Saving parameters to my_cifar10_cnn_model.npz...\n",
            "Parameters saved successfully.\n"
          ]
        }
      ],
      "source": [
        "# 設定超參數\n",
        "LEARNING_RATE_CIFAR = 0.05\n",
        "NUM_EPOCHS_CIFAR = 150 # 增加 Epoch 上限\n",
        "BATCH_SIZE_CIFAR = 128\n",
        "N_FILTERS_CIFAR = 32 # 增加 filter 數量以捕捉更複雜的特徵\n",
        "FILTER_SIZE_CIFAR = 3\n",
        "PATIENCE_CIFAR = 15\n",
        "\n",
        "# 開始訓練\n",
        "cifar10_params, cifar10_history = cnn_model(\n",
        "    cifar10_train_x, cifar10_train_y, cifar10_train_y_orig,\n",
        "    cifar10_test_x, cifar10_test_y_orig,\n",
        "    learning_rate=LEARNING_RATE_CIFAR,\n",
        "    num_epochs=NUM_EPOCHS_CIFAR,\n",
        "    batch_size=BATCH_SIZE_CIFAR,\n",
        "    n_filters=N_FILTERS_CIFAR,\n",
        "    filter_size=FILTER_SIZE_CIFAR,\n",
        "    use_early_stopping=True,\n",
        "    early_stopping_patience=PATIENCE_CIFAR\n",
        ")\n",
        "\n",
        "# 儲存訓練好的 CIFAR-10 模型權重\n",
        "save_parameters(cifar10_params, \"my_cifar10_cnn_model.npz\")"
      ]
    },
    {
      "cell_type": "markdown",
      "metadata": {
        "id": "_UZZKwNvIZz5"
      },
      "source": [
        "## Bonus Step 4: 效能評估"
      ]
    },
    {
      "cell_type": "code",
      "execution_count": 47,
      "metadata": {
        "colab": {
          "base_uri": "https://localhost:8080/"
        },
        "id": "TNTcnEg0HzhF",
        "outputId": "e0de0bb9-0015-46cf-e766-54ffdb0b9cb5"
      },
      "outputs": [
        {
          "name": "stdout",
          "output_type": "stream",
          "text": [
            "Loading parameters from my_cifar10_cnn_model.npz...\n",
            "Parameters loaded successfully.\n"
          ]
        }
      ],
      "source": [
        "cifar10_trained_parameters = load_parameters(\"my_cifar10_cnn_model.npz\")"
      ]
    },
    {
      "cell_type": "code",
      "execution_count": 49,
      "metadata": {
        "colab": {
          "base_uri": "https://localhost:8080/"
        },
        "id": "8b7ueHwuIxIV",
        "outputId": "c7bf1bd7-77a9-498b-eeb1-a863ca902a13"
      },
      "outputs": [
        {
          "name": "stdout",
          "output_type": "stream",
          "text": [
            "在 CIFAR-10 測試集上進行最終預測\n",
            "CIFAR-10 模型最終準確率: 59.01%\n"
          ]
        }
      ],
      "source": [
        "# 1. 進行最終預測\n",
        "print(\"在 CIFAR-10 測試集上進行最終預測\")\n",
        "cifar10_test_predictions = predict(cifar10_test_x, cifar10_trained_parameters)\n",
        "\n",
        "# 2. 確認最終準確率\n",
        "final_accuracy_cifar10 = calculate_accuracy(cifar10_test_predictions, cifar10_test_y_orig)\n",
        "print(f\"CIFAR-10 模型最終準確率: {cp.asnumpy(final_accuracy_cifar10)*100:.2f}%\")"
      ]
    },
    {
      "cell_type": "code",
      "execution_count": 50,
      "metadata": {
        "colab": {
          "base_uri": "https://localhost:8080/",
          "height": 634
        },
        "id": "TlJkvenPI3iG",
        "outputId": "fc1c2836-1bc5-4f27-fdd1-bea1909a2ebd"
      },
      "outputs": [
        {
          "data": {
            "image/png": "[encoded data removed]",
            "text/plain": [
              "<Figure size 1200x1000 with 2 Axes>"
            ]
          },
          "metadata": {},
          "output_type": "display_data"
        }
      ],
      "source": [
        "# 3. 建立混淆矩陣\n",
        "confusion_matrix_cifar10_cp = cp.zeros((num_classes_cifar10, num_classes_cifar10), dtype=int)\n",
        "for i in range(len(cifar10_test_y_orig)):\n",
        "    true_label = cifar10_test_y_orig[i]\n",
        "    predicted_label = cifar10_test_predictions[i]\n",
        "    confusion_matrix_cifar10_cp[true_label, predicted_label] += 1\n",
        "\n",
        "# 4. 視覺化混淆矩陣 (使用類別名稱)\n",
        "confusion_matrix_cifar10_np = cp.asnumpy(confusion_matrix_cifar10_cp)\n",
        "\n",
        "import seaborn as sns\n",
        "import matplotlib.pyplot as plt\n",
        "\n",
        "plt.figure(figsize=(12, 10))\n",
        "sns.heatmap(\n",
        "    confusion_matrix_cifar10_np,\n",
        "    annot=True,\n",
        "    fmt=\"d\",\n",
        "    cmap=\"Blues\",\n",
        "    xticklabels=cifar10_class_names,\n",
        "    yticklabels=cifar10_class_names,\n",
        ")\n",
        "plt.title(\"CIFAR-10 Confusion Matrix Heatmap\")\n",
        "plt.xlabel(\"Predicted Label\")\n",
        "plt.ylabel(\"True Label\")\n",
        "plt.show()"
      ]
    },
    {
      "cell_type": "code",
      "execution_count": 52,
      "metadata": {
        "colab": {
          "base_uri": "https://localhost:8080/"
        },
        "id": "nD5QDz-HI6Ap",
        "outputId": "98f4a877-2fa2-492b-91c7-2e9a8670e8ac"
      },
      "outputs": [
        {
          "name": "stdout",
          "output_type": "stream",
          "text": [
            "\n",
            "--- CIFAR-10 各類別的性能指標 ---\n",
            "類別 'airplane':\n",
            "  精確率 (Precision): 0.6383\n",
            "  召回率 (Recall):    0.6440\n",
            "類別 'automobile':\n",
            "  精確率 (Precision): 0.7225\n",
            "  召回率 (Recall):    0.6950\n",
            "類別 'bird':\n",
            "  精確率 (Precision): 0.5250\n",
            "  召回率 (Recall):    0.4200\n",
            "類別 'cat':\n",
            "  精確率 (Precision): 0.4277\n",
            "  召回率 (Recall):    0.3430\n",
            "類別 'deer':\n",
            "  精確率 (Precision): 0.5254\n",
            "  召回率 (Recall):    0.4870\n",
            "類別 'dog':\n",
            "  精確率 (Precision): 0.4930\n",
            "  召回率 (Recall):    0.5280\n",
            "類別 'frog':\n",
            "  精確率 (Precision): 0.5737\n",
            "  召回率 (Recall):    0.6770\n",
            "類別 'horse':\n",
            "  精確率 (Precision): 0.6308\n",
            "  召回率 (Recall):    0.6850\n",
            "類別 'ship':\n",
            "  精確率 (Precision): 0.6854\n",
            "  召回率 (Recall):    0.7430\n",
            "類別 'truck':\n",
            "  精確率 (Precision): 0.6293\n",
            "  召回率 (Recall):    0.6790\n"
          ]
        }
      ],
      "source": [
        "# 5. 計算精確率與召回率\n",
        "print(\"\\n--- CIFAR-10 各類別的性能指標 ---\")\n",
        "for i in range(num_classes_cifar10):\n",
        "    true_positives = confusion_matrix_cifar10_cp[i, i]\n",
        "    false_positives = cp.sum(confusion_matrix_cifar10_cp[:, i]) - true_positives\n",
        "    false_negatives = cp.sum(confusion_matrix_cifar10_cp[i, :]) - true_positives\n",
        "\n",
        "    precision = true_positives / (true_positives + false_positives + 1e-9) # 避免除以零\n",
        "    recall = true_positives / (true_positives + false_negatives + 1e-9)\n",
        "\n",
        "    print(f\"類別 '{cifar10_class_names[i]}':\")\n",
        "    print(f\"  精確率 (Precision): {cp.asnumpy(precision):.4f}\")\n",
        "    print(f\"  召回率 (Recall):    {cp.asnumpy(recall):.4f}\")"
      ]
    },
    {
      "cell_type": "code",
      "execution_count": 53,
      "metadata": {
        "colab": {
          "base_uri": "https://localhost:8080/",
          "height": 314
        },
        "id": "VAmiPgDHI-z7",
        "outputId": "6eb56caf-b980-46dc-a0d1-cd146a7996c7"
      },
      "outputs": [
        {
          "data": {
            "image/png": "[encoded data removed]",
            "text/plain": [
              "<Figure size 1600x600 with 2 Axes>"
            ]
          },
          "metadata": {},
          "output_type": "display_data"
        }
      ],
      "source": [
        "# 6. 繪製學習曲線\n",
        "costs_cifar10_cp = cp.array(cifar10_history['costs'])\n",
        "accuracies_cifar10_cp = cp.array(cifar10_history['accuracies'])\n",
        "costs_cifar10_np = cp.asnumpy(costs_cifar10_cp)\n",
        "accuracies_cifar10_np = cp.asnumpy(accuracies_cifar10_cp)\n",
        "\n",
        "fig, (ax1, ax2) = plt.subplots(1, 2, figsize=(16, 6))\n",
        "fig.suptitle('CIFAR-10 Model Learning Curves', fontsize=16)\n",
        "\n",
        "ax1.plot(costs_cifar10_np, label='Training Loss')\n",
        "ax1.set_title(\"Loss vs. Epochs\")\n",
        "ax1.set_xlabel(\"Epoch\")\n",
        "ax1.set_ylabel(\"Loss\")\n",
        "ax1.grid(True)\n",
        "ax1.legend()\n",
        "\n",
        "ax2.plot(accuracies_cifar10_np, label='Test Accuracy', color='orange')\n",
        "ax2.set_title(\"Accuracy vs. Epochs\")\n",
        "ax2.set_xlabel(\"Epoch\")\n",
        "ax2.set_ylabel(\"Accuracy\")\n",
        "ax2.grid(True)\n",
        "ax2.legend()\n",
        "\n",
        "plt.show()"
      ]
    },
    {
      "cell_type": "markdown",
      "metadata": {
        "id": "AiQ5FYc1MXtA"
      },
      "source": [
        "## Bonus Step 5: 加分題：視覺化卷積核"
      ]
    },
    {
      "cell_type": "code",
      "execution_count": 6,
      "metadata": {
        "colab": {
          "base_uri": "https://localhost:8080/",
          "height": 408
        },
        "id": "1zXYuCG-MSBn",
        "outputId": "34d793bd-c2f6-4933-ff76-21a95b6ccf48"
      },
      "outputs": [
        {
          "name": "stdout",
          "output_type": "stream",
          "text": [
            "Loading parameters from my_cifar10_cnn_model.npz...\n"
          ]
        },
        {
          "ename": "NameError",
          "evalue": "name 'cp' is not defined",
          "output_type": "error",
          "traceback": [
            "\u001b[31m---------------------------------------------------------------------------\u001b[39m",
            "\u001b[31mNameError\u001b[39m                                 Traceback (most recent call last)",
            "\u001b[36mCell\u001b[39m\u001b[36m \u001b[39m\u001b[32mIn[6]\u001b[39m\u001b[32m, line 1\u001b[39m\n\u001b[32m----> \u001b[39m\u001b[32m1\u001b[39m trained_parameters = \u001b[43mload_parameters\u001b[49m\u001b[43m(\u001b[49m\u001b[33;43m\"\u001b[39;49m\u001b[33;43mmy_cifar10_cnn_model.npz\u001b[39;49m\u001b[33;43m\"\u001b[39;49m\u001b[43m)\u001b[49m\n\u001b[32m      2\u001b[39m \u001b[38;5;28;01mif\u001b[39;00m \u001b[33m'\u001b[39m\u001b[33mtrained_parameters\u001b[39m\u001b[33m'\u001b[39m \u001b[38;5;129;01min\u001b[39;00m \u001b[38;5;28mlocals\u001b[39m() \u001b[38;5;129;01mor\u001b[39;00m \u001b[33m'\u001b[39m\u001b[33mtrained_parameters\u001b[39m\u001b[33m'\u001b[39m \u001b[38;5;129;01min\u001b[39;00m \u001b[38;5;28mglobals\u001b[39m():\n\u001b[32m      3\u001b[39m     \u001b[38;5;28mprint\u001b[39m(\u001b[33m\"\u001b[39m\u001b[33m讀取已訓練的 CIFAR-10 模型權重...\u001b[39m\u001b[33m\"\u001b[39m)\n",
            "\u001b[36mCell\u001b[39m\u001b[36m \u001b[39m\u001b[32mIn[2]\u001b[39m\u001b[32m, line 17\u001b[39m, in \u001b[36mload_parameters\u001b[39m\u001b[34m(filename)\u001b[39m\n\u001b[32m     14\u001b[39m parameters = {}\n\u001b[32m     15\u001b[39m \u001b[38;5;28;01mfor\u001b[39;00m key \u001b[38;5;129;01min\u001b[39;00m npzfile.keys():\n\u001b[32m     16\u001b[39m     \u001b[38;5;66;03m# 使用 cp.asarray() 將 NumPy 陣列轉為 CuPy 陣列\u001b[39;00m\n\u001b[32m---> \u001b[39m\u001b[32m17\u001b[39m     parameters[key] = \u001b[43mcp\u001b[49m.asarray(npzfile[key])\n\u001b[32m     19\u001b[39m \u001b[38;5;28mprint\u001b[39m(\u001b[33m\"\u001b[39m\u001b[33mParameters loaded successfully.\u001b[39m\u001b[33m\"\u001b[39m)\n\u001b[32m     20\u001b[39m \u001b[38;5;28;01mreturn\u001b[39;00m parameters\n",
            "\u001b[31mNameError\u001b[39m: name 'cp' is not defined"
          ]
        }
      ],
      "source": [
        "trained_parameters = load_parameters(\"my_cifar10_cnn_model.npz\")\n",
        "if 'trained_parameters' in locals() or 'trained_parameters' in globals():\n",
        "    print(\"讀取已訓練的 CIFAR-10 模型權重...\")\n",
        "\n",
        "    # 1. 從權重字典中取出第一個卷積層的權重 (W_conv)\n",
        "    W_conv_cp = trained_parameters['W_conv']\n",
        "\n",
        "    # 2. 將 CuPy 陣列移至 CPU 並轉為 NumPy 陣列，以便 Matplotlib 處理\n",
        "    W_conv_np = cp.asnumpy(W_conv_cp)\n",
        "\n",
        "    # 3. 設定視覺化圖表\n",
        "    # 我們有 32 個 filters，可以用一個 4x8 的網格來顯示\n",
        "    num_filters = W_conv_np.shape[0]\n",
        "    fig, axes = plt.subplots(4, 8, figsize=(12, 6))\n",
        "\n",
        "    # 設定主標題\n",
        "    fig.suptitle('Visualization of Learned Convolutional Filters (CIFAR-10)', fontsize=16)\n",
        "\n",
        "    # 4. 遍歷所有 filters 並在子圖中繪製\n",
        "    for i, ax in enumerate(axes.flat):\n",
        "        # 檢查是否還有 filter 可以顯示\n",
        "        if i < num_filters:\n",
        "            # 取出第 i 個 filter 的權重。\n",
        "            # 由於 MNIST 是灰階，輸入頻道只有 1，所以我們用 [i, 0, :, :]\n",
        "            filt = W_conv_np[i, 0, :, :]\n",
        "\n",
        "            # 使用 imshow 繪製 filter，'gray' 色彩映射適合顯示權重\n",
        "            ax.imshow(filt, cmap='gray')\n",
        "\n",
        "        # 隱藏座標軸刻度，讓圖表更簡潔\n",
        "        ax.set_xticks([])\n",
        "        ax.set_yticks([])\n",
        "\n",
        "    # 調整子圖之間的間距\n",
        "    plt.tight_layout()\n",
        "    # 顯示圖表\n",
        "    plt.show()\n",
        "\n",
        "else:\n",
        "    print(\"錯誤：找不到 'trained_parameters'。請先確定您已成功訓練並載入 MNIST 模型。\")\n"
      ]
    },
    {
      "cell_type": "markdown",
      "metadata": {
        "id": "Rihzvu7DCh1L"
      },
      "source": [
        "# Conclusion"
      ]
    },
    {
      "cell_type": "markdown",
      "metadata": {},
      "source": [
        "本次作業成功地從零開始建構了一個功能完整的卷積神經網路，不僅達成了作業 hw4.pdf 的所有基本要求，也完成了加分挑戰項目，從而驗證了對 CNN 核心概念的深入理解 。\n",
        "\n",
        "在 MNIST 資料集上，模型表現出色，達到 98.60% 的高準確率。從學習曲線圖中可以看到，訓練損失穩定下降，而測試準確率則快速上升後趨於平穩，顯示模型有效地學習到了數字特徵。透過視覺化卷積核，可以觀察到模型在第一層學會了辨識數字的基礎筆劃，如邊緣、角落與線條等特徵。此外，提早停止（Early Stopping）機制的導入，成功地在模型性能達到巔峰時結束訓練，有效防止了過擬合。\n",
        "\n",
        "在 CIFAR-10 加分項目中，模型雖然能夠運作，但 59.01% 的準確率遠低於 MNIST 的成果。這符合預期，因為 CIFAR-10 是由更複雜的自然圖像組成 ，其特徵（如紋理、顏色、物體形狀）遠比 MNIST 的單色筆劃複雜。本次實作的淺層 CNN 結構對於捕捉如此複雜的特徵能力有限。儘管準確率不高，但成功將模型拓展至處理 3 通道的彩色圖像，並完成端到端的訓練與評估，本身即證明了模型的擴展性與彈性。\n",
        "\n",
        "總體而言，本次專案最大的收穫在於透過親手打造每一個環節，深刻體會了 CNN 的數學原理與運作流程。從巢狀迴圈到 im2col 的效能最佳化過程，也讓人理解到向量化運算在深度學習中的關鍵性。而 CuPy 的使用，則展示了在不依賴高階框架的前提下，利用 GPU 大幅提升訓練效率的可行性。"
      ]
    }
  ],
  "metadata": {
    "accelerator": "GPU",
    "colab": {
      "gpuType": "T4",
      "provenance": [],
      "toc_visible": true
    },
    "kernelspec": {
      "display_name": ".venv",
      "language": "python",
      "name": "python3"
    },
    "language_info": {
      "codemirror_mode": {
        "name": "ipython",
        "version": 3
      },
      "file_extension": ".py",
      "mimetype": "text/x-python",
      "name": "python",
      "nbconvert_exporter": "python",
      "pygments_lexer": "ipython3",
      "version": "3.13.2"
    }
  },
  "nbformat": 4,
  "nbformat_minor": 0
}
