{
  "cells": [
    {
      "cell_type": "code",
      "execution_count": 1,
      "metadata": {
        "id": "ArpiTrvgaFOy"
      },
      "outputs": [],
      "source": [
        "from enum import Enum\n",
        "# 用 Enum 來表示 Activation Function，只能二擇一\n",
        "class ActivationFunction(Enum):\n",
        "    SIGMOID = 'sigmoid'\n",
        "    RELU = 'relu'"
      ]
    },
    {
      "cell_type": "markdown",
      "metadata": {
        "id": "nmrX2w7oT1b0"
      },
      "source": [
        "# Step 0: 設定參數\n",
        "可以在這裡設定一些 const 的參數值"
      ]
    },
    {
      "cell_type": "code",
      "execution_count": 2,
      "metadata": {
        "id": "Ong7pqlGT0zG"
      },
      "outputs": [],
      "source": [
        "TEST_SPLIT = 0.2 # 分割測試集的比例\n",
        "RANDOM_SEED = 42 # 亂數種子\n",
        "\n",
        "INPUT_SIZE = 8           # 特徵數量 (固定為 8)\n",
        "HIDDEN_SIZE = 16         # 隱藏層大小 (可調整，例如 8, 16, 32)\n",
        "OUTPUT_SIZE = 1          # 輸出層大小 (固定為 1，二元分類)\n",
        "HIDDEN_ACTIVATION = ActivationFunction.RELU # 隱藏層激活函數 (relu 或 sigmoid)\n",
        "EPOCHS = 1500            # 訓練輪數 (可調整，例如 1000, 2000)\n",
        "LEARNING_RATE = 0.01     # 學習率 (可調整，例如 0.1, 0.01, 0.001)\n",
        "VERBOSE_STEP = 100       # 每隔多少輪印出一次損失"
      ]
    },
    {
      "cell_type": "markdown",
      "metadata": {
        "id": "8ABL63usLJOs"
      },
      "source": [
        "# Step 1: Data Processing"
      ]
    },
    {
      "cell_type": "markdown",
      "metadata": {
        "id": "c2b6brXcPSZv"
      },
      "source": [
        "## 1.1 取得資料"
      ]
    },
    {
      "cell_type": "code",
      "execution_count": 3,
      "metadata": {
        "id": "OQLiqfLaNatL"
      },
      "outputs": [
        {
          "name": "stderr",
          "output_type": "stream",
          "text": [
            "d:\\Repos\\nchu-ai-introduction\\.venv\\Lib\\site-packages\\tqdm\\auto.py:21: TqdmWarning: IProgress not found. Please update jupyter and ipywidgets. See https://ipywidgets.readthedocs.io/en/stable/user_install.html\n",
            "  from .autonotebook import tqdm as notebook_tqdm\n"
          ]
        }
      ],
      "source": [
        "import kagglehub"
      ]
    },
    {
      "cell_type": "code",
      "execution_count": 4,
      "metadata": {
        "colab": {
          "base_uri": "https://localhost:8080/",
          "height": 35
        },
        "id": "17GgVcVJNO2r",
        "outputId": "d4be80ef-ace1-4184-f7cf-2bd7d3b64b81"
      },
      "outputs": [
        {
          "data": {
            "text/plain": [
              "'C:\\\\Users\\\\User\\\\.cache\\\\kagglehub\\\\datasets\\\\uciml\\\\pima-indians-diabetes-database\\\\versions\\\\1'"
            ]
          },
          "execution_count": 4,
          "metadata": {},
          "output_type": "execute_result"
        }
      ],
      "source": [
        "path = kagglehub.dataset_download(\"uciml/pima-indians-diabetes-database\")\n",
        "path"
      ]
    },
    {
      "cell_type": "code",
      "execution_count": 5,
      "metadata": {
        "colab": {
          "base_uri": "https://localhost:8080/",
          "height": 206
        },
        "id": "x108wmr-L550",
        "outputId": "e76aebb3-8597-4f86-a7ab-6a46bdd5af94"
      },
      "outputs": [
        {
          "data": {
            "application/vnd.microsoft.datawrangler.viewer.v0+json": {
              "columns": [
                {
                  "name": "index",
                  "rawType": "int64",
                  "type": "integer"
                },
                {
                  "name": "Pregnancies",
                  "rawType": "int64",
                  "type": "integer"
                },
                {
                  "name": "Glucose",
                  "rawType": "int64",
                  "type": "integer"
                },
                {
                  "name": "BloodPressure",
                  "rawType": "int64",
                  "type": "integer"
                },
                {
                  "name": "SkinThickness",
                  "rawType": "int64",
                  "type": "integer"
                },
                {
                  "name": "Insulin",
                  "rawType": "int64",
                  "type": "integer"
                },
                {
                  "name": "BMI",
                  "rawType": "float64",
                  "type": "float"
                },
                {
                  "name": "DiabetesPedigreeFunction",
                  "rawType": "float64",
                  "type": "float"
                },
                {
                  "name": "Age",
                  "rawType": "int64",
                  "type": "integer"
                },
                {
                  "name": "Outcome",
                  "rawType": "int64",
                  "type": "integer"
                }
              ],
              "conversionMethod": "pd.DataFrame",
              "ref": "fdd96477-6cf4-4421-856e-bb9de6c93925",
              "rows": [
                [
                  "0",
                  "6",
                  "148",
                  "72",
                  "35",
                  "0",
                  "33.6",
                  "0.627",
                  "50",
                  "1"
                ],
                [
                  "1",
                  "1",
                  "85",
                  "66",
                  "29",
                  "0",
                  "26.6",
                  "0.351",
                  "31",
                  "0"
                ],
                [
                  "2",
                  "8",
                  "183",
                  "64",
                  "0",
                  "0",
                  "23.3",
                  "0.672",
                  "32",
                  "1"
                ],
                [
                  "3",
                  "1",
                  "89",
                  "66",
                  "23",
                  "94",
                  "28.1",
                  "0.167",
                  "21",
                  "0"
                ],
                [
                  "4",
                  "0",
                  "137",
                  "40",
                  "35",
                  "168",
                  "43.1",
                  "2.288",
                  "33",
                  "1"
                ]
              ],
              "shape": {
                "columns": 9,
                "rows": 5
              }
            },
            "text/html": [
              "<div>\n",
              "<style scoped>\n",
              "    .dataframe tbody tr th:only-of-type {\n",
              "        vertical-align: middle;\n",
              "    }\n",
              "\n",
              "    .dataframe tbody tr th {\n",
              "        vertical-align: top;\n",
              "    }\n",
              "\n",
              "    .dataframe thead th {\n",
              "        text-align: right;\n",
              "    }\n",
              "</style>\n",
              "<table border=\"1\" class=\"dataframe\">\n",
              "  <thead>\n",
              "    <tr style=\"text-align: right;\">\n",
              "      <th></th>\n",
              "      <th>Pregnancies</th>\n",
              "      <th>Glucose</th>\n",
              "      <th>BloodPressure</th>\n",
              "      <th>SkinThickness</th>\n",
              "      <th>Insulin</th>\n",
              "      <th>BMI</th>\n",
              "      <th>DiabetesPedigreeFunction</th>\n",
              "      <th>Age</th>\n",
              "      <th>Outcome</th>\n",
              "    </tr>\n",
              "  </thead>\n",
              "  <tbody>\n",
              "    <tr>\n",
              "      <th>0</th>\n",
              "      <td>6</td>\n",
              "      <td>148</td>\n",
              "      <td>72</td>\n",
              "      <td>35</td>\n",
              "      <td>0</td>\n",
              "      <td>33.6</td>\n",
              "      <td>0.627</td>\n",
              "      <td>50</td>\n",
              "      <td>1</td>\n",
              "    </tr>\n",
              "    <tr>\n",
              "      <th>1</th>\n",
              "      <td>1</td>\n",
              "      <td>85</td>\n",
              "      <td>66</td>\n",
              "      <td>29</td>\n",
              "      <td>0</td>\n",
              "      <td>26.6</td>\n",
              "      <td>0.351</td>\n",
              "      <td>31</td>\n",
              "      <td>0</td>\n",
              "    </tr>\n",
              "    <tr>\n",
              "      <th>2</th>\n",
              "      <td>8</td>\n",
              "      <td>183</td>\n",
              "      <td>64</td>\n",
              "      <td>0</td>\n",
              "      <td>0</td>\n",
              "      <td>23.3</td>\n",
              "      <td>0.672</td>\n",
              "      <td>32</td>\n",
              "      <td>1</td>\n",
              "    </tr>\n",
              "    <tr>\n",
              "      <th>3</th>\n",
              "      <td>1</td>\n",
              "      <td>89</td>\n",
              "      <td>66</td>\n",
              "      <td>23</td>\n",
              "      <td>94</td>\n",
              "      <td>28.1</td>\n",
              "      <td>0.167</td>\n",
              "      <td>21</td>\n",
              "      <td>0</td>\n",
              "    </tr>\n",
              "    <tr>\n",
              "      <th>4</th>\n",
              "      <td>0</td>\n",
              "      <td>137</td>\n",
              "      <td>40</td>\n",
              "      <td>35</td>\n",
              "      <td>168</td>\n",
              "      <td>43.1</td>\n",
              "      <td>2.288</td>\n",
              "      <td>33</td>\n",
              "      <td>1</td>\n",
              "    </tr>\n",
              "  </tbody>\n",
              "</table>\n",
              "</div>"
            ],
            "text/plain": [
              "   Pregnancies  Glucose  BloodPressure  SkinThickness  Insulin   BMI  \\\n",
              "0            6      148             72             35        0  33.6   \n",
              "1            1       85             66             29        0  26.6   \n",
              "2            8      183             64              0        0  23.3   \n",
              "3            1       89             66             23       94  28.1   \n",
              "4            0      137             40             35      168  43.1   \n",
              "\n",
              "   DiabetesPedigreeFunction  Age  Outcome  \n",
              "0                     0.627   50        1  \n",
              "1                     0.351   31        0  \n",
              "2                     0.672   32        1  \n",
              "3                     0.167   21        0  \n",
              "4                     2.288   33        1  "
            ]
          },
          "execution_count": 5,
          "metadata": {},
          "output_type": "execute_result"
        }
      ],
      "source": [
        "import pandas as pd\n",
        "df = pd.read_csv(path + \"/diabetes.csv\")\n",
        "df.head()"
      ]
    },
    {
      "cell_type": "code",
      "execution_count": 6,
      "metadata": {
        "colab": {
          "base_uri": "https://localhost:8080/",
          "height": 320
        },
        "id": "gcBtJpTvQtWl",
        "outputId": "820323b5-83bc-4654-aea6-3c0f103cc3c3"
      },
      "outputs": [
        {
          "data": {
            "application/vnd.microsoft.datawrangler.viewer.v0+json": {
              "columns": [
                {
                  "name": "index",
                  "rawType": "object",
                  "type": "string"
                },
                {
                  "name": "Pregnancies",
                  "rawType": "float64",
                  "type": "float"
                },
                {
                  "name": "Glucose",
                  "rawType": "float64",
                  "type": "float"
                },
                {
                  "name": "BloodPressure",
                  "rawType": "float64",
                  "type": "float"
                },
                {
                  "name": "SkinThickness",
                  "rawType": "float64",
                  "type": "float"
                },
                {
                  "name": "Insulin",
                  "rawType": "float64",
                  "type": "float"
                },
                {
                  "name": "BMI",
                  "rawType": "float64",
                  "type": "float"
                },
                {
                  "name": "DiabetesPedigreeFunction",
                  "rawType": "float64",
                  "type": "float"
                },
                {
                  "name": "Age",
                  "rawType": "float64",
                  "type": "float"
                },
                {
                  "name": "Outcome",
                  "rawType": "float64",
                  "type": "float"
                }
              ],
              "conversionMethod": "pd.DataFrame",
              "ref": "80dcbb97-8cbb-4e40-af78-5f8397fc0670",
              "rows": [
                [
                  "count",
                  "768.0",
                  "768.0",
                  "768.0",
                  "768.0",
                  "768.0",
                  "768.0",
                  "768.0",
                  "768.0",
                  "768.0"
                ],
                [
                  "mean",
                  "3.8450520833333335",
                  "120.89453125",
                  "69.10546875",
                  "20.536458333333332",
                  "79.79947916666667",
                  "31.992578124999998",
                  "0.47187630208333325",
                  "33.240885416666664",
                  "0.3489583333333333"
                ],
                [
                  "std",
                  "3.3695780626988694",
                  "31.97261819513622",
                  "19.355807170644777",
                  "15.952217567727637",
                  "115.24400235133817",
                  "7.884160320375446",
                  "0.3313285950127749",
                  "11.760231540678685",
                  "0.47695137724279896"
                ],
                [
                  "min",
                  "0.0",
                  "0.0",
                  "0.0",
                  "0.0",
                  "0.0",
                  "0.0",
                  "0.078",
                  "21.0",
                  "0.0"
                ],
                [
                  "25%",
                  "1.0",
                  "99.0",
                  "62.0",
                  "0.0",
                  "0.0",
                  "27.3",
                  "0.24375",
                  "24.0",
                  "0.0"
                ],
                [
                  "50%",
                  "3.0",
                  "117.0",
                  "72.0",
                  "23.0",
                  "30.5",
                  "32.0",
                  "0.3725",
                  "29.0",
                  "0.0"
                ],
                [
                  "75%",
                  "6.0",
                  "140.25",
                  "80.0",
                  "32.0",
                  "127.25",
                  "36.6",
                  "0.62625",
                  "41.0",
                  "1.0"
                ],
                [
                  "max",
                  "17.0",
                  "199.0",
                  "122.0",
                  "99.0",
                  "846.0",
                  "67.1",
                  "2.42",
                  "81.0",
                  "1.0"
                ]
              ],
              "shape": {
                "columns": 9,
                "rows": 8
              }
            },
            "text/html": [
              "<div>\n",
              "<style scoped>\n",
              "    .dataframe tbody tr th:only-of-type {\n",
              "        vertical-align: middle;\n",
              "    }\n",
              "\n",
              "    .dataframe tbody tr th {\n",
              "        vertical-align: top;\n",
              "    }\n",
              "\n",
              "    .dataframe thead th {\n",
              "        text-align: right;\n",
              "    }\n",
              "</style>\n",
              "<table border=\"1\" class=\"dataframe\">\n",
              "  <thead>\n",
              "    <tr style=\"text-align: right;\">\n",
              "      <th></th>\n",
              "      <th>Pregnancies</th>\n",
              "      <th>Glucose</th>\n",
              "      <th>BloodPressure</th>\n",
              "      <th>SkinThickness</th>\n",
              "      <th>Insulin</th>\n",
              "      <th>BMI</th>\n",
              "      <th>DiabetesPedigreeFunction</th>\n",
              "      <th>Age</th>\n",
              "      <th>Outcome</th>\n",
              "    </tr>\n",
              "  </thead>\n",
              "  <tbody>\n",
              "    <tr>\n",
              "      <th>count</th>\n",
              "      <td>768.000000</td>\n",
              "      <td>768.000000</td>\n",
              "      <td>768.000000</td>\n",
              "      <td>768.000000</td>\n",
              "      <td>768.000000</td>\n",
              "      <td>768.000000</td>\n",
              "      <td>768.000000</td>\n",
              "      <td>768.000000</td>\n",
              "      <td>768.000000</td>\n",
              "    </tr>\n",
              "    <tr>\n",
              "      <th>mean</th>\n",
              "      <td>3.845052</td>\n",
              "      <td>120.894531</td>\n",
              "      <td>69.105469</td>\n",
              "      <td>20.536458</td>\n",
              "      <td>79.799479</td>\n",
              "      <td>31.992578</td>\n",
              "      <td>0.471876</td>\n",
              "      <td>33.240885</td>\n",
              "      <td>0.348958</td>\n",
              "    </tr>\n",
              "    <tr>\n",
              "      <th>std</th>\n",
              "      <td>3.369578</td>\n",
              "      <td>31.972618</td>\n",
              "      <td>19.355807</td>\n",
              "      <td>15.952218</td>\n",
              "      <td>115.244002</td>\n",
              "      <td>7.884160</td>\n",
              "      <td>0.331329</td>\n",
              "      <td>11.760232</td>\n",
              "      <td>0.476951</td>\n",
              "    </tr>\n",
              "    <tr>\n",
              "      <th>min</th>\n",
              "      <td>0.000000</td>\n",
              "      <td>0.000000</td>\n",
              "      <td>0.000000</td>\n",
              "      <td>0.000000</td>\n",
              "      <td>0.000000</td>\n",
              "      <td>0.000000</td>\n",
              "      <td>0.078000</td>\n",
              "      <td>21.000000</td>\n",
              "      <td>0.000000</td>\n",
              "    </tr>\n",
              "    <tr>\n",
              "      <th>25%</th>\n",
              "      <td>1.000000</td>\n",
              "      <td>99.000000</td>\n",
              "      <td>62.000000</td>\n",
              "      <td>0.000000</td>\n",
              "      <td>0.000000</td>\n",
              "      <td>27.300000</td>\n",
              "      <td>0.243750</td>\n",
              "      <td>24.000000</td>\n",
              "      <td>0.000000</td>\n",
              "    </tr>\n",
              "    <tr>\n",
              "      <th>50%</th>\n",
              "      <td>3.000000</td>\n",
              "      <td>117.000000</td>\n",
              "      <td>72.000000</td>\n",
              "      <td>23.000000</td>\n",
              "      <td>30.500000</td>\n",
              "      <td>32.000000</td>\n",
              "      <td>0.372500</td>\n",
              "      <td>29.000000</td>\n",
              "      <td>0.000000</td>\n",
              "    </tr>\n",
              "    <tr>\n",
              "      <th>75%</th>\n",
              "      <td>6.000000</td>\n",
              "      <td>140.250000</td>\n",
              "      <td>80.000000</td>\n",
              "      <td>32.000000</td>\n",
              "      <td>127.250000</td>\n",
              "      <td>36.600000</td>\n",
              "      <td>0.626250</td>\n",
              "      <td>41.000000</td>\n",
              "      <td>1.000000</td>\n",
              "    </tr>\n",
              "    <tr>\n",
              "      <th>max</th>\n",
              "      <td>17.000000</td>\n",
              "      <td>199.000000</td>\n",
              "      <td>122.000000</td>\n",
              "      <td>99.000000</td>\n",
              "      <td>846.000000</td>\n",
              "      <td>67.100000</td>\n",
              "      <td>2.420000</td>\n",
              "      <td>81.000000</td>\n",
              "      <td>1.000000</td>\n",
              "    </tr>\n",
              "  </tbody>\n",
              "</table>\n",
              "</div>"
            ],
            "text/plain": [
              "       Pregnancies     Glucose  BloodPressure  SkinThickness     Insulin  \\\n",
              "count   768.000000  768.000000     768.000000     768.000000  768.000000   \n",
              "mean      3.845052  120.894531      69.105469      20.536458   79.799479   \n",
              "std       3.369578   31.972618      19.355807      15.952218  115.244002   \n",
              "min       0.000000    0.000000       0.000000       0.000000    0.000000   \n",
              "25%       1.000000   99.000000      62.000000       0.000000    0.000000   \n",
              "50%       3.000000  117.000000      72.000000      23.000000   30.500000   \n",
              "75%       6.000000  140.250000      80.000000      32.000000  127.250000   \n",
              "max      17.000000  199.000000     122.000000      99.000000  846.000000   \n",
              "\n",
              "              BMI  DiabetesPedigreeFunction         Age     Outcome  \n",
              "count  768.000000                768.000000  768.000000  768.000000  \n",
              "mean    31.992578                  0.471876   33.240885    0.348958  \n",
              "std      7.884160                  0.331329   11.760232    0.476951  \n",
              "min      0.000000                  0.078000   21.000000    0.000000  \n",
              "25%     27.300000                  0.243750   24.000000    0.000000  \n",
              "50%     32.000000                  0.372500   29.000000    0.000000  \n",
              "75%     36.600000                  0.626250   41.000000    1.000000  \n",
              "max     67.100000                  2.420000   81.000000    1.000000  "
            ]
          },
          "execution_count": 6,
          "metadata": {},
          "output_type": "execute_result"
        }
      ],
      "source": [
        "df.describe()"
      ]
    },
    {
      "cell_type": "markdown",
      "metadata": {
        "id": "wIF_RqUiPQoo"
      },
      "source": [
        "## 1.2 處理缺失值"
      ]
    },
    {
      "cell_type": "code",
      "execution_count": 7,
      "metadata": {
        "colab": {
          "base_uri": "https://localhost:8080/",
          "height": 366
        },
        "id": "tpppFvJPQ4k3",
        "outputId": "b4318203-ea96-4be1-944f-bf70670f81de"
      },
      "outputs": [
        {
          "data": {
            "text/plain": [
              "Pregnancies                 0\n",
              "Glucose                     0\n",
              "BloodPressure               0\n",
              "SkinThickness               0\n",
              "Insulin                     0\n",
              "BMI                         0\n",
              "DiabetesPedigreeFunction    0\n",
              "Age                         0\n",
              "Outcome                     0\n",
              "dtype: int64"
            ]
          },
          "execution_count": 7,
          "metadata": {},
          "output_type": "execute_result"
        }
      ],
      "source": [
        "df.isnull().sum()"
      ]
    },
    {
      "cell_type": "markdown",
      "metadata": {
        "id": "B1EYc3xmQ6f4"
      },
      "source": [
        "從 `df.describe()` 結果可以看到沒有 null 值  \n",
        "接著處理缺失值直接被填為 0 的情況"
      ]
    },
    {
      "cell_type": "markdown",
      "metadata": {
        "id": "60EpCQHmRPZf"
      },
      "source": [
        "各個 Feature 如下：\n",
        "- Pregnacies 懷孕次數：可能為 0\n",
        "- Glucose：血糖：不可能為 0\n",
        "- BloodPressure 血壓：不可能為 0\n",
        "- SkinThickness 皮膚厚度：不可能為 0\n",
        "- Insulin 胰島素濃度：極罕見情況下才會為 0\n",
        "- BMI：不可能為 0\n",
        "- DiabetesPedigreeFunction 糖尿病家族函數：在 df.describe() 可以看到沒有 0\n",
        "- Age 年齡：這個資料集中最少為 21 歲，df.describe() 中可看到最小是 21 沒有問題"
      ]
    },
    {
      "cell_type": "code",
      "execution_count": 8,
      "metadata": {
        "id": "oz_ONLRpOxUt"
      },
      "outputs": [],
      "source": [
        "# 該處理 0 值的欄位：\n",
        "cols_to_impute = ['Glucose', 'BloodPressure', 'SkinThickness', 'Insulin', 'BMI']\n",
        "for col in cols_to_impute:\n",
        "    # 計算非零值的中位數\n",
        "    median_val = df[df[col] != 0][col].median()\n",
        "    # 將 0 替換為中位數\n",
        "    df[col] = df[col].replace(0, median_val)"
      ]
    },
    {
      "cell_type": "code",
      "execution_count": 9,
      "metadata": {
        "colab": {
          "base_uri": "https://localhost:8080/",
          "height": 320
        },
        "id": "3Rt-3OLNRzc3",
        "outputId": "89974302-53c5-4a39-b20e-1161c5681d31"
      },
      "outputs": [
        {
          "data": {
            "application/vnd.microsoft.datawrangler.viewer.v0+json": {
              "columns": [
                {
                  "name": "index",
                  "rawType": "object",
                  "type": "string"
                },
                {
                  "name": "Pregnancies",
                  "rawType": "float64",
                  "type": "float"
                },
                {
                  "name": "Glucose",
                  "rawType": "float64",
                  "type": "float"
                },
                {
                  "name": "BloodPressure",
                  "rawType": "float64",
                  "type": "float"
                },
                {
                  "name": "SkinThickness",
                  "rawType": "float64",
                  "type": "float"
                },
                {
                  "name": "Insulin",
                  "rawType": "float64",
                  "type": "float"
                },
                {
                  "name": "BMI",
                  "rawType": "float64",
                  "type": "float"
                },
                {
                  "name": "DiabetesPedigreeFunction",
                  "rawType": "float64",
                  "type": "float"
                },
                {
                  "name": "Age",
                  "rawType": "float64",
                  "type": "float"
                },
                {
                  "name": "Outcome",
                  "rawType": "float64",
                  "type": "float"
                }
              ],
              "conversionMethod": "pd.DataFrame",
              "ref": "5b5fca5f-136d-47cf-9ab0-16621b91c4c1",
              "rows": [
                [
                  "count",
                  "768.0",
                  "768.0",
                  "768.0",
                  "768.0",
                  "768.0",
                  "768.0",
                  "768.0",
                  "768.0",
                  "768.0"
                ],
                [
                  "mean",
                  "3.8450520833333335",
                  "121.65625",
                  "72.38671875",
                  "29.108072916666668",
                  "140.671875",
                  "32.45520833333333",
                  "0.47187630208333325",
                  "33.240885416666664",
                  "0.3489583333333333"
                ],
                [
                  "std",
                  "3.3695780626988694",
                  "30.43828582241517",
                  "12.096641733978139",
                  "8.791221023089706",
                  "86.383059693181",
                  "6.875176818080995",
                  "0.3313285950127749",
                  "11.760231540678685",
                  "0.47695137724279896"
                ],
                [
                  "min",
                  "0.0",
                  "44.0",
                  "24.0",
                  "7.0",
                  "14.0",
                  "18.2",
                  "0.078",
                  "21.0",
                  "0.0"
                ],
                [
                  "25%",
                  "1.0",
                  "99.75",
                  "64.0",
                  "25.0",
                  "121.5",
                  "27.5",
                  "0.24375",
                  "24.0",
                  "0.0"
                ],
                [
                  "50%",
                  "3.0",
                  "117.0",
                  "72.0",
                  "29.0",
                  "125.0",
                  "32.3",
                  "0.3725",
                  "29.0",
                  "0.0"
                ],
                [
                  "75%",
                  "6.0",
                  "140.25",
                  "80.0",
                  "32.0",
                  "127.25",
                  "36.6",
                  "0.62625",
                  "41.0",
                  "1.0"
                ],
                [
                  "max",
                  "17.0",
                  "199.0",
                  "122.0",
                  "99.0",
                  "846.0",
                  "67.1",
                  "2.42",
                  "81.0",
                  "1.0"
                ]
              ],
              "shape": {
                "columns": 9,
                "rows": 8
              }
            },
            "text/html": [
              "<div>\n",
              "<style scoped>\n",
              "    .dataframe tbody tr th:only-of-type {\n",
              "        vertical-align: middle;\n",
              "    }\n",
              "\n",
              "    .dataframe tbody tr th {\n",
              "        vertical-align: top;\n",
              "    }\n",
              "\n",
              "    .dataframe thead th {\n",
              "        text-align: right;\n",
              "    }\n",
              "</style>\n",
              "<table border=\"1\" class=\"dataframe\">\n",
              "  <thead>\n",
              "    <tr style=\"text-align: right;\">\n",
              "      <th></th>\n",
              "      <th>Pregnancies</th>\n",
              "      <th>Glucose</th>\n",
              "      <th>BloodPressure</th>\n",
              "      <th>SkinThickness</th>\n",
              "      <th>Insulin</th>\n",
              "      <th>BMI</th>\n",
              "      <th>DiabetesPedigreeFunction</th>\n",
              "      <th>Age</th>\n",
              "      <th>Outcome</th>\n",
              "    </tr>\n",
              "  </thead>\n",
              "  <tbody>\n",
              "    <tr>\n",
              "      <th>count</th>\n",
              "      <td>768.000000</td>\n",
              "      <td>768.000000</td>\n",
              "      <td>768.000000</td>\n",
              "      <td>768.000000</td>\n",
              "      <td>768.000000</td>\n",
              "      <td>768.000000</td>\n",
              "      <td>768.000000</td>\n",
              "      <td>768.000000</td>\n",
              "      <td>768.000000</td>\n",
              "    </tr>\n",
              "    <tr>\n",
              "      <th>mean</th>\n",
              "      <td>3.845052</td>\n",
              "      <td>121.656250</td>\n",
              "      <td>72.386719</td>\n",
              "      <td>29.108073</td>\n",
              "      <td>140.671875</td>\n",
              "      <td>32.455208</td>\n",
              "      <td>0.471876</td>\n",
              "      <td>33.240885</td>\n",
              "      <td>0.348958</td>\n",
              "    </tr>\n",
              "    <tr>\n",
              "      <th>std</th>\n",
              "      <td>3.369578</td>\n",
              "      <td>30.438286</td>\n",
              "      <td>12.096642</td>\n",
              "      <td>8.791221</td>\n",
              "      <td>86.383060</td>\n",
              "      <td>6.875177</td>\n",
              "      <td>0.331329</td>\n",
              "      <td>11.760232</td>\n",
              "      <td>0.476951</td>\n",
              "    </tr>\n",
              "    <tr>\n",
              "      <th>min</th>\n",
              "      <td>0.000000</td>\n",
              "      <td>44.000000</td>\n",
              "      <td>24.000000</td>\n",
              "      <td>7.000000</td>\n",
              "      <td>14.000000</td>\n",
              "      <td>18.200000</td>\n",
              "      <td>0.078000</td>\n",
              "      <td>21.000000</td>\n",
              "      <td>0.000000</td>\n",
              "    </tr>\n",
              "    <tr>\n",
              "      <th>25%</th>\n",
              "      <td>1.000000</td>\n",
              "      <td>99.750000</td>\n",
              "      <td>64.000000</td>\n",
              "      <td>25.000000</td>\n",
              "      <td>121.500000</td>\n",
              "      <td>27.500000</td>\n",
              "      <td>0.243750</td>\n",
              "      <td>24.000000</td>\n",
              "      <td>0.000000</td>\n",
              "    </tr>\n",
              "    <tr>\n",
              "      <th>50%</th>\n",
              "      <td>3.000000</td>\n",
              "      <td>117.000000</td>\n",
              "      <td>72.000000</td>\n",
              "      <td>29.000000</td>\n",
              "      <td>125.000000</td>\n",
              "      <td>32.300000</td>\n",
              "      <td>0.372500</td>\n",
              "      <td>29.000000</td>\n",
              "      <td>0.000000</td>\n",
              "    </tr>\n",
              "    <tr>\n",
              "      <th>75%</th>\n",
              "      <td>6.000000</td>\n",
              "      <td>140.250000</td>\n",
              "      <td>80.000000</td>\n",
              "      <td>32.000000</td>\n",
              "      <td>127.250000</td>\n",
              "      <td>36.600000</td>\n",
              "      <td>0.626250</td>\n",
              "      <td>41.000000</td>\n",
              "      <td>1.000000</td>\n",
              "    </tr>\n",
              "    <tr>\n",
              "      <th>max</th>\n",
              "      <td>17.000000</td>\n",
              "      <td>199.000000</td>\n",
              "      <td>122.000000</td>\n",
              "      <td>99.000000</td>\n",
              "      <td>846.000000</td>\n",
              "      <td>67.100000</td>\n",
              "      <td>2.420000</td>\n",
              "      <td>81.000000</td>\n",
              "      <td>1.000000</td>\n",
              "    </tr>\n",
              "  </tbody>\n",
              "</table>\n",
              "</div>"
            ],
            "text/plain": [
              "       Pregnancies     Glucose  BloodPressure  SkinThickness     Insulin  \\\n",
              "count   768.000000  768.000000     768.000000     768.000000  768.000000   \n",
              "mean      3.845052  121.656250      72.386719      29.108073  140.671875   \n",
              "std       3.369578   30.438286      12.096642       8.791221   86.383060   \n",
              "min       0.000000   44.000000      24.000000       7.000000   14.000000   \n",
              "25%       1.000000   99.750000      64.000000      25.000000  121.500000   \n",
              "50%       3.000000  117.000000      72.000000      29.000000  125.000000   \n",
              "75%       6.000000  140.250000      80.000000      32.000000  127.250000   \n",
              "max      17.000000  199.000000     122.000000      99.000000  846.000000   \n",
              "\n",
              "              BMI  DiabetesPedigreeFunction         Age     Outcome  \n",
              "count  768.000000                768.000000  768.000000  768.000000  \n",
              "mean    32.455208                  0.471876   33.240885    0.348958  \n",
              "std      6.875177                  0.331329   11.760232    0.476951  \n",
              "min     18.200000                  0.078000   21.000000    0.000000  \n",
              "25%     27.500000                  0.243750   24.000000    0.000000  \n",
              "50%     32.300000                  0.372500   29.000000    0.000000  \n",
              "75%     36.600000                  0.626250   41.000000    1.000000  \n",
              "max     67.100000                  2.420000   81.000000    1.000000  "
            ]
          },
          "execution_count": 9,
          "metadata": {},
          "output_type": "execute_result"
        }
      ],
      "source": [
        "df.describe() # 看一下處理完的資料"
      ]
    },
    {
      "cell_type": "markdown",
      "metadata": {
        "id": "grZkgK3fR_N0"
      },
      "source": [
        "## 1.3 分離 feature 與 outcome"
      ]
    },
    {
      "cell_type": "code",
      "execution_count": 10,
      "metadata": {},
      "outputs": [],
      "source": [
        "import numpy as np"
      ]
    },
    {
      "cell_type": "code",
      "execution_count": 11,
      "metadata": {
        "id": "dXEgXEa5R-8w"
      },
      "outputs": [],
      "source": [
        "x = df.drop('Outcome', axis=1).values\n",
        "y = np.array(df['Outcome'].values).reshape(-1, 1) # 確保 y 是 (n_samples, 1) 的形狀"
      ]
    },
    {
      "cell_type": "code",
      "execution_count": 12,
      "metadata": {
        "colab": {
          "base_uri": "https://localhost:8080/"
        },
        "id": "wLlfvbXkSK3D",
        "outputId": "101c80af-53af-48ab-8d3b-7db2d5a85749"
      },
      "outputs": [
        {
          "data": {
            "text/plain": [
              "array([[  6.   , 148.   ,  72.   , ...,  33.6  ,   0.627,  50.   ],\n",
              "       [  1.   ,  85.   ,  66.   , ...,  26.6  ,   0.351,  31.   ],\n",
              "       [  8.   , 183.   ,  64.   , ...,  23.3  ,   0.672,  32.   ],\n",
              "       ...,\n",
              "       [  5.   , 121.   ,  72.   , ...,  26.2  ,   0.245,  30.   ],\n",
              "       [  1.   , 126.   ,  60.   , ...,  30.1  ,   0.349,  47.   ],\n",
              "       [  1.   ,  93.   ,  70.   , ...,  30.4  ,   0.315,  23.   ]],\n",
              "      shape=(768, 8))"
            ]
          },
          "execution_count": 12,
          "metadata": {},
          "output_type": "execute_result"
        }
      ],
      "source": [
        "x"
      ]
    },
    {
      "cell_type": "code",
      "execution_count": 13,
      "metadata": {
        "colab": {
          "base_uri": "https://localhost:8080/"
        },
        "id": "V8iZxIuXSd2M",
        "outputId": "e4d62571-9fce-4ed4-9a69-51d61782bf79"
      },
      "outputs": [
        {
          "data": {
            "text/plain": [
              "array([[1],\n",
              "       [0],\n",
              "       [1],\n",
              "       [0],\n",
              "       [1]])"
            ]
          },
          "execution_count": 13,
          "metadata": {},
          "output_type": "execute_result"
        }
      ],
      "source": [
        "y[:5]"
      ]
    },
    {
      "cell_type": "code",
      "execution_count": 14,
      "metadata": {
        "colab": {
          "base_uri": "https://localhost:8080/"
        },
        "id": "YjklZ1K9SjL_",
        "outputId": "a41f4595-e90f-474a-ceb0-a4cf9ad2c2c4"
      },
      "outputs": [
        {
          "name": "stdout",
          "output_type": "stream",
          "text": [
            "(768, 8)\n",
            "(768, 1)\n"
          ]
        }
      ],
      "source": [
        "print(x.shape)\n",
        "print(y.shape)"
      ]
    },
    {
      "cell_type": "markdown",
      "metadata": {
        "id": "8rLgiGnrSm71"
      },
      "source": [
        "可以看到 X 跟 y 可以一一對應，正確"
      ]
    },
    {
      "cell_type": "markdown",
      "metadata": {
        "id": "2Po-KTLSS72y"
      },
      "source": [
        "## 1.4 打亂資料並分割"
      ]
    },
    {
      "cell_type": "code",
      "execution_count": 15,
      "metadata": {
        "id": "jHNCsybCTFFM"
      },
      "outputs": [],
      "source": [
        "np.random.seed(RANDOM_SEED)\n",
        "indices = np.arange(x.shape[0]) # 產生一個索引列表\n",
        "np.random.shuffle(indices) # 打亂索引列表\n",
        "x = x[indices] # 使用打亂後的索引來排 X\n",
        "y = y[indices] # 使用打亂後的索引來排 y"
      ]
    },
    {
      "cell_type": "code",
      "execution_count": 16,
      "metadata": {
        "id": "EkcJEwvPTb1x"
      },
      "outputs": [],
      "source": [
        "# 分割資料為訓練集和測試集\n",
        "split_idx = int(x.shape[0] * (1 - TEST_SPLIT))\n",
        "X_train, X_test = x[:split_idx], x[split_idx:]\n",
        "y_train, y_test = y[:split_idx], y[split_idx:]"
      ]
    },
    {
      "cell_type": "markdown",
      "metadata": {
        "id": "KgZ2q-EuUQ0q"
      },
      "source": [
        "在分割完資料集以後我們需要把資料進行 Normalize  \n",
        "- 值得注意的是這裡我只使用**訓練集**來計算 min, max，再一起應用到訓練集及測試集\n",
        "- 這樣可以避免資料探勘的常見錯誤：拿未來的資料（測試集的資料我們訓練時不應該知道）來做訓練"
      ]
    },
    {
      "cell_type": "code",
      "execution_count": 17,
      "metadata": {
        "id": "DYgoqAx3UHju"
      },
      "outputs": [],
      "source": [
        "# 標準化 (Min-Max Scaling 到 0-1 的範圍)\n",
        "# 注意：只在訓練集上計算 min 和 max，然後應用到訓練集和測試集\n",
        "min_vals = X_train.min(axis=0)\n",
        "max_vals = X_train.max(axis=0)\n",
        "\n",
        "# 防止除以零\n",
        "range_vals = max_vals - min_vals\n",
        "range_vals[range_vals == 0] = 1 # 如果某特徵所有值都相同時，避免除以零\n",
        "\n",
        "X_train = (X_train - min_vals) / range_vals\n",
        "X_test = (X_test - min_vals) / range_vals # 使用訓練集的 min/max 標準化測試集"
      ]
    },
    {
      "cell_type": "code",
      "execution_count": 18,
      "metadata": {
        "colab": {
          "base_uri": "https://localhost:8080/"
        },
        "id": "-dPOBeW8U1NX",
        "outputId": "16a075bb-66d9-4bd1-d478-6dac5dfc395b"
      },
      "outputs": [
        {
          "name": "stdout",
          "output_type": "stream",
          "text": [
            "資料載入與預處理完成。\n",
            "訓練集大小: 614 樣本\n",
            "測試集大小: 154 樣本\n",
            "特徵數量: 8\n"
          ]
        }
      ],
      "source": [
        "print(\"資料載入與預處理完成。\")\n",
        "print(f\"訓練集大小: {X_train.shape[0]} 樣本\")\n",
        "print(f\"測試集大小: {X_test.shape[0]} 樣本\")\n",
        "print(f\"特徵數量: {X_train.shape[1]}\")"
      ]
    },
    {
      "cell_type": "markdown",
      "metadata": {
        "id": "PMioCygPVJQN"
      },
      "source": [
        "# Step 2 + 3: Build Neural Network & Training Loop\n",
        "這一步我們創建一個 SimpleANN，並且把 Training 實作在 Class 裡"
      ]
    },
    {
      "cell_type": "markdown",
      "metadata": {
        "id": "fJJypDJ6YOAz"
      },
      "source": [
        "## 2.1 Activation Function"
      ]
    },
    {
      "cell_type": "code",
      "execution_count": 19,
      "metadata": {
        "id": "Vo_xDVEUYTiZ"
      },
      "outputs": [],
      "source": [
        "def sigmoid(x):\n",
        "    \"\"\"Sigmoid activation function\"\"\"\n",
        "    # 防止 overflow\n",
        "    x = np.clip(x, -500, 500)\n",
        "    return 1 / (1 + np.exp(-x))\n",
        "\n",
        "def sigmoid_derivative(x):\n",
        "    \"\"\"Sigmoid activation function 的 derivative\"\"\"\n",
        "    s = sigmoid(x)\n",
        "    return s * (1 - s)\n",
        "\n",
        "def relu(x):\n",
        "    \"\"\"ReLU activation function\"\"\"\n",
        "    return np.maximum(0, x)\n",
        "\n",
        "def relu_derivative(x):\n",
        "    \"\"\"ReLU activation function 的 derivative\"\"\"\n",
        "    return np.where(x > 0, 1, 0)"
      ]
    },
    {
      "cell_type": "markdown",
      "metadata": {
        "id": "YRVNoofDZc7g"
      },
      "source": [
        "## 2.2 Loss Function"
      ]
    },
    {
      "cell_type": "code",
      "execution_count": 20,
      "metadata": {
        "id": "gKBGoWfaZetO"
      },
      "outputs": [],
      "source": [
        "def square_error_loss(y_true, y_pred):\n",
        "    \"\"\"平方誤差損失函數\"\"\"\n",
        "    return 0.5 * np.mean((y_pred - y_true)**2)\n",
        "\n",
        "def square_error_loss_derivative(y_true, y_pred):\n",
        "    \"\"\"平方誤差損失函數的導數\"\"\"\n",
        "    return y_pred - y_true"
      ]
    },
    {
      "cell_type": "markdown",
      "metadata": {
        "id": "Uh2fI7IiYmR8"
      },
      "source": [
        "## 2.3 實作 SimpleANN Class"
      ]
    },
    {
      "cell_type": "code",
      "execution_count": 21,
      "metadata": {},
      "outputs": [],
      "source": [
        "import time"
      ]
    },
    {
      "cell_type": "code",
      "execution_count": 22,
      "metadata": {
        "id": "SylSHoAzVYaf"
      },
      "outputs": [],
      "source": [
        "class SimpleANN:\n",
        "    \"\"\"\n",
        "    一個簡單的 NumPy 實現的 ANN。\n",
        "    \"\"\"\n",
        "\n",
        "    def __init__(\n",
        "        self,\n",
        "        input_size,\n",
        "        hidden_size,\n",
        "        output_size,\n",
        "        hidden_activation: ActivationFunction = ActivationFunction.RELU,\n",
        "        seed=42,\n",
        "    ):\n",
        "        \"\"\"\n",
        "        初始化神經網路。\n",
        "\n",
        "        Args:\n",
        "            input_size (int): 輸入層神經元數量 (特徵數)。\n",
        "            hidden_size (int): 隱藏層神經元數量。\n",
        "            output_size (int): 輸出層神經元數量 (通常為 1 用於二元分類)。\n",
        "            hidden_activation (str): 隱藏層激活函數 (relu 或 sigmoid)，是 Enum。\n",
        "            seed (int): 權重初始化的隨機種子。\n",
        "        \"\"\"\n",
        "\n",
        "        self.input_size = input_size\n",
        "        self.hidden_size = hidden_size\n",
        "        self.output_size = output_size\n",
        "        self.seed = seed\n",
        "        np.random.seed(self.seed)\n",
        "\n",
        "        # 權重初始化 (Xavier/Glorot initialization 變體)\n",
        "        # 這有助於防止梯度消失或爆炸\n",
        "        limit_w1 = np.sqrt(6.0 / (input_size + hidden_size))\n",
        "        self.W1 = np.random.uniform(-limit_w1, limit_w1, (self.input_size, self.hidden_size))\n",
        "        self.b1 = np.zeros((1, self.hidden_size))  # 初始化 bias 為 0\n",
        "\n",
        "        limit_w2 = np.sqrt(6.0 / (hidden_size + output_size))\n",
        "        self.W2 = np.random.uniform(-limit_w2, limit_w2, (self.hidden_size, self.output_size))\n",
        "        self.b2 = np.zeros((1, self.output_size))  # 初始化 bias 為 0\n",
        "\n",
        "        # 選擇隱藏層 Activation Function\n",
        "        if hidden_activation == ActivationFunction.RELU:\n",
        "            self.hidden_activation = relu\n",
        "            self.hidden_activation_derivative = relu_derivative\n",
        "        elif hidden_activation == ActivationFunction.SIGMOID:\n",
        "            self.hidden_activation = sigmoid\n",
        "            self.hidden_activation_derivative = sigmoid_derivative\n",
        "        else:\n",
        "            raise ValueError(\"隱藏層激活函數必須是 ActivationFunction.RELU \" + \"或 ActivationFunction.SIGMOID\")\n",
        "\n",
        "        # 輸出層固定使用 Sigmoid\n",
        "        self.output_activation = sigmoid\n",
        "        self.output_activation_derivative = sigmoid_derivative\n",
        "\n",
        "        print(\"神經網路初始化完成:\")\n",
        "        print(f\"  - 輸入層大小: {input_size}\")\n",
        "        print(f\"  - 隱藏層大小: {hidden_size}\")\n",
        "        print(f\"  - 輸出層大小: {output_size}\")\n",
        "        print(f\"  - 隱藏層激活函數: {hidden_activation}\")\n",
        "        print(\"  - 輸出層激活函數: sigmoid\")\n",
        "\n",
        "    def forward(self, X):  # noqa: N803\n",
        "        \"\"\"\n",
        "        執行前向傳播。\n",
        "\n",
        "        Args:\n",
        "            X (np.ndarray): 輸入資料，形狀為 (n_samples, input_size)。\n",
        "\n",
        "        Returns:\n",
        "            tuple: (hidden_layer_output, final_output)\n",
        "                    包含隱藏層和輸出層的輸出。\n",
        "        \"\"\"\n",
        "        # 輸入層到隱藏層\n",
        "        self.z1 = X @ self.W1 + self.b1\n",
        "        self.a1 = self.hidden_activation(self.z1)\n",
        "\n",
        "        # 隱藏層到輸出層\n",
        "        self.z2 = self.a1 @ self.W2 + self.b2\n",
        "        self.a2 = self.output_activation(self.z2)  # 最終輸出\n",
        "\n",
        "        return self.a1, self.a2\n",
        "\n",
        "    def backward(self, X, y_true, y_pred):  # noqa: N803\n",
        "        \"\"\"\n",
        "        執行反向傳播並計算梯度。\n",
        "\n",
        "        Args:\n",
        "            X (np.ndarray): 單個輸入樣本，形狀為 (1, input_size)。\n",
        "            y_true (np.ndarray): 單個真實標籤，形狀為 (1, output_size)。\n",
        "            y_pred (np.ndarray): 單個預測輸出，形狀為 (1, output_size)。\n",
        "\n",
        "        Returns:\n",
        "            tuple: (dW1, db1, dW2, db2)\n",
        "                    權重和偏置的梯度。\n",
        "        \"\"\"\n",
        "        # 計算輸出層的誤差和梯度\n",
        "        # 損失函數對輸出層激活值的導數 * 輸出層激活函數對其輸入的導數\n",
        "        delta_output = square_error_loss_derivative(y_true, y_pred) * self.output_activation_derivative(self.z2)\n",
        "        # (1, output_size)\n",
        "\n",
        "        # 計算隱藏層的誤差和梯度\n",
        "        # 輸出層誤差 @ W2 的轉置 * 隱藏層激活函數對其輸入的導數\n",
        "        delta_hidden = (delta_output @ self.W2.T) * self.hidden_activation_derivative(self.z1)\n",
        "        # (1, hidden_size)\n",
        "\n",
        "        # 計算權重和偏置的梯度\n",
        "        # 梯度 = 上一層的激活值轉置 @ 當前層的誤差\n",
        "        dW2 = self.a1.T @ delta_output  # noqa: N806\n",
        "        # (hidden_size, 1) @ (1, output_size) -> (hidden_size, output_size)\n",
        "        db2 = np.sum(delta_output, axis=0, keepdims=True)  # (1, output_size)\n",
        "\n",
        "        dW1 = X.T @ delta_hidden  # (input_size, 1) @ (1, hidden_size) -> (input_size, hidden_size)  # noqa: N806\n",
        "        db1 = np.sum(delta_hidden, axis=0, keepdims=True)  # (1, hidden_size)\n",
        "\n",
        "        return dW1, db1, dW2, db2\n",
        "\n",
        "    def update_weights(self, dW1, db1, dW2, db2, learning_rate):  # noqa: N803\n",
        "        \"\"\"\n",
        "        使用 SGD 更新 weight 和 bias。\n",
        "\n",
        "        Args:\n",
        "            dW1, db1, dW2, db2: 梯度。\n",
        "            learning_rate (float): 學習率。\n",
        "        \"\"\"\n",
        "        self.W1 -= learning_rate * dW1\n",
        "        self.b1 -= learning_rate * db1\n",
        "        self.W2 -= learning_rate * dW2\n",
        "        self.b2 -= learning_rate * db2\n",
        "\n",
        "    def train(self, X_train, y_train, epochs, learning_rate, verbose=100):  # noqa: N803\n",
        "        \"\"\"\n",
        "        訓練神經網路。\n",
        "\n",
        "        Args:\n",
        "            X_train (np.ndarray): 訓練特徵。\n",
        "            y_train (np.ndarray): 訓練標籤。\n",
        "            epochs (int): 訓練的輪數。\n",
        "            learning_rate (float): 學習率。\n",
        "            verbose (int): 每隔多少輪印出一次損失。\n",
        "\n",
        "        Returns:\n",
        "            list: 每輪的平均損失列表。\n",
        "        \"\"\"\n",
        "        start_time = time.time()\n",
        "        losses = []\n",
        "        n_samples = X_train.shape[0]\n",
        "\n",
        "        print(\"\\n開始訓練...\")\n",
        "        print(f\"  - Epochs: {epochs}\")\n",
        "        print(f\"  - Learning Rate: {learning_rate}\")\n",
        "        print(f\"  - 訓練樣本數: {n_samples}\")\n",
        "\n",
        "        for epoch in range(epochs):\n",
        "            epoch_loss = 0\n",
        "            # --- SGD: 遍歷每個樣本 ---\n",
        "            for i in range(n_samples):\n",
        "                # 獲取單個樣本，並確保其形狀正確 (1, n_features)\n",
        "                x_sample = X_train[i : i + 1, :]\n",
        "                y_sample = y_train[i : i + 1, :]\n",
        "\n",
        "                # 1. 前向傳播\n",
        "                _, y_pred = self.forward(x_sample)\n",
        "\n",
        "                # 2. 計算損失 (僅用於記錄，梯度計算在 backward 中)\n",
        "                loss = square_error_loss(y_sample, y_pred)\n",
        "                epoch_loss += loss\n",
        "\n",
        "                # 3. 反向傳播\n",
        "                dW1, db1, dW2, db2 = self.backward(x_sample, y_sample, y_pred)  # noqa: N806\n",
        "\n",
        "                # 4. 更新權重 (SGD)\n",
        "                self.update_weights(dW1, db1, dW2, db2, learning_rate)\n",
        "            # --- SGD 結束 ---\n",
        "\n",
        "            # 計算並記錄該 epoch 的平均損失\n",
        "            average_epoch_loss = epoch_loss / n_samples\n",
        "            losses.append(average_epoch_loss)\n",
        "\n",
        "            # print 進度\n",
        "            if (epoch + 1) % verbose == 0 or epoch == 0:\n",
        "                print(f\"Epoch {epoch + 1}/{epochs}, 平均損失: {average_epoch_loss:.6f}\")\n",
        "\n",
        "        end_time = time.time()\n",
        "        print(f\"訓練完成。總耗時: {end_time - start_time:.2f} 秒\")\n",
        "        return losses\n",
        "\n",
        "    def predict(self, x):\n",
        "        \"\"\"\n",
        "        使用訓練好的模型進行預測。\n",
        "\n",
        "        Args:\n",
        "            x (np.ndarray): 輸入資料。\n",
        "\n",
        "        Returns:\n",
        "            np.ndarray: 二元預測結果 (0 或 1)。\n",
        "        \"\"\"\n",
        "        _, final_output = self.forward(x)\n",
        "        # 將 Sigmoid 輸出轉換為二元預測 (閾值為 0.5)\n",
        "        predictions = (final_output > 0.5).astype(int)\n",
        "        return predictions\n",
        "\n",
        "    def evaluate(self, X_test, y_test):  # noqa: N803\n",
        "        \"\"\"\n",
        "        在測試集上評估模型性能。\n",
        "\n",
        "        Args:\n",
        "            X_test (np.ndarray): 測試特徵。\n",
        "            y_test (np.ndarray): 測試標籤。\n",
        "\n",
        "        Returns:\n",
        "            tuple: (accuracy, confusion_matrix)\n",
        "                準確率和混淆矩陣。\n",
        "        \"\"\"\n",
        "        predictions = self.predict(X_test)\n",
        "        accuracy = np.mean(predictions == y_test)\n",
        "\n",
        "        # 計算 confusion matrix\n",
        "        tp = np.sum((predictions == 1) & (y_test == 1))\n",
        "        tn = np.sum((predictions == 0) & (y_test == 0))\n",
        "        fp = np.sum((predictions == 1) & (y_test == 0))\n",
        "        fn = np.sum((predictions == 0) & (y_test == 1))\n",
        "\n",
        "        confusion_matrix = np.array([[tn, fp], [fn, tp]])\n",
        "\n",
        "        print(\"\\n模型評估結果:\")\n",
        "        print(f\"  - 測試集準確率: {accuracy:.4f}\")\n",
        "        print(f\"  - 混淆矩陣:\\n{confusion_matrix}\")\n",
        "        print(f\"    - True Negatives (TN): {tn}\")\n",
        "        print(f\"    - False Positives (FP): {fp}\")\n",
        "        print(f\"    - False Negatives (FN): {fn}\")\n",
        "        print(f\"    - True Positives (TP): {tp}\")\n",
        "\n",
        "        return accuracy, confusion_matrix"
      ]
    },
    {
      "cell_type": "markdown",
      "metadata": {
        "id": "Flum29LbaxA2"
      },
      "source": [
        "# Step 3: Evaluation\n",
        "註：Training 的實作已與 Step 2 一起寫在 Class 中，這邊只進行呼叫訓練的操作"
      ]
    },
    {
      "cell_type": "code",
      "execution_count": 23,
      "metadata": {
        "colab": {
          "base_uri": "https://localhost:8080/"
        },
        "id": "KeAniLN_KxXq",
        "outputId": "98f098bc-2dea-457f-9a68-e38cff932363"
      },
      "outputs": [
        {
          "name": "stdout",
          "output_type": "stream",
          "text": [
            "神經網路初始化完成:\n",
            "  - 輸入層大小: 8\n",
            "  - 隱藏層大小: 16\n",
            "  - 輸出層大小: 1\n",
            "  - 隱藏層激活函數: ActivationFunction.RELU\n",
            "  - 輸出層激活函數: sigmoid\n"
          ]
        }
      ],
      "source": [
        "model = SimpleANN(input_size=INPUT_SIZE,\n",
        "            hidden_size=HIDDEN_SIZE,\n",
        "            output_size=OUTPUT_SIZE,\n",
        "            hidden_activation=HIDDEN_ACTIVATION,\n",
        "            seed=RANDOM_SEED)"
      ]
    },
    {
      "cell_type": "code",
      "execution_count": 24,
      "metadata": {
        "colab": {
          "base_uri": "https://localhost:8080/"
        },
        "id": "qXQaWBQTKz0j",
        "outputId": "15b4d8f8-156d-4299-d169-269e1702a106"
      },
      "outputs": [
        {
          "name": "stdout",
          "output_type": "stream",
          "text": [
            "\n",
            "開始訓練...\n",
            "  - Epochs: 1500\n",
            "  - Learning Rate: 0.01\n",
            "  - 訓練樣本數: 614\n",
            "Epoch 1/1500, 平均損失: 0.120933\n",
            "Epoch 100/1500, 平均損失: 0.074983\n",
            "Epoch 200/1500, 平均損失: 0.073965\n",
            "Epoch 300/1500, 平均損失: 0.072848\n",
            "Epoch 400/1500, 平均損失: 0.071801\n",
            "Epoch 500/1500, 平均損失: 0.070995\n",
            "Epoch 600/1500, 平均損失: 0.070316\n",
            "Epoch 700/1500, 平均損失: 0.069818\n",
            "Epoch 800/1500, 平均損失: 0.069477\n",
            "Epoch 900/1500, 平均損失: 0.069250\n",
            "Epoch 1000/1500, 平均損失: 0.069071\n",
            "Epoch 1100/1500, 平均損失: 0.068835\n",
            "Epoch 1200/1500, 平均損失: 0.068674\n",
            "Epoch 1300/1500, 平均損失: 0.068566\n",
            "Epoch 1400/1500, 平均損失: 0.068467\n",
            "Epoch 1500/1500, 平均損失: 0.068418\n",
            "訓練完成。總耗時: 55.31 秒\n"
          ]
        }
      ],
      "source": [
        "# 訓練模型\n",
        "losses = model.train(X_train, y_train, epochs=EPOCHS, learning_rate=LEARNING_RATE, verbose=VERBOSE_STEP)"
      ]
    },
    {
      "cell_type": "code",
      "execution_count": 25,
      "metadata": {
        "colab": {
          "base_uri": "https://localhost:8080/",
          "height": 564
        },
        "id": "4OuA6c7DdZSJ",
        "outputId": "3878a8c5-c5bb-48a7-d5e2-d6718edd836e"
      },
      "outputs": [
        {
          "data": {
            "image/png": "[encoded data removed]",
            "text/plain": [
              "<Figure size 1000x600 with 1 Axes>"
            ]
          },
          "metadata": {},
          "output_type": "display_data"
        }
      ],
      "source": [
        "# 繪製 loss vs. epoch\n",
        "from matplotlib import pyplot as plt\n",
        "plt.figure(figsize=(10, 6))\n",
        "plt.plot(range(1, EPOCHS + 1), losses)\n",
        "plt.xlabel(\"Epoch\")\n",
        "plt.ylabel(\"Average Square Error Loss\")\n",
        "plt.title(\"Loss Curve\")\n",
        "plt.grid(True)\n",
        "plt.show()"
      ]
    },
    {
      "cell_type": "markdown",
      "metadata": {
        "id": "ihESQfhOdFoV"
      },
      "source": [
        "# Step 4: Evaluation"
      ]
    },
    {
      "cell_type": "code",
      "execution_count": 26,
      "metadata": {
        "colab": {
          "base_uri": "https://localhost:8080/"
        },
        "id": "R-bBsVZSba6N",
        "outputId": "86856f4f-c3fd-48cf-b09f-0b7670f894f2"
      },
      "outputs": [
        {
          "name": "stdout",
          "output_type": "stream",
          "text": [
            "\n",
            "模型評估結果:\n",
            "  - 測試集準確率: 0.7792\n",
            "  - 混淆矩陣:\n",
            "[[83 13]\n",
            " [21 37]]\n",
            "    - True Negatives (TN): 83\n",
            "    - False Positives (FP): 13\n",
            "    - False Negatives (FN): 21\n",
            "    - True Positives (TP): 37\n"
          ]
        }
      ],
      "source": [
        "accuracy, confusion_mat = model.evaluate(X_test, y_test)"
      ]
    },
    {
      "cell_type": "code",
      "execution_count": 28,
      "metadata": {
        "colab": {
          "base_uri": "https://localhost:8080/"
        },
        "id": "F_yv1G0ZeB8K",
        "outputId": "bd04da6a-3824-45b5-af2d-41c54de605b1"
      },
      "outputs": [
        {
          "name": "stdout",
          "output_type": "stream",
          "text": [
            "最終 Weights:\n",
            "W1 (Input -> Hidden):\n",
            " [[-0.25741404  0.60069728  0.21440997 -0.42379298  0.086695   -0.34400548\n",
            "  -1.74363813  0.17807147  0.09287509  0.59019976 -0.47941551  0.90389712\n",
            "   0.84638356 -0.28766089 -1.03633838 -0.31627978]\n",
            " [-0.19654201 -0.00931814 -0.72662162 -0.8675841   0.12609567 -0.36050614\n",
            "   0.66263342 -0.39880344 -0.05107465  0.4876268  -0.30032622  0.4195509\n",
            "   0.45504173 -0.45354959  0.91121065 -0.33806347]\n",
            " [-0.77157299  0.46021188  0.22083237  0.81944459 -0.27301264 -0.40232789\n",
            "   0.01511544  0.14796978 -0.39820967  0.00505847 -0.46561148  0.3161549\n",
            "  -0.14036066  0.16252228 -0.24637666  0.02033175]\n",
            " [-0.42263687 -0.37219503  1.4651971   0.35595754  0.52014502  0.39482735\n",
            "   0.24193511  0.40418033 -0.41158444  0.23756619 -0.45477271  0.38187806\n",
            "   0.51132434 -0.22865097  0.31337502 -0.1417006 ]\n",
            " [-2.20543495 -0.21231267 -1.04403609  0.13609958 -0.5709749   0.48688694\n",
            "   0.25049193 -0.23659268 -0.49484632 -0.57550863  0.20685734 -0.78133004\n",
            "  -0.74563749 -0.42595535 -0.61583613 -0.38313694]\n",
            " [ 0.44622995 -0.02322995 -0.99596078 -0.13591232 -0.24688819 -0.17481668\n",
            "   0.29061237 -0.11032765  0.36085847  0.47159579 -0.38040575  0.70642686\n",
            "   0.81028029  0.0612772   0.31528508  0.00660041]\n",
            " [-0.46068974 -0.05145953 -1.7713426  -1.10807808 -0.51437547  0.13641041\n",
            "  -0.82000613 -0.15779313  0.44977067 -0.25110125 -0.08961708  0.25187121\n",
            "  -0.22991178 -0.42302009 -0.22406465 -0.34503545]\n",
            " [ 2.81072374  0.38853501  0.06057336 -1.4000801   0.48828698 -0.31342994\n",
            "   1.05625322 -0.21815191  0.27407022  0.91098411 -0.18199653  0.2845261\n",
            "   0.41966169 -0.07289221  0.58219181  0.35547229]]\n",
            "b1 (Hidden Bias):\n",
            " [[-0.00242864 -0.06474897  0.74279499  1.16425757 -0.13492469  0.\n",
            "  -0.06172456  0.36641835  0.01062365 -0.06341467  0.         -0.24824213\n",
            "  -0.02894696  0.         -0.0183945   0.00653713]]\n",
            "W2 (Hidden -> Output):\n",
            " [[-3.34886373]\n",
            " [ 0.52054996]\n",
            " [-2.33908623]\n",
            " [-1.76858693]\n",
            " [-0.74581054]\n",
            " [-0.19294193]\n",
            " [ 1.93645543]\n",
            " [-0.32322734]\n",
            " [-0.11351547]\n",
            " [ 0.8865093 ]\n",
            " [-0.16203218]\n",
            " [ 1.00650066]\n",
            " [ 1.12127219]\n",
            " [-0.29492658]\n",
            " [ 1.3135932 ]\n",
            " [-0.24667669]]\n",
            "b2 (Output Bias):\n",
            " [[-1.14900166]]\n"
          ]
        }
      ],
      "source": [
        "print(\"最終 Weights:\")\n",
        "print(\"W1 (Input -> Hidden):\\n\", model.W1)\n",
        "print(\"b1 (Hidden Bias):\\n\", model.b1)\n",
        "print(\"W2 (Hidden -> Output):\\n\", model.W2)\n",
        "print(\"b2 (Output Bias):\\n\", model.b2)"
      ]
    },
    {
      "cell_type": "code",
      "execution_count": null,
      "metadata": {},
      "outputs": [],
      "source": []
    }
  ],
  "metadata": {
    "colab": {
      "provenance": []
    },
    "kernelspec": {
      "display_name": ".venv",
      "language": "python",
      "name": "python3"
    },
    "language_info": {
      "codemirror_mode": {
        "name": "ipython",
        "version": 3
      },
      "file_extension": ".py",
      "mimetype": "text/x-python",
      "name": "python",
      "nbconvert_exporter": "python",
      "pygments_lexer": "ipython3",
      "version": "3.13.2"
    }
  },
  "nbformat": 4,
  "nbformat_minor": 0
}
